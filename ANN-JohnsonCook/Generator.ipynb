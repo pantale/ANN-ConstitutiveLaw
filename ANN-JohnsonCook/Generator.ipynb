{
 "cells": [
  {
   "cell_type": "markdown",
   "id": "funny-promotion",
   "metadata": {},
   "source": [
    "# Constitutive Law data generator"
   ]
  },
  {
   "cell_type": "markdown",
   "id": "alien-learning",
   "metadata": {},
   "source": [
    "To allow inline pictures, run the following block"
   ]
  },
  {
   "cell_type": "code",
   "execution_count": 1,
   "id": "derived-frederick",
   "metadata": {
    "ExecuteTime": {
     "end_time": "2021-03-04T07:38:44.023850Z",
     "start_time": "2021-03-04T07:38:43.697605Z"
    }
   },
   "outputs": [],
   "source": [
    "%matplotlib inline"
   ]
  },
  {
   "cell_type": "markdown",
   "id": "vanilla-jimmy",
   "metadata": {},
   "source": [
    "Import the useful libraries"
   ]
  },
  {
   "cell_type": "code",
   "execution_count": 2,
   "id": "going-founder",
   "metadata": {
    "ExecuteTime": {
     "end_time": "2021-03-04T07:38:44.293473Z",
     "start_time": "2021-03-04T07:38:44.025352Z"
    }
   },
   "outputs": [],
   "source": [
    "import numpy as np\n",
    "import scipy as sp\n",
    "import pandas as pd\n",
    "import matplotlib.pyplot as plt\n",
    "import math\n",
    "colors = ['red', 'green', 'blue', 'purple', 'slategrey', 'brown', 'darkorange', 'black']"
   ]
  },
  {
   "cell_type": "markdown",
   "id": "lasting-agreement",
   "metadata": {},
   "source": [
    "Parameters of the curves to generate"
   ]
  },
  {
   "cell_type": "code",
   "execution_count": 3,
   "id": "atomic-terminal",
   "metadata": {
    "ExecuteTime": {
     "end_time": "2021-03-04T07:38:44.306303Z",
     "start_time": "2021-03-04T07:38:44.297779Z"
    }
   },
   "outputs": [],
   "source": [
    "num_eps = 50                             # Number of points on the x axis\n",
    "eps = np.linspace(0, 1, num_eps)         # Strain ranges from 0 to 1\n",
    "epsp = np.array([0.1, 1, 50, 1000, 500000])   # Strain rate values\n",
    "temp = np.array([20, 100, 200, 300, 500, 800])     # Temperature values\n",
    "\n",
    "# These are the coefficients of the Constitutive law\n",
    "A = 806\n",
    "B = 614\n",
    "C = 0.0089\n",
    "n = 0.168\n",
    "m = 1.1\n",
    "T0 = 20\n",
    "Tm = 1540\n",
    "epsp0 = 0.1"
   ]
  },
  {
   "cell_type": "markdown",
   "id": "metropolitan-friendly",
   "metadata": {},
   "source": [
    "Definition of the Johnson-Cook constitutive law"
   ]
  },
  {
   "cell_type": "code",
   "execution_count": 4,
   "id": "modular-basket",
   "metadata": {
    "ExecuteTime": {
     "end_time": "2021-03-04T07:38:44.316901Z",
     "start_time": "2021-03-04T07:38:44.310431Z"
    }
   },
   "outputs": [],
   "source": [
    "def constitutiveLaw(eps, epsp, T, A, B, C, n, m):\n",
    "    return (A + B * eps**n) * (1 + C * np.log(epsp / epsp0)) * (1 - ((T - T0) / (Tm - T0))**m)"
   ]
  },
  {
   "cell_type": "markdown",
   "id": "blond-refrigerator",
   "metadata": {},
   "source": [
    "Generation of Data"
   ]
  },
  {
   "cell_type": "code",
   "execution_count": 5,
   "id": "diagnostic-criminal",
   "metadata": {
    "ExecuteTime": {
     "end_time": "2021-03-04T07:38:44.330288Z",
     "start_time": "2021-03-04T07:38:44.318938Z"
    }
   },
   "outputs": [],
   "source": [
    "Tables = []\n",
    "for T in temp:\n",
    "    johnsonCook = eps\n",
    "    for epspi in epsp:\n",
    "        sig = constitutiveLaw(eps, epspi, T, A, B, C, n, m)\n",
    "        johnsonCook = np.vstack((johnsonCook, sig))\n",
    "    Tables.append(johnsonCook.T)    "
   ]
  },
  {
   "cell_type": "markdown",
   "id": "fixed-cycling",
   "metadata": {},
   "source": [
    "Plot the data to see how it looks like"
   ]
  },
  {
   "cell_type": "code",
   "execution_count": null,
   "id": "significant-toronto",
   "metadata": {
    "ExecuteTime": {
     "end_time": "2021-03-04T07:38:50.285340Z",
     "start_time": "2021-03-04T07:38:44.333866Z"
    }
   },
   "outputs": [],
   "source": [
    "idx = 1\n",
    "for table in range(len(Tables)):\n",
    "    plt.figure(figsize = (10.5, 7))\n",
    "    plt.rc('text', usetex = True)\n",
    "    johnsonCook = Tables[table]\n",
    "    # Plot the curves\n",
    "    for column in range(1, johnsonCook.shape[1]):\n",
    "        plt.plot(johnsonCook[:,0], johnsonCook[:,column], colors[column-1],\n",
    "            label=r'$\\dot{\\overline{\\varepsilon}^p}=' + str(epsp[column-1]) + '\\ s^{-1}$', marker = 'o',linewidth = 3)\n",
    "    plt.legend(loc = 'lower right',fancybox = True, numpoints = 1, fontsize = 10)\n",
    "    plt.grid() # Plot the grid with default size\n",
    "    plt.xlabel(r'$Deformation\\ \\overline{\\varepsilon}^{p}$', fontsize = 16) # Labels the x axis\n",
    "    plt.ylabel(r'$Stress\\ \\overline{\\sigma}$', fontsize = 16) # Labels the y axis\n",
    "    plt.title(r'$' + str(temp[idx-1]) + '^{\\circ}C$', fontsize = 16) # Self explicit command\n",
    "#    plt.savefig('OriginalData'+str(temp[idx-1])+'.svg', bbox_inches = 'tight', pad_inches = 0)\n",
    "    plt.show()\n",
    "    idx += 1"
   ]
  },
  {
   "cell_type": "markdown",
   "id": "italian-norwegian",
   "metadata": {},
   "source": [
    "Convert Array to Panda Data"
   ]
  },
  {
   "cell_type": "code",
   "execution_count": 7,
   "id": "suspended-sunday",
   "metadata": {
    "ExecuteTime": {
     "end_time": "2021-03-04T07:38:50.335547Z",
     "start_time": "2021-03-04T07:38:50.288124Z"
    }
   },
   "outputs": [],
   "source": [
    "data = []\n",
    "for table in range(len(Tables)):\n",
    "    # convert your array into a dataframe\n",
    "    df = pd.DataFrame (Tables[table])\n",
    "\n",
    "    # Name the columns\n",
    "    for c in range(len(epsp)):\n",
    "        df.rename(columns={c+1:epsp[c]}, inplace=True)\n",
    "    df.rename(columns={0:'epsilon'}, inplace=True)\n",
    "    data.append(df)"
   ]
  },
  {
   "cell_type": "markdown",
   "id": "gentle-balance",
   "metadata": {},
   "source": [
    "Export data to Excel file"
   ]
  },
  {
   "cell_type": "code",
   "execution_count": 8,
   "id": "raising-primary",
   "metadata": {
    "ExecuteTime": {
     "end_time": "2021-03-04T07:38:50.557018Z",
     "start_time": "2021-03-04T07:38:50.339684Z"
    }
   },
   "outputs": [],
   "source": [
    "# save to xlsx file\n",
    "writer = pd.ExcelWriter('JC-Experiments.xlsx', engine='xlsxwriter')\n",
    "for table in range(len(Tables)):\n",
    "    data[table].to_excel(writer, index=False, sheet_name= str(temp[table])+'°C')\n",
    "writer.save()"
   ]
  },
  {
   "cell_type": "code",
   "execution_count": null,
   "id": "substantial-latest",
   "metadata": {},
   "outputs": [],
   "source": []
  }
 ],
 "metadata": {
  "kernelspec": {
   "display_name": "Python 3",
   "language": "python",
   "name": "python3"
  },
  "language_info": {
   "codemirror_mode": {
    "name": "ipython",
    "version": 3
   },
   "file_extension": ".py",
   "mimetype": "text/x-python",
   "name": "python",
   "nbconvert_exporter": "python",
   "pygments_lexer": "ipython3",
   "version": "3.8.5"
  },
  "toc": {
   "base_numbering": 1,
   "nav_menu": {},
   "number_sections": true,
   "sideBar": true,
   "skip_h1_title": false,
   "title_cell": "Table of Contents",
   "title_sidebar": "Contents",
   "toc_cell": false,
   "toc_position": {
    "height": "calc(100% - 180px)",
    "left": "10px",
    "top": "150px",
    "width": "377.594px"
   },
   "toc_section_display": true,
   "toc_window_display": true
  },
  "varInspector": {
   "cols": {
    "lenName": 16,
    "lenType": 16,
    "lenVar": 40
   },
   "kernels_config": {
    "python": {
     "delete_cmd_postfix": "",
     "delete_cmd_prefix": "del ",
     "library": "var_list.py",
     "varRefreshCmd": "print(var_dic_list())"
    },
    "r": {
     "delete_cmd_postfix": ") ",
     "delete_cmd_prefix": "rm(",
     "library": "var_list.r",
     "varRefreshCmd": "cat(var_dic_list()) "
    }
   },
   "types_to_exclude": [
    "module",
    "function",
    "builtin_function_or_method",
    "instance",
    "_Feature"
   ],
   "window_display": false
  }
 },
 "nbformat": 4,
 "nbformat_minor": 5
}
