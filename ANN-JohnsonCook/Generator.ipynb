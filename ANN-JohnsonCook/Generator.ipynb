{
 "cells": [
  {
   "cell_type": "markdown",
   "id": "funny-promotion",
   "metadata": {},
   "source": [
    "# Constitutive Law data generator"
   ]
  },
  {
   "cell_type": "markdown",
   "id": "alien-learning",
   "metadata": {},
   "source": [
    "To allow inline pictures, run the following block"
   ]
  },
  {
   "cell_type": "code",
   "execution_count": null,
   "id": "derived-frederick",
   "metadata": {},
   "outputs": [],
   "source": [
    "%matplotlib inline"
   ]
  },
  {
   "cell_type": "markdown",
   "id": "vanilla-jimmy",
   "metadata": {},
   "source": [
    "Import the useful libraries"
   ]
  },
  {
   "cell_type": "code",
   "execution_count": null,
   "id": "going-founder",
   "metadata": {},
   "outputs": [],
   "source": [
    "import numpy as np\n",
    "import scipy as sp\n",
    "import pandas as pd\n",
    "import matplotlib.pyplot as plt\n",
    "import math\n",
    "colors = ['red', 'green', 'blue', 'purple', 'slategrey', 'brown', 'darkorange', 'black']"
   ]
  },
  {
   "cell_type": "markdown",
   "id": "mediterranean-transparency",
   "metadata": {},
   "source": [
    "## Parameters of the Constitutive law"
   ]
  },
  {
   "cell_type": "code",
   "execution_count": null,
   "id": "polished-stage",
   "metadata": {},
   "outputs": [],
   "source": [
    "# These are the coefficients of the Constitutive law\n",
    "A = 806\n",
    "B = 614\n",
    "C = 0.0089\n",
    "n = 0.168\n",
    "m = 1.1\n",
    "T0 = 20\n",
    "Tm = 1540\n",
    "epsp0 = 1"
   ]
  },
  {
   "cell_type": "markdown",
   "id": "lasting-agreement",
   "metadata": {},
   "source": [
    "Parameters of the curves to generate"
   ]
  },
  {
   "cell_type": "code",
   "execution_count": null,
   "id": "atomic-terminal",
   "metadata": {},
   "outputs": [],
   "source": [
    "num_eps = 70                                        # Number of points on the x axis\n",
    "eps = np.linspace(0, 1, num_eps)                    # Strain ranges from 0 to 1\n",
    "epsp = np.array([1, 10, 50, 500, 5000, 50000])      # Strain rate values\n",
    "temp = np.array([20, 100, 200, 300, 400, 500])      # Temperature values"
   ]
  },
  {
   "cell_type": "markdown",
   "id": "metropolitan-friendly",
   "metadata": {},
   "source": [
    "Definition of the Johnson-Cook constitutive law"
   ]
  },
  {
   "cell_type": "code",
   "execution_count": null,
   "id": "modular-basket",
   "metadata": {},
   "outputs": [],
   "source": [
    "def constitutiveLaw(eps, epsp, T, A, B, C, n, m):\n",
    "    return (A + B * eps**n) * (1 + C * np.log(epsp / epsp0)) * (1 - ((T - T0) / (Tm - T0))**m)\n",
    "\n",
    "def constitutiveLawEps(eps, epsp, T, A, B, C, n, m):\n",
    "    return (n * B * eps**(-1+n)) * (1 + C * np.log(epsp / epsp0)) * (1 - ((T - T0) / (Tm - T0))**m)\n",
    "\n",
    "def constitutiveLawEpsp(eps, epsp, T, A, B, C, n, m):\n",
    "    return C * (A + B * eps**n) * (1 - ((T - T0) / (Tm - T0))**m) / epsp\n",
    "\n",
    "def constitutiveLawT(eps, epsp, T, A, B, C, n, m):\n",
    "    return - ((A + B * eps**n) * (1 + C * np.log(epsp / epsp0)) * m * ((T - T0) / (Tm - T0))**(-1+m)) / (Tm - T0)\n"
   ]
  },
  {
   "cell_type": "markdown",
   "id": "racial-trace",
   "metadata": {},
   "source": [
    "## Main data generation"
   ]
  },
  {
   "cell_type": "markdown",
   "id": "blond-refrigerator",
   "metadata": {},
   "source": [
    "Generation of Data"
   ]
  },
  {
   "cell_type": "code",
   "execution_count": null,
   "id": "diagnostic-criminal",
   "metadata": {},
   "outputs": [],
   "source": [
    "Tables = []\n",
    "for T in temp:\n",
    "    johnsonCook = eps\n",
    "    for epspi in epsp:\n",
    "        sig = constitutiveLaw(eps, epspi, T, A, B, C, n, m)\n",
    "        johnsonCook = np.vstack((johnsonCook, sig))\n",
    "    Tables.append(johnsonCook.T)    "
   ]
  },
  {
   "cell_type": "markdown",
   "id": "fixed-cycling",
   "metadata": {},
   "source": [
    "Plot the data to see how it looks like"
   ]
  },
  {
   "cell_type": "code",
   "execution_count": null,
   "id": "significant-toronto",
   "metadata": {},
   "outputs": [],
   "source": [
    "idx = 1\n",
    "for table in range(len(Tables)):\n",
    "    plt.figure(figsize = (10.5, 7))\n",
    "    plt.rc('text', usetex = True)\n",
    "    johnsonCook = Tables[table]\n",
    "    # Plot the curves\n",
    "    for column in range(1, johnsonCook.shape[1]):\n",
    "        plt.plot(johnsonCook[:,0], johnsonCook[:,column], colors[column-1],\n",
    "            label=r'$\\dot{\\overline{\\varepsilon}^p}=' + str(epsp[column-1]) + '\\ s^{-1}$', marker = 'o',linewidth = 3)\n",
    "    plt.legend(loc = 'lower right',fancybox = True, numpoints = 1, fontsize = 10)\n",
    "    plt.grid() # Plot the grid with default size\n",
    "    plt.xlabel(r'$Deformation\\ \\overline{\\varepsilon}^{p}$', fontsize = 16) # Labels the x axis\n",
    "    plt.ylabel(r'$Stress\\ \\overline{\\sigma}$', fontsize = 16) # Labels the y axis\n",
    "    plt.title(r'$' + str(temp[idx-1]) + '^{\\circ}C$', fontsize = 16) # Self explicit command\n",
    "#    plt.savefig('OriginalData'+str(temp[idx-1])+'.svg', bbox_inches = 'tight', pad_inches = 0)\n",
    "    plt.show()\n",
    "    idx += 1"
   ]
  },
  {
   "cell_type": "markdown",
   "id": "italian-norwegian",
   "metadata": {},
   "source": [
    "Convert Array to Panda Data"
   ]
  },
  {
   "cell_type": "code",
   "execution_count": null,
   "id": "suspended-sunday",
   "metadata": {},
   "outputs": [],
   "source": [
    "data = []\n",
    "for table in range(len(Tables)):\n",
    "    # convert your array into a dataframe\n",
    "    df = pd.DataFrame (Tables[table])\n",
    "\n",
    "    # Name the columns\n",
    "    for c in range(len(epsp)):\n",
    "        df.rename(columns={c+1:epsp[c]}, inplace=True)\n",
    "    df.rename(columns={0:'epsilon'}, inplace=True)\n",
    "    data.append(df)"
   ]
  },
  {
   "cell_type": "markdown",
   "id": "gentle-balance",
   "metadata": {},
   "source": [
    "Export data to Excel file"
   ]
  },
  {
   "cell_type": "code",
   "execution_count": null,
   "id": "raising-primary",
   "metadata": {},
   "outputs": [],
   "source": [
    "# save to xlsx file\n",
    "writer = pd.ExcelWriter('JC-Experiments.xlsx', engine='xlsxwriter')\n",
    "for table in range(len(Tables)):\n",
    "    data[table].to_excel(writer, index=False, sheet_name= str(temp[table])+'°C')\n",
    "writer.save()"
   ]
  },
  {
   "cell_type": "markdown",
   "id": "productive-laugh",
   "metadata": {},
   "source": [
    "## Generation of test data"
   ]
  },
  {
   "cell_type": "code",
   "execution_count": null,
   "id": "enclosed-letters",
   "metadata": {},
   "outputs": [],
   "source": [
    "dataPoints = 5000\n",
    "testData = np.empty((0, 4))\n",
    "\n",
    "for test in range(dataPoints):\n",
    "    Eps = np.random.uniform(eps.min()+0.05,eps.max()*0.95)\n",
    "    Epsp = np.random.uniform(epsp.min()*1.05,epsp.max()*0.95)\n",
    "    T = np.random.uniform(temp.min()*1.05,temp.max()*0.95)\n",
    "    sig = constitutiveLaw(Eps, Epsp, T, A, B, C, n, m)\n",
    "    newrow = np.array([Eps, Epsp, T, sig])\n",
    "    testData = np.vstack([testData, newrow])\n",
    "    #print(Eps, Epsp, T, sig)"
   ]
  },
  {
   "cell_type": "code",
   "execution_count": null,
   "id": "japanese-woman",
   "metadata": {},
   "outputs": [],
   "source": [
    "np.savez(\"Datatest\", testData = testData)"
   ]
  },
  {
   "cell_type": "code",
   "execution_count": null,
   "id": "spoken-compensation",
   "metadata": {},
   "outputs": [],
   "source": [
    "dataPoints = 5000\n",
    "testData = np.empty((0, 7))\n",
    "\n",
    "for test in range(dataPoints):\n",
    "    dx=(eps.max()-eps.min()) / 20\n",
    "    Eps = np.random.uniform(eps.min()+dx,eps.max()-dx)\n",
    "    dx=(epsp.max()-epsp.min()) / 20\n",
    "    Epsp = np.random.uniform(epsp.min()+dx,epsp.max()-dx)\n",
    "    dx=(temp.max()-temp.min()) / 20\n",
    "    T = np.random.uniform(temp.min()+dx,temp.max()-dx)\n",
    "    sig = constitutiveLaw(Eps, Epsp, T, A, B, C, n, m)\n",
    "    sigEps = constitutiveLawEps(Eps, Epsp, T, A, B, C, n, m)\n",
    "    sigEpsp = constitutiveLawEpsp(Eps, Epsp, T, A, B, C, n, m)\n",
    "    sigT = constitutiveLawT(Eps, Epsp, T, A, B, C, n, m)\n",
    "    newrow = np.array([Eps, Epsp, T, sig, sigEps, sigEpsp, sigT])\n",
    "    testData = np.vstack([testData, newrow])\n",
    "    #print(Eps, Epsp, T, sig)"
   ]
  },
  {
   "cell_type": "code",
   "execution_count": null,
   "id": "organic-ireland",
   "metadata": {},
   "outputs": [],
   "source": [
    "np.savez(\"DatatestWithDerivatives\", testData = testData)"
   ]
  },
  {
   "cell_type": "raw",
   "id": "identified-depression",
   "metadata": {},
   "source": [
    "eps = 0.5\n",
    "epsp = 50\n",
    "temp = 200\n",
    "dx = 0.00001\n",
    "sig = constitutiveLaw(eps, epsp, temp, A, B, C, n, m)\n",
    "sige = constitutiveLaw(eps + dx, epsp, temp, A, B, C, n, m)\n",
    "sigd = constitutiveLawEps(eps, epsp, temp, A, B, C, n, m)\n",
    "sig, sige, (sige - sig)/dx, sigd, ((sige - sig)/dx - sigd)/sigd"
   ]
  },
  {
   "cell_type": "raw",
   "id": "healthy-breeding",
   "metadata": {},
   "source": [
    "sige = constitutiveLaw(eps, epsp + dx, temp, A, B, C, n, m)\n",
    "sigd = constitutiveLawEpsp(eps, epsp, temp, A, B, C, n, m)\n",
    "sig, sige, (sige - sig)/dx, sigd, ((sige - sig)/dx - sigd)/sigd"
   ]
  },
  {
   "cell_type": "raw",
   "id": "threatened-warner",
   "metadata": {},
   "source": [
    "sige = constitutiveLaw(eps, epsp, temp + dx, A, B, C, n, m)\n",
    "sigd = constitutiveLawT(eps, epsp, temp, A, B, C, n, m)\n",
    "sig, sige, (sige - sig)/dx, sigd, ((sige - sig)/dx - sigd)/sigd"
   ]
  },
  {
   "cell_type": "code",
   "execution_count": null,
   "id": "british-collectible",
   "metadata": {},
   "outputs": [],
   "source": []
  }
 ],
 "metadata": {
  "kernelspec": {
   "display_name": "Python 3",
   "language": "python",
   "name": "python3"
  },
  "language_info": {
   "codemirror_mode": {
    "name": "ipython",
    "version": 3
   },
   "file_extension": ".py",
   "mimetype": "text/x-python",
   "name": "python",
   "nbconvert_exporter": "python",
   "pygments_lexer": "ipython3",
   "version": "3.8.8"
  },
  "toc": {
   "base_numbering": 1,
   "nav_menu": {},
   "number_sections": false,
   "sideBar": true,
   "skip_h1_title": false,
   "title_cell": "Table of Contents",
   "title_sidebar": "Contents",
   "toc_cell": false,
   "toc_position": {
    "height": "calc(100% - 180px)",
    "left": "10px",
    "top": "150px",
    "width": "377.594px"
   },
   "toc_section_display": true,
   "toc_window_display": true
  },
  "varInspector": {
   "cols": {
    "lenName": 16,
    "lenType": 16,
    "lenVar": 40
   },
   "kernels_config": {
    "python": {
     "delete_cmd_postfix": "",
     "delete_cmd_prefix": "del ",
     "library": "var_list.py",
     "varRefreshCmd": "print(var_dic_list())"
    },
    "r": {
     "delete_cmd_postfix": ") ",
     "delete_cmd_prefix": "rm(",
     "library": "var_list.r",
     "varRefreshCmd": "cat(var_dic_list()) "
    }
   },
   "types_to_exclude": [
    "module",
    "function",
    "builtin_function_or_method",
    "instance",
    "_Feature"
   ],
   "window_display": false
  }
 },
 "nbformat": 4,
 "nbformat_minor": 5
}
