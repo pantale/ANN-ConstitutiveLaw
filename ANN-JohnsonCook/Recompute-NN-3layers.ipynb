{
 "cells": [
  {
   "cell_type": "markdown",
   "id": "intellectual-romance",
   "metadata": {},
   "source": [
    "# Use of a Neural-Network for Constitutive Law"
   ]
  },
  {
   "cell_type": "markdown",
   "id": "large-nomination",
   "metadata": {},
   "source": [
    "To allow inline pictures, run the following block"
   ]
  },
  {
   "cell_type": "code",
   "execution_count": null,
   "id": "nonprofit-roads",
   "metadata": {},
   "outputs": [],
   "source": [
    "%matplotlib inline"
   ]
  },
  {
   "cell_type": "markdown",
   "id": "vanilla-jimmy",
   "metadata": {},
   "source": [
    "Import all the useful libraries before first run\n",
    "We need here the classic ones such as:\n",
    "- math\n",
    "- numpy\n",
    "- pandas\n",
    "- matplotlib\n",
    "\n",
    "And for the Neural Network, we also need to import parts of the keras module of TensorFlow"
   ]
  },
  {
   "cell_type": "code",
   "execution_count": null,
   "id": "quality-batman",
   "metadata": {},
   "outputs": [],
   "source": [
    "import glob\n",
    "import math\n",
    "import numpy as np\n",
    "import pandas as pd\n",
    "import matplotlib.pyplot as plt"
   ]
  },
  {
   "cell_type": "markdown",
   "id": "refined-phone",
   "metadata": {},
   "source": [
    "## Load the test database"
   ]
  },
  {
   "cell_type": "markdown",
   "id": "wrapped-knight",
   "metadata": {},
   "source": [
    "Read the Test database"
   ]
  },
  {
   "cell_type": "code",
   "execution_count": null,
   "id": "mighty-influence",
   "metadata": {},
   "outputs": [],
   "source": [
    "dataPath = '.'\n",
    "read = np.load(dataPath + '/DatatestWithDerivatives.npz')\n",
    "testData = read['testData']\n",
    "nrows = testData.shape[0]"
   ]
  },
  {
   "cell_type": "code",
   "execution_count": null,
   "id": "another-equivalent",
   "metadata": {},
   "outputs": [],
   "source": [
    "eps_test = testData[:,0].reshape(nrows,1)\n",
    "epsp_test = testData[:,1].reshape(nrows,1)\n",
    "T_test = testData[:,2].reshape(nrows,1)\n",
    "sig_test = testData[:,3].reshape(nrows,1)"
   ]
  },
  {
   "cell_type": "markdown",
   "id": "charged-gross",
   "metadata": {},
   "source": [
    " ## Load the NN parameters"
   ]
  },
  {
   "cell_type": "code",
   "execution_count": null,
   "id": "widespread-wichita",
   "metadata": {
    "scrolled": false
   },
   "outputs": [],
   "source": [
    "ANN_name = '3-15-7-1-sigmoid'\n",
    "#ANN_name = '3-5-3-1-sigmoid'\n",
    "#ANN_name = '3-7-4-1-sigmoid'\n",
    "#ANN_name = '3-9-5-1-sigmoid'\n",
    "#ANN_name = '3-11-5-1-tanh'\n",
    "#ANN_name = '3-5-3-1-tanh'\n",
    "#ANN_name = '3-7-4-1-tanh'\n",
    "#ANN_name = '3-9-5-1-tanh'\n",
    "\n",
    "#ANN_name = '3-11-5-1-tanh'\n",
    "NN = np.load(dataPath + '/' + ANN_name + '.npz')\n",
    "print (NN.files)\n",
    "w1 = NN['w1']\n",
    "w2 = NN['w2']\n",
    "w3 = NN['w3']\n",
    "b1 = NN['b1']\n",
    "b2 = NN['b2']\n",
    "b3 = NN['b3']\n",
    "minEntries = NN['minEntries']\n",
    "maxEntries = NN['maxEntries']\n",
    "rangeEntries = maxEntries - minEntries\n",
    "logBase = NN['logBase']\n",
    "w1, b1, w2, b2, w3, b3, minEntries, maxEntries, rangeEntries, logBase"
   ]
  },
  {
   "cell_type": "markdown",
   "id": "sensitive-crossing",
   "metadata": {},
   "source": [
    "## Reshape data"
   ]
  },
  {
   "cell_type": "code",
   "execution_count": null,
   "id": "greatest-ocean",
   "metadata": {},
   "outputs": [],
   "source": [
    "epsp_test = np.log(epsp_test / logBase)\n",
    "inputTest = (np.hstack([eps_test, epsp_test, T_test]) - np.array(minEntries)[0:3]) / np.array(rangeEntries)[0:3]\n",
    "inputTest"
   ]
  },
  {
   "cell_type": "markdown",
   "id": "fiscal-equilibrium",
   "metadata": {},
   "source": [
    "Computes the target"
   ]
  },
  {
   "cell_type": "code",
   "execution_count": null,
   "id": "white-gilbert",
   "metadata": {},
   "outputs": [],
   "source": [
    "def tanh2Layers(inputData):\n",
    "    l1 = w1.dot(inputData) + b1\n",
    "    f1 = np.tanh(l1)\n",
    "    l2 = w2.dot(f1) + b2\n",
    "    f2 = np.tanh(l2)\n",
    "    sigP = w3.dot(f2) + b3\n",
    "    SigmaNN = sigP * rangeEntries[3] + minEntries[3]\n",
    "    return SigmaNN"
   ]
  },
  {
   "cell_type": "code",
   "execution_count": null,
   "id": "mobile-notice",
   "metadata": {},
   "outputs": [],
   "source": [
    "def sigmoid2Layers(inputData):\n",
    "    l1 = w1.dot(inputData) + b1\n",
    "    f1 = 1/(1 + np.exp(-l1))\n",
    "    l2 = w2.dot(f1) + b2\n",
    "    f2 = 1/( 1 +np.exp(-l2))\n",
    "    sigP = w3.dot(f2) + b3\n",
    "    SigmaNN = sigP * rangeEntries[3] + minEntries[3]\n",
    "    return SigmaNN"
   ]
  },
  {
   "cell_type": "markdown",
   "id": "floppy-turkish",
   "metadata": {},
   "source": [
    "Setup data"
   ]
  },
  {
   "cell_type": "code",
   "execution_count": null,
   "id": "democratic-delivery",
   "metadata": {},
   "outputs": [],
   "source": [
    "inp = inputTest.T\n",
    "sig = sig_test\n",
    "#inp, sig"
   ]
  },
  {
   "cell_type": "markdown",
   "id": "exotic-carol",
   "metadata": {},
   "source": [
    "Rebuild the real $\\sigma$"
   ]
  },
  {
   "cell_type": "code",
   "execution_count": null,
   "id": "chinese-detection",
   "metadata": {},
   "outputs": [],
   "source": [
    "if ('tanh' in ANN_name) : SigmaNN = tanh2Layers(inp)\n",
    "elif ('sigmoid' in ANN_name) : SigmaNN = sigmoid2Layers(inp)\n",
    "else : SigmaNN = 0\n",
    "SigmaNN"
   ]
  },
  {
   "cell_type": "code",
   "execution_count": null,
   "id": "characteristic-entertainment",
   "metadata": {},
   "outputs": [],
   "source": [
    "# Computes the error\n",
    "error = np.abs(SigmaNN.T - sig)/sig\n",
    "print(\"Min error is: %8.7f %%\" %(np.min(error)*100))\n",
    "print(\"Max error is: %8.7f %%\" %(np.max(error)*100))\n",
    "print(\"Mean error is: %8.7f %%\" %(np.mean(error)*100))\n",
    "errorSort = np.sort(error, axis=0)\n",
    "largeErrors = errorSort[errorSort > 5/1000]\n",
    "print(len(largeErrors),'/',len(error),'points have errors > 0.5%\\n')\n",
    "\n",
    "# Display info for large errors\n",
    "for err in largeErrors[::-1]:\n",
    "    loc = np.where(error == err)[0][0]\n",
    "    print('err= %5.3f %% for eps= %5.3E, epsp= %5.3E, T= %5.2f' %(error[loc][0]*100, eps_test[loc][0], math.exp(epsp_test[loc][0]), T_test[loc][0]))"
   ]
  },
  {
   "cell_type": "code",
   "execution_count": null,
   "id": "duplicate-tampa",
   "metadata": {},
   "outputs": [],
   "source": [
    "num = np.sum((sig-np.mean(sig)).T*(SigmaNN-np.mean(SigmaNN)))\n",
    "den = math.sqrt(np.sum((sig-np.mean(sig)).T**2)*np.sum((SigmaNN-np.mean(SigmaNN))**2))\n",
    "R = num/den\n",
    "#np.mean(np.abs(((NNoutput+1)-(predictedOutput+1))/(NNoutput+1)))*100\n",
    "plt.figure(figsize = (12, 8))\n",
    "plt.rc('text', usetex = True)\n",
    "plt.scatter(sig, SigmaNN, color='red', label=\"$AN\\!N\\ prediction$\")\n",
    "plt.plot([np.min(sig),np.max(sig)], [np.min(sig),np.max(sig)], color = 'black', label='$Best\\ fit$')\n",
    "plt.xlim(np.min(sig), np.max(sig))\n",
    "plt.ylim(np.min(sig), np.max(sig))\n",
    "plt.grid()\n",
    "plt.legend(loc = 'lower right',fancybox = True, numpoints = 1, fontsize = 14)\n",
    "plt.xlabel(r'$Analytical\\ flow\\ stress\\ \\sigma$', fontsize = 16)\n",
    "plt.ylabel(r'$Predicted\\ flow\\ stress\\ \\sigma$', fontsize = 16)\n",
    "plt.text(np.min(sig) + 0.2*(np.max(sig)-np.min(sig)), np.min(sig)+ 0.7*(np.max(sig)-np.min(sig)), '$R = %.8f$' % (R), fontsize=20)\n",
    "#plt.title(r'$Map\\ of\\ errors\\ \\varepsilon^{p} / T$', fontsize = 20)\n",
    "#if (saveFigures) : plt.savefig(dataPath + '/' + 'NN-' + model.name + '-error-sig.svg', bbox_inches = 'tight', pad_inches = 0)\n",
    "plt.savefig(ANN_name + 'R-sig.svg')\n",
    "plt.show() "
   ]
  },
  {
   "cell_type": "code",
   "execution_count": null,
   "id": "pharmaceutical-mining",
   "metadata": {},
   "outputs": [],
   "source": [
    "levelsT = ['$> 1.00 \\%$','$0.50 - 1.00 \\%$','$0.25 - 0.50 \\%$','$0.10 - 0.25 \\%$','$< 0.10 \\%$']\n",
    "levelsC = [0.01, 0.005, 0.0025, 0.001]"
   ]
  },
  {
   "cell_type": "code",
   "execution_count": null,
   "id": "executive-amendment",
   "metadata": {},
   "outputs": [],
   "source": [
    "plt.figure(figsize = (12, 9))\n",
    "plt.rc('text', usetex = True)\n",
    "plt.scatter(eps_test[error >= levelsC[0]], T_test[error >= levelsC[0]], color='black', label=levelsT[0])\n",
    "plt.scatter(eps_test[(error < levelsC[0]) & (error >= levelsC[1])], T_test[(error < levelsC[0]) & (error >= levelsC[1])], color='red', label=levelsT[1])\n",
    "plt.scatter(eps_test[(error < levelsC[1]) & (error >= levelsC[2])], T_test[(error < levelsC[1]) & (error >= levelsC[2])], color='orange', label=levelsT[2])\n",
    "plt.scatter(eps_test[(error < levelsC[2]) & (error >= levelsC[3])], T_test[(error < levelsC[2]) & (error >= levelsC[3])], color='yellow', label=levelsT[3])\n",
    "plt.scatter(eps_test[error < levelsC[3]], T_test[error < levelsC[3]], color='green', label=levelsT[4])\n",
    "plt.legend(loc = 'lower right',fancybox = True, numpoints = 1, fontsize = 14)\n",
    "plt.xlabel(r'$Plastic\\ strain\\ \\varepsilon^{p}$', fontsize = 16)\n",
    "plt.ylabel(r'$Temperature\\ T^{\\circ}C$', fontsize = 16)\n",
    "plt.title(r'$Map\\ of\\ errors\\ \\sigma(\\varepsilon^{p}, T$)', fontsize = 20)\n",
    "plt.savefig(ANN_name + 'Map-eps-T.svg')\n",
    "plt.show()"
   ]
  },
  {
   "cell_type": "code",
   "execution_count": null,
   "id": "intellectual-president",
   "metadata": {},
   "outputs": [],
   "source": [
    "plt.figure(figsize = (12, 9))\n",
    "plt.rc('text', usetex = True)\n",
    "plt.scatter(eps_test[error >= levelsC[0]], np.exp(epsp_test[error >= levelsC[0]]), color='black', label=levelsT[0])\n",
    "plt.scatter(eps_test[(error < levelsC[0]) & (error >= levelsC[1])], np.exp(epsp_test[(error < levelsC[0]) & (error >= levelsC[1])]), color='red', label=levelsT[1])\n",
    "plt.scatter(eps_test[(error < levelsC[1]) & (error >= levelsC[2])], np.exp(epsp_test[(error < levelsC[1]) & (error >= levelsC[2])]), color='orange', label=levelsT[2])\n",
    "plt.scatter(eps_test[(error < levelsC[2]) & (error >= levelsC[3])], np.exp(epsp_test[(error < levelsC[2]) & (error >= levelsC[3])]), color='yellow', label=levelsT[3])\n",
    "plt.scatter(eps_test[error < levelsC[3]], np.exp(epsp_test[error < levelsC[3]]), color='green', label=levelsT[4])\n",
    "plt.legend(loc = 'lower right',fancybox = True, numpoints = 1, fontsize = 14)\n",
    "plt.legend(loc = 'lower right',fancybox = True, numpoints = 1, fontsize = 14)\n",
    "plt.xlabel(r'$Plastic\\ strain\\ \\varepsilon^{p}$', fontsize = 16)\n",
    "plt.ylabel(r'$Plastic\\ strain\\ rate\\ \\dot{\\varepsilon^{p}}$', fontsize = 16)\n",
    "plt.title(r'$Map\\ of\\ errors\\ \\sigma(\\varepsilon^{p}, \\dot{\\varepsilon^{p}})$', fontsize = 20)\n",
    "plt.savefig(ANN_name + 'Map-eps-epsp.svg')\n",
    "plt.show()"
   ]
  },
  {
   "cell_type": "raw",
   "id": "viral-manner",
   "metadata": {},
   "source": [
    "%matplotlib notebook"
   ]
  },
  {
   "cell_type": "code",
   "execution_count": null,
   "id": "angry-cheese",
   "metadata": {},
   "outputs": [],
   "source": [
    "fig = plt.figure(figsize = (8, 8))\n",
    "plt.rc('text', usetex = True)\n",
    "ax = fig.add_subplot(111, projection='3d')\n",
    "ax.scatter(eps_test[error >= levelsC[0]], np.exp(epsp_test[error >= levelsC[0]]), T_test[error >= levelsC[0]], color='black', label=levelsT[0])\n",
    "ax.scatter(eps_test[(error < levelsC[0]) & (error >= levelsC[1])], np.exp(epsp_test[(error < levelsC[0]) & (error >= levelsC[1])]), T_test[(error < levelsC[0]) & (error >= levelsC[1])], color='red', label=levelsT[1])\n",
    "ax.scatter(eps_test[(error < levelsC[1]) & (error >= levelsC[2])], np.exp(epsp_test[(error < levelsC[1]) & (error >= levelsC[2])]), T_test[(error < levelsC[1]) & (error >= levelsC[2])], color='orange', label=levelsT[2])\n",
    "ax.scatter(eps_test[(error < levelsC[2]) & (error >= levelsC[3])], np.exp(epsp_test[(error < levelsC[2]) & (error >= levelsC[3])]), T_test[(error < levelsC[2]) & (error >= levelsC[3])], color='yellow', label=levelsT[3])\n",
    "ax.scatter(eps_test[error < levelsC[3]], np.exp(epsp_test[error < levelsC[3]]), T_test[error < levelsC[3]], color='green', label=levelsT[4])\n",
    "plt.legend(loc = 'lower right',fancybox = True, numpoints = 1, fontsize = 14)\n",
    "ax.set_xlabel(r'$Plastic\\ strain\\ \\varepsilon^{p}$', fontsize = 16)\n",
    "ax.set_ylabel(r'$Plastic\\ strain\\ rate\\ \\dot{\\varepsilon^{p}}$', fontsize = 16)\n",
    "ax.set_zlabel(r'$Temperature\\ T^{\\circ}C$', fontsize = 16)\n",
    "plt.title(r'$Map\\ of\\ errors\\ \\sigma(\\varepsilon^{p},\\dot{\\varepsilon^{p}}, T)$', fontsize = 20)\n",
    "plt.savefig(ANN_name + 'Map-3D-eps-T.svg')\n",
    "plt.show()"
   ]
  },
  {
   "cell_type": "code",
   "execution_count": null,
   "id": "decreased-youth",
   "metadata": {},
   "outputs": [],
   "source": [
    "loc = np.argmin(error)\n",
    "#loc = 200\n",
    "dx = 1e-6\n",
    "inp = np.array([testData[loc,0], testData[loc,1], testData[loc,2]])\n",
    "sig = testData[loc,3]\n",
    "sigEps = testData[loc,4]\n",
    "sigEpsp = testData[loc,5]\n",
    "sigT = testData[loc,6]"
   ]
  },
  {
   "cell_type": "code",
   "execution_count": null,
   "id": "southern-baghdad",
   "metadata": {},
   "outputs": [],
   "source": [
    "inp, loc"
   ]
  },
  {
   "cell_type": "code",
   "execution_count": null,
   "id": "champion-prescription",
   "metadata": {},
   "outputs": [],
   "source": [
    "inp0 = inp.copy()\n",
    "inp = np.vstack([inp,inp0 + [[dx,0,0]]])\n",
    "inp = np.vstack([inp,inp0 + [[0,dx,0]]])\n",
    "inp = np.vstack([inp,inp0 + [[0,0,dx]]])\n",
    "inp"
   ]
  },
  {
   "cell_type": "code",
   "execution_count": null,
   "id": "printable-premises",
   "metadata": {},
   "outputs": [],
   "source": [
    "for i in range(4): inp[i,1] = np.log(inp[i,1]/logBase)\n",
    "inp"
   ]
  },
  {
   "cell_type": "code",
   "execution_count": null,
   "id": "noble-partnership",
   "metadata": {},
   "outputs": [],
   "source": [
    "inp = (inp - minEntries[0:3]) / rangeEntries[0:3]\n",
    "inp"
   ]
  },
  {
   "cell_type": "code",
   "execution_count": null,
   "id": "emerging-arlington",
   "metadata": {},
   "outputs": [],
   "source": [
    "if ('tanh' in ANN_name) : SigmaNN = tanh2Layers(inp.T)\n",
    "elif ('sigmoid' in ANN_name) : SigmaNN = sigmoid2Layers(inp.T)\n",
    "else : SigmaNN = 0\n",
    "SigmaNN"
   ]
  },
  {
   "cell_type": "code",
   "execution_count": null,
   "id": "coupled-gambling",
   "metadata": {},
   "outputs": [],
   "source": [
    "SigmaNN[0][0], sig, abs((SigmaNN[0][0] - sig)/sig)"
   ]
  },
  {
   "cell_type": "code",
   "execution_count": null,
   "id": "established-adobe",
   "metadata": {},
   "outputs": [],
   "source": [
    "sigEpsN = (SigmaNN[0][1]-SigmaNN[0][0])/dx\n",
    "sigEpsN, sigEps, abs((sigEpsN - sigEps)/sigEps)"
   ]
  },
  {
   "cell_type": "code",
   "execution_count": null,
   "id": "whole-candle",
   "metadata": {},
   "outputs": [],
   "source": [
    "sigEpspN = (SigmaNN[0][2]-SigmaNN[0][0])/dx\n",
    "sigEpspN, sigEpsp, abs((sigEpspN - sigEpsp)/sigEpsp)"
   ]
  },
  {
   "cell_type": "code",
   "execution_count": null,
   "id": "novel-union",
   "metadata": {},
   "outputs": [],
   "source": [
    "sigTN = (SigmaNN[0][3]-SigmaNN[0][0])/dx\n",
    "sigTN, sigT, abs((sigTN- sigT)/sigT)"
   ]
  },
  {
   "cell_type": "markdown",
   "id": "atlantic-director",
   "metadata": {},
   "source": [
    "## Dérivation directe"
   ]
  },
  {
   "cell_type": "code",
   "execution_count": null,
   "id": "persistent-basic",
   "metadata": {},
   "outputs": [],
   "source": [
    "x = inp[0].reshape(3,1)\n",
    "x"
   ]
  },
  {
   "cell_type": "code",
   "execution_count": null,
   "id": "damaged-content",
   "metadata": {},
   "outputs": [],
   "source": [
    "def tanhPrime2Layers(x):\n",
    "    w3v = w3.reshape(w3.shape[1],1)\n",
    "    tanhx = np.tanh(w1.dot(x) + b1)\n",
    "    p2 = w3v * (1 - np.tanh(w2.dot(tanhx) + b2)**2)\n",
    "    p3 = (w2.T).dot(p2)\n",
    "    p5 = p3 * (1 - tanhx**2)\n",
    "    s = (w1.T).dot(p5)\n",
    "    return s"
   ]
  },
  {
   "cell_type": "code",
   "execution_count": null,
   "id": "verbal-israel",
   "metadata": {},
   "outputs": [],
   "source": [
    "def sigmoidPrime2Layers(x):\n",
    "    w3v = w3.reshape(w3.shape[1],1)\n",
    "    expx = np.exp(-(w1.dot(x) + b1))\n",
    "    exp2 = np.exp(w2.dot(1/(1 + expx)) + b2)\n",
    "    p1 = w3v*(exp2 / (1 + exp2)**2)\n",
    "    p2 = expx / (1 + expx)**2\n",
    "    s = (w1.T).dot((w2.T).dot(p1) * p2)\n",
    "    return s"
   ]
  },
  {
   "cell_type": "code",
   "execution_count": null,
   "id": "trained-messenger",
   "metadata": {},
   "outputs": [],
   "source": [
    "if ('tanh' in ANN_name) : s = tanhPrime2Layers(x)\n",
    "elif ('sigmoid' in ANN_name) : s = sigmoidPrime2Layers(x)\n",
    "else : s = 0\n",
    "s"
   ]
  },
  {
   "cell_type": "code",
   "execution_count": null,
   "id": "valid-cannon",
   "metadata": {},
   "outputs": [],
   "source": [
    "scaleOut = np.array([[rangeEntries[3]/rangeEntries[0]],[rangeEntries[3]/rangeEntries[1]],[rangeEntries[3]/rangeEntries[2]]])\n",
    "scaleOut"
   ]
  },
  {
   "cell_type": "code",
   "execution_count": null,
   "id": "soviet-harrison",
   "metadata": {},
   "outputs": [],
   "source": [
    "scaled = s*scaleOut\n",
    "scaled"
   ]
  },
  {
   "cell_type": "code",
   "execution_count": null,
   "id": "driving-alaska",
   "metadata": {},
   "outputs": [],
   "source": [
    "sigEpsNN = scaled[0][0]\n",
    "print(sigEpsNN)\n",
    "print('Num : ',sigEpsN, abs((sigEpsNN-sigEpsN)/sigEpsN))\n",
    "print('Ana : ',sigEps, abs((sigEpsNN-sigEps)/sigEps))"
   ]
  },
  {
   "cell_type": "code",
   "execution_count": null,
   "id": "given-worse",
   "metadata": {},
   "outputs": [],
   "source": [
    "sigEpspNN = scaled[1][0]/testData[loc,1]\n",
    "print(sigEpspNN)\n",
    "print('Num : ',sigEpspN, abs((sigEpspNN-sigEpspN)/sigEpspN))\n",
    "print('Ana : ',sigEpsp, abs((sigEpspNN-sigEpsp)/sigEpsp))"
   ]
  },
  {
   "cell_type": "code",
   "execution_count": null,
   "id": "devoted-suspect",
   "metadata": {},
   "outputs": [],
   "source": [
    "sigTNN = scaled[2][0]\n",
    "print(sigTNN)\n",
    "print('Num : ',sigTN, abs((sigTNN-sigTN)/sigTN))\n",
    "print('Ana : ',sigT, abs((sigTNN-sigT)/sigT))"
   ]
  },
  {
   "cell_type": "code",
   "execution_count": null,
   "id": "renewable-analyst",
   "metadata": {},
   "outputs": [],
   "source": [
    "if ('tanh' in ANN_name) : sp = tanhPrime2Layers(inputTest.T)\n",
    "elif ('sigmoid' in ANN_name) : sp = sigmoidPrime2Layers(inputTest.T)\n",
    "else : sp = 0\n",
    "ss = sp*scaleOut"
   ]
  },
  {
   "cell_type": "code",
   "execution_count": null,
   "id": "creative-enhancement",
   "metadata": {
    "scrolled": true
   },
   "outputs": [],
   "source": [
    "error = np.abs((ss[0,:] - testData[:,4]) / testData[:,4])\n",
    "\"EPS\", error.max(), error.min(), error.mean()"
   ]
  },
  {
   "cell_type": "code",
   "execution_count": null,
   "id": "included-dodge",
   "metadata": {},
   "outputs": [],
   "source": [
    "v1 = ss[0,:]\n",
    "v2 = testData[:,4]\n",
    "num = np.sum((v2-np.mean(v2))*(v1-np.mean(v1)))\n",
    "den = math.sqrt(np.sum((v2-np.mean(v2))**2)*np.sum((v1-np.mean(v1))**2))\n",
    "R = num/den\n",
    "#np.mean(np.abs(((NNoutput+1)-(predictedOutput+1))/(NNoutput+1)))*100\n",
    "plt.figure(figsize = (12, 8))\n",
    "plt.rc('text', usetex = True)\n",
    "plt.scatter(v2, v1, color='red', label=\"$AN\\!N\\ prediction$\")\n",
    "plt.plot([np.min(v2),np.max(v2)], [np.min(v2),np.max(v2)], color = 'black', label='$Best\\ fit$')\n",
    "plt.xlim(np.min(v2), np.max(v2))\n",
    "plt.ylim(np.min(v2), np.max(v2))\n",
    "plt.grid()\n",
    "plt.legend(loc = 'lower right',fancybox = True, numpoints = 1, fontsize = 14)\n",
    "plt.xlabel(r'$Analytical\\ \\partial\\sigma/\\partial\\varepsilon^{p}$', fontsize = 16)\n",
    "plt.ylabel(r'$Predicted\\ \\partial\\sigma/\\partial\\varepsilon^{p}$', fontsize = 16)\n",
    "plt.text(np.min(v2) + 0.2*(np.max(v2)-np.min(v2)), np.min(v2)+ 0.7*(np.max(v2)-np.min(v2)), '$R = %.8f$' % (R), fontsize=20)\n",
    "#plt.title(r'$Map\\ of\\ errors\\ \\varepsilon^{p} / T$', fontsize = 20)\n",
    "plt.savefig(ANN_name + 'R-sig-eps.svg')\n",
    "plt.show() "
   ]
  },
  {
   "cell_type": "code",
   "execution_count": null,
   "id": "presidential-egypt",
   "metadata": {},
   "outputs": [],
   "source": [
    "levelsT = ['$> 5.00 \\%$','$3.00 - 5.00 \\%$','$1.00 - 3.00 \\%$','$0.50 - 1.00 \\%$','$< 0.50 \\%$']\n",
    "levelsC = [0.05, 0.03, 0.01, 0.005]"
   ]
  },
  {
   "cell_type": "code",
   "execution_count": null,
   "id": "informal-screw",
   "metadata": {},
   "outputs": [],
   "source": [
    "plt.figure(figsize = (12, 9))\n",
    "plt.rc('text', usetex = True)\n",
    "plt.scatter(eps_test[error >= levelsC[0]], T_test[error >= levelsC[0]], color='black', label=levelsT[0])\n",
    "plt.scatter(eps_test[(error < levelsC[0]) & (error >= levelsC[1])], T_test[(error < levelsC[0]) & (error >= levelsC[1])], color='red', label=levelsT[1])\n",
    "plt.scatter(eps_test[(error < levelsC[1]) & (error >= levelsC[2])], T_test[(error < levelsC[1]) & (error >= levelsC[2])], color='orange', label=levelsT[2])\n",
    "plt.scatter(eps_test[(error < levelsC[2]) & (error >= levelsC[3])], T_test[(error < levelsC[2]) & (error >= levelsC[3])], color='yellow', label=levelsT[3])\n",
    "plt.scatter(eps_test[error < levelsC[3]], T_test[error < levelsC[3]], color='green', label=levelsT[4])\n",
    "plt.legend(loc = 'lower right',fancybox = True, numpoints = 1, fontsize = 14)\n",
    "plt.xlabel(r'$Plastic\\ strain\\ \\varepsilon^{p}$', fontsize = 16)\n",
    "plt.ylabel(r'$Temperature\\ T^{\\circ}C$', fontsize = 16)\n",
    "plt.title(r'$Map\\ of\\ errors\\ \\partial\\sigma/\\partial\\varepsilon^{p}(\\varepsilon^{p},T)$', fontsize = 20)\n",
    "plt.savefig(ANN_name + 'Map-derivative-eps-1.svg')\n",
    "plt.show()\n",
    "plt.figure(figsize = (12, 9))\n",
    "plt.rc('text', usetex = True)\n",
    "plt.scatter(eps_test[error >= levelsC[0]], np.exp(epsp_test[error >= levelsC[0]]), color='black', label=levelsT[0])\n",
    "plt.scatter(eps_test[(error < levelsC[0]) & (error >= levelsC[1])], np.exp(epsp_test[(error < levelsC[0]) & (error >= levelsC[1])]), color='red', label=levelsT[1])\n",
    "plt.scatter(eps_test[(error < levelsC[1]) & (error >= levelsC[2])], np.exp(epsp_test[(error < levelsC[1]) & (error >= levelsC[2])]), color='orange', label=levelsT[2])\n",
    "plt.scatter(eps_test[(error < levelsC[2]) & (error >= levelsC[3])], np.exp(epsp_test[(error < levelsC[2]) & (error >= levelsC[3])]), color='yellow', label=levelsT[3])\n",
    "plt.scatter(eps_test[error < levelsC[3]], np.exp(epsp_test[error < levelsC[3]]), color='green', label=levelsT[4])\n",
    "plt.legend(loc = 'lower right',fancybox = True, numpoints = 1, fontsize = 14)\n",
    "plt.legend(loc = 'lower right',fancybox = True, numpoints = 1, fontsize = 14)\n",
    "plt.xlabel(r'$Plastic\\ strain\\ \\varepsilon^{p}$', fontsize = 16)\n",
    "plt.ylabel(r'$Plastic\\ strain\\ rate\\ \\dot{\\varepsilon^{p}}$', fontsize = 16)\n",
    "plt.title(r'$Map\\ of\\ errors\\ \\partial\\sigma/\\partial\\varepsilon^{p}(\\varepsilon^{p},\\dot\\varepsilon^{p})$', fontsize = 20)\n",
    "plt.savefig(ANN_name + 'Map-derivative-eps-2.svg')\n",
    "plt.show()"
   ]
  },
  {
   "cell_type": "code",
   "execution_count": null,
   "id": "boxed-trial",
   "metadata": {},
   "outputs": [],
   "source": [
    "fig = plt.figure(figsize = (8, 8))\n",
    "plt.rc('text', usetex = True)\n",
    "ax = fig.add_subplot(111, projection='3d')\n",
    "ax.scatter(eps_test[error >= levelsC[0]], np.exp(epsp_test[error >= levelsC[0]]), T_test[error >= levelsC[0]], color='black', label=levelsT[0])\n",
    "ax.scatter(eps_test[(error < levelsC[0]) & (error >= levelsC[1])], np.exp(epsp_test[(error < levelsC[0]) & (error >= levelsC[1])]), T_test[(error < levelsC[0]) & (error >= levelsC[1])], color='red', label=levelsT[1])\n",
    "ax.scatter(eps_test[(error < levelsC[1]) & (error >= levelsC[2])], np.exp(epsp_test[(error < levelsC[1]) & (error >= levelsC[2])]), T_test[(error < levelsC[1]) & (error >= levelsC[2])], color='orange', label=levelsT[2])\n",
    "ax.scatter(eps_test[(error < levelsC[2]) & (error >= levelsC[3])], np.exp(epsp_test[(error < levelsC[2]) & (error >= levelsC[3])]), T_test[(error < levelsC[2]) & (error >= levelsC[3])], color='yellow', label=levelsT[3])\n",
    "ax.scatter(eps_test[error < levelsC[3]], np.exp(epsp_test[error < levelsC[3]]), T_test[error < levelsC[3]], color='green', label=levelsT[4])\n",
    "plt.legend(loc = 'lower right',fancybox = True, numpoints = 1, fontsize = 14)\n",
    "ax.set_xlabel(r'$Plastic\\ strain\\ \\varepsilon^{p}$', fontsize = 16)\n",
    "ax.set_ylabel(r'$Plastic\\ strain\\ rate\\ \\dot{\\varepsilon^{p}}$', fontsize = 16)\n",
    "ax.set_zlabel(r'$Temperature\\ T^{\\circ}C$', fontsize = 16)\n",
    "plt.title(r'$Map\\ of\\ errors\\ \\partial\\sigma/\\partial\\varepsilon^{p}(\\varepsilon^{p},\\dot\\varepsilon^{p},T)$', fontsize = 20)\n",
    "plt.savefig(ANN_name + 'Map-derivative-eps-3D.svg')\n",
    "plt.show()"
   ]
  },
  {
   "cell_type": "code",
   "execution_count": null,
   "id": "requested-feeding",
   "metadata": {},
   "outputs": [],
   "source": [
    "nnvals = ss[1]/testData[:,1]\n",
    "error = np.abs((nnvals - testData[:,5]) / testData[:,5])\n",
    "\"EPSP\", error.max(), error.min(), error.mean()"
   ]
  },
  {
   "cell_type": "code",
   "execution_count": null,
   "id": "proved-proposition",
   "metadata": {},
   "outputs": [],
   "source": [
    "v1 = ss[1]/testData[:,1]\n",
    "v2 = testData[:,5]\n",
    "num = np.sum((v2-np.mean(v2))*(v1-np.mean(v1)))\n",
    "den = math.sqrt(np.sum((v2-np.mean(v2))**2)*np.sum((v1-np.mean(v1))**2))\n",
    "R = num/den\n",
    "#np.mean(np.abs(((NNoutput+1)-(predictedOutput+1))/(NNoutput+1)))*100\n",
    "plt.figure(figsize = (12, 8))\n",
    "plt.rc('text', usetex = True)\n",
    "plt.scatter(v2, v1, color='red', label=\"$AN\\!N\\ prediction$\")\n",
    "plt.plot([np.min(v2),np.max(v2)], [np.min(v2),np.max(v2)], color = 'black', label='$Best\\ fit$')\n",
    "plt.xlim(np.min(v2), np.max(v2))\n",
    "plt.ylim(np.min(v2), np.max(v2))\n",
    "plt.grid()\n",
    "plt.legend(loc = 'lower right',fancybox = True, numpoints = 1, fontsize = 14)\n",
    "plt.xlabel(r'$Analytical\\ \\partial\\sigma/\\partial\\dot{\\varepsilon}^{p}$', fontsize = 16)\n",
    "plt.ylabel(r'$Predicted\\ \\partial\\sigma/\\partial\\dot{\\varepsilon}^{p}$', fontsize = 16)\n",
    "plt.text(np.min(v2) + 0.2*(np.max(v2)-np.min(v2)), np.min(v2)+ 0.7*(np.max(v2)-np.min(v2)), '$R = %.8f$' % (R), fontsize=20)\n",
    "plt.savefig(ANN_name + 'R-sig-epsp.svg')\n",
    "plt.show() "
   ]
  },
  {
   "cell_type": "code",
   "execution_count": null,
   "id": "interior-miller",
   "metadata": {},
   "outputs": [],
   "source": [
    "plt.figure(figsize = (12, 9))\n",
    "plt.rc('text', usetex = True)\n",
    "plt.scatter(eps_test[error >= levelsC[0]], T_test[error >= levelsC[0]], color='black', label=levelsT[0])\n",
    "plt.scatter(eps_test[(error < levelsC[0]) & (error >= levelsC[1])], T_test[(error < levelsC[0]) & (error >= levelsC[1])], color='red', label=levelsT[1])\n",
    "plt.scatter(eps_test[(error < levelsC[1]) & (error >= levelsC[2])], T_test[(error < levelsC[1]) & (error >= levelsC[2])], color='orange', label=levelsT[2])\n",
    "plt.scatter(eps_test[(error < levelsC[2]) & (error >= levelsC[3])], T_test[(error < levelsC[2]) & (error >= levelsC[3])], color='yellow', label=levelsT[3])\n",
    "plt.scatter(eps_test[error < levelsC[3]], T_test[error < levelsC[3]], color='green', label=levelsT[4])\n",
    "plt.legend(loc = 'lower right',fancybox = True, numpoints = 1, fontsize = 14)\n",
    "plt.xlabel(r'$Plastic\\ strain\\ \\varepsilon^{p}$', fontsize = 16)\n",
    "plt.ylabel(r'$Temperature\\ T^{\\circ}C$', fontsize = 16)\n",
    "plt.title(r'$Map\\ of\\ errors\\ \\partial\\sigma/\\partial\\dot{\\varepsilon}^{p}(\\varepsilon^{p},T)$', fontsize = 20)\n",
    "plt.savefig(ANN_name + 'Map-derivative-epsp-1.svg')\n",
    "plt.show()\n",
    "plt.figure(figsize = (12, 9))\n",
    "plt.rc('text', usetex = True)\n",
    "plt.scatter(eps_test[error >= levelsC[0]], np.exp(epsp_test[error >= levelsC[0]]), color='black', label=levelsT[0])\n",
    "plt.scatter(eps_test[(error < levelsC[0]) & (error >= levelsC[1])], np.exp(epsp_test[(error < levelsC[0]) & (error >= levelsC[1])]), color='red', label=levelsT[1])\n",
    "plt.scatter(eps_test[(error < levelsC[1]) & (error >= levelsC[2])], np.exp(epsp_test[(error < levelsC[1]) & (error >= levelsC[2])]), color='orange', label=levelsT[2])\n",
    "plt.scatter(eps_test[(error < levelsC[2]) & (error >= levelsC[3])], np.exp(epsp_test[(error < levelsC[2]) & (error >= levelsC[3])]), color='yellow', label=levelsT[3])\n",
    "plt.scatter(eps_test[error < levelsC[3]], np.exp(epsp_test[error < levelsC[3]]), color='green', label=levelsT[4])\n",
    "plt.legend(loc = 'lower right',fancybox = True, numpoints = 1, fontsize = 14)\n",
    "plt.legend(loc = 'lower right',fancybox = True, numpoints = 1, fontsize = 14)\n",
    "plt.xlabel(r'$Plastic\\ strain\\ \\varepsilon^{p}$', fontsize = 16)\n",
    "plt.ylabel(r'$Plastic\\ strain\\ rate\\ \\dot{\\varepsilon^{p}}$', fontsize = 16)\n",
    "plt.title(r'$Map\\ of\\ errors\\ \\partial\\sigma/\\partial\\dot{\\varepsilon}^{p}(\\varepsilon^{p},\\dot\\varepsilon^{p})$', fontsize = 20)\n",
    "plt.savefig(ANN_name + 'Map-derivative-epsp-2.svg')\n",
    "plt.show()"
   ]
  },
  {
   "cell_type": "code",
   "execution_count": null,
   "id": "collective-beginning",
   "metadata": {},
   "outputs": [],
   "source": [
    "fig = plt.figure(figsize = (8, 8))\n",
    "plt.rc('text', usetex = True)\n",
    "ax = fig.add_subplot(111, projection='3d')\n",
    "ax.scatter(eps_test[error >= levelsC[0]], np.exp(epsp_test[error >= levelsC[0]]), T_test[error >= levelsC[0]], color='black', label=levelsT[0])\n",
    "ax.scatter(eps_test[(error < levelsC[0]) & (error >= levelsC[1])], np.exp(epsp_test[(error < levelsC[0]) & (error >= levelsC[1])]), T_test[(error < levelsC[0]) & (error >= levelsC[1])], color='red', label=levelsT[1])\n",
    "ax.scatter(eps_test[(error < levelsC[1]) & (error >= levelsC[2])], np.exp(epsp_test[(error < levelsC[1]) & (error >= levelsC[2])]), T_test[(error < levelsC[1]) & (error >= levelsC[2])], color='orange', label=levelsT[2])\n",
    "ax.scatter(eps_test[(error < levelsC[2]) & (error >= levelsC[3])], np.exp(epsp_test[(error < levelsC[2]) & (error >= levelsC[3])]), T_test[(error < levelsC[2]) & (error >= levelsC[3])], color='yellow', label=levelsT[3])\n",
    "ax.scatter(eps_test[error < levelsC[3]], np.exp(epsp_test[error < levelsC[3]]), T_test[error < levelsC[3]], color='green', label=levelsT[4])\n",
    "plt.legend(loc = 'lower right',fancybox = True, numpoints = 1, fontsize = 14)\n",
    "ax.set_xlabel(r'$Plastic\\ strain\\ \\varepsilon^{p}$', fontsize = 16)\n",
    "ax.set_ylabel(r'$Plastic\\ strain\\ rate\\ \\dot{\\varepsilon^{p}}$', fontsize = 16)\n",
    "ax.set_zlabel(r'$Temperature\\ T^{\\circ}C$', fontsize = 16)\n",
    "plt.title(r'$Map\\ of\\ errors\\ \\partial\\sigma/\\partial\\dot{\\varepsilon}^{p}(\\varepsilon^{p},\\dot\\varepsilon^{p},T)$', fontsize = 20)\n",
    "plt.savefig(ANN_name + 'Map-derivative-epsp-3D.svg')\n",
    "plt.show()"
   ]
  },
  {
   "cell_type": "code",
   "execution_count": null,
   "id": "noted-portsmouth",
   "metadata": {
    "scrolled": true
   },
   "outputs": [],
   "source": [
    "nnvals = ss[2]\n",
    "error = np.abs((nnvals - testData[:,6]) / testData[:,6])\n",
    "\"T\", error.max(), error.min(), error.mean()"
   ]
  },
  {
   "cell_type": "code",
   "execution_count": null,
   "id": "serious-wilson",
   "metadata": {},
   "outputs": [],
   "source": [
    "v1 = ss[2]\n",
    "v2 = testData[:,6]\n",
    "num = np.sum((v2-np.mean(v2))*(v1-np.mean(v1)))\n",
    "den = math.sqrt(np.sum((v2-np.mean(v2))**2)*np.sum((v1-np.mean(v1))**2))\n",
    "R = num/den\n",
    "#np.mean(np.abs(((NNoutput+1)-(predictedOutput+1))/(NNoutput+1)))*100\n",
    "plt.figure(figsize = (12, 8))\n",
    "plt.rc('text', usetex = True)\n",
    "plt.scatter(v2, v1, color='red', label=\"$AN\\!N\\ prediction$\")\n",
    "plt.plot([np.min(v2),np.max(v2)], [np.min(v2),np.max(v2)], color = 'black', label='$Best\\ fit$')\n",
    "plt.xlim(np.min(v2), np.max(v2))\n",
    "plt.ylim(np.min(v2), np.max(v2))\n",
    "plt.grid()\n",
    "plt.legend(loc = 'lower right',fancybox = True, numpoints = 1, fontsize = 14)\n",
    "plt.xlabel(r'$Analytical\\ \\partial\\sigma/\\partial T$', fontsize = 16)\n",
    "plt.ylabel(r'$Predicted\\ \\partial\\sigma/\\partial T$', fontsize = 16)\n",
    "plt.text(np.min(v2) + 0.2*(np.max(v2)-np.min(v2)), np.min(v2)+ 0.7*(np.max(v2)-np.min(v2)), '$R = %.8f$' % (R), fontsize=20)\n",
    "#plt.title(r'$Map\\ of\\ errors\\ \\varepsilon^{p} / T$', fontsize = 20)\n",
    "#if (saveFigures) : plt.savefig(dataPath + '/' + 'NN-' + model.name + '-error-sig.svg', bbox_inches = 'tight', pad_inches = 0)\n",
    "plt.savefig(ANN_name + 'R-sig-T.svg')\n",
    "plt.show() "
   ]
  },
  {
   "cell_type": "code",
   "execution_count": null,
   "id": "round-peninsula",
   "metadata": {},
   "outputs": [],
   "source": [
    "plt.figure(figsize = (12, 9))\n",
    "plt.rc('text', usetex = True)\n",
    "plt.scatter(eps_test[error >= levelsC[0]], T_test[error >= levelsC[0]], color='black', label=levelsT[0])\n",
    "plt.scatter(eps_test[(error < levelsC[0]) & (error >= levelsC[1])], T_test[(error < levelsC[0]) & (error >= levelsC[1])], color='red', label=levelsT[1])\n",
    "plt.scatter(eps_test[(error < levelsC[1]) & (error >= levelsC[2])], T_test[(error < levelsC[1]) & (error >= levelsC[2])], color='orange', label=levelsT[2])\n",
    "plt.scatter(eps_test[(error < levelsC[2]) & (error >= levelsC[3])], T_test[(error < levelsC[2]) & (error >= levelsC[3])], color='yellow', label=levelsT[3])\n",
    "plt.scatter(eps_test[error < levelsC[3]], T_test[error < levelsC[3]], color='green', label=levelsT[4])\n",
    "plt.legend(loc = 'lower right',fancybox = True, numpoints = 1, fontsize = 14)\n",
    "plt.xlabel(r'$Plastic\\ strain\\ \\varepsilon^{p}$', fontsize = 16)\n",
    "plt.ylabel(r'$Temperature\\ T^{\\circ}C$', fontsize = 16)\n",
    "plt.title(r'$Map\\ of\\ errors\\ \\partial\\sigma/\\partial T(\\varepsilon^{p},T)$', fontsize = 20)\n",
    "plt.savefig(ANN_name + 'Map-derivative-T-1.svg')\n",
    "plt.show()\n",
    "plt.figure(figsize = (12, 9))\n",
    "plt.rc('text', usetex = True)\n",
    "plt.scatter(eps_test[error >= levelsC[0]], np.exp(epsp_test[error >= levelsC[0]]), color='black', label=levelsT[0])\n",
    "plt.scatter(eps_test[(error < levelsC[0]) & (error >= levelsC[1])], np.exp(epsp_test[(error < levelsC[0]) & (error >= levelsC[1])]), color='red', label=levelsT[1])\n",
    "plt.scatter(eps_test[(error < levelsC[1]) & (error >= levelsC[2])], np.exp(epsp_test[(error < levelsC[1]) & (error >= levelsC[2])]), color='orange', label=levelsT[2])\n",
    "plt.scatter(eps_test[(error < levelsC[2]) & (error >= levelsC[3])], np.exp(epsp_test[(error < levelsC[2]) & (error >= levelsC[3])]), color='yellow', label=levelsT[3])\n",
    "plt.scatter(eps_test[error < levelsC[3]], np.exp(epsp_test[error < levelsC[3]]), color='green', label=levelsT[4])\n",
    "plt.legend(loc = 'lower right',fancybox = True, numpoints = 1, fontsize = 14)\n",
    "plt.legend(loc = 'lower right',fancybox = True, numpoints = 1, fontsize = 14)\n",
    "plt.xlabel(r'$Plastic\\ strain\\ \\varepsilon^{p}$', fontsize = 16)\n",
    "plt.ylabel(r'$Plastic\\ strain\\ rate\\ \\dot{\\varepsilon^{p}}$', fontsize = 16)\n",
    "plt.title(r'$Map\\ of\\ errors\\ \\partial\\sigma/\\partial T(\\varepsilon^{p},\\dot\\varepsilon^{p})$', fontsize = 20)\n",
    "plt.savefig(ANN_name + 'Map-derivative-T-2.svg')\n",
    "plt.show()"
   ]
  },
  {
   "cell_type": "code",
   "execution_count": null,
   "id": "empirical-foundation",
   "metadata": {},
   "outputs": [],
   "source": [
    "fig = plt.figure(figsize = (8, 8))\n",
    "plt.rc('text', usetex = True)\n",
    "ax = fig.add_subplot(111, projection='3d')\n",
    "ax.scatter(eps_test[error >= levelsC[0]], np.exp(epsp_test[error >= levelsC[0]]), T_test[error >= levelsC[0]], color='black', label=levelsT[0])\n",
    "ax.scatter(eps_test[(error < levelsC[0]) & (error >= levelsC[1])], np.exp(epsp_test[(error < levelsC[0]) & (error >= levelsC[1])]), T_test[(error < levelsC[0]) & (error >= levelsC[1])], color='red', label=levelsT[1])\n",
    "ax.scatter(eps_test[(error < levelsC[1]) & (error >= levelsC[2])], np.exp(epsp_test[(error < levelsC[1]) & (error >= levelsC[2])]), T_test[(error < levelsC[1]) & (error >= levelsC[2])], color='orange', label=levelsT[2])\n",
    "ax.scatter(eps_test[(error < levelsC[2]) & (error >= levelsC[3])], np.exp(epsp_test[(error < levelsC[2]) & (error >= levelsC[3])]), T_test[(error < levelsC[2]) & (error >= levelsC[3])], color='yellow', label=levelsT[3])\n",
    "ax.scatter(eps_test[error < levelsC[3]], np.exp(epsp_test[error < levelsC[3]]), T_test[error < levelsC[3]], color='green', label=levelsT[4])\n",
    "plt.legend(loc = 'lower right',fancybox = True, numpoints = 1, fontsize = 14)\n",
    "ax.set_xlabel(r'$Plastic\\ strain\\ \\varepsilon^{p}$', fontsize = 16)\n",
    "ax.set_ylabel(r'$Plastic\\ strain\\ rate\\ \\dot{\\varepsilon^{p}}$', fontsize = 16)\n",
    "ax.set_zlabel(r'$Temperature\\ T^{\\circ}C$', fontsize = 16)\n",
    "plt.title(r'$Map\\ of\\ errors\\ \\partial\\sigma/\\partial T(\\varepsilon^{p},\\dot\\varepsilon^{p},T)$', fontsize = 20)\n",
    "plt.savefig(ANN_name + 'Map-derivative-T-3D.svg')\n",
    "plt.show()"
   ]
  },
  {
   "cell_type": "code",
   "execution_count": null,
   "id": "stable-truth",
   "metadata": {},
   "outputs": [],
   "source": [
    "TotalFrames = len(glob.glob(dataPath + '/' + ANN_name + '/ANN-*.npz'))\n",
    "framesWide = 1000\n",
    "emax = np.array([])\n",
    "emin = np.array([])\n",
    "emean = np.array([])\n",
    "epmax = np.array([])\n",
    "epmin = np.array([])\n",
    "epmean = np.array([])\n",
    "tmax = np.array([])\n",
    "tmin = np.array([])\n",
    "tmean = np.array([])\n",
    "smax = np.array([])\n",
    "smin = np.array([])\n",
    "smean = np.array([])\n",
    "for i in range(TotalFrames):\n",
    "    nm = dataPath + '/' + ANN_name + '/ANN-' + str(i) + '.npz'\n",
    "    NN = np.load(nm)\n",
    "    w1 = NN['w1']\n",
    "    w2 = NN['w2']\n",
    "    w3 = NN['w3']\n",
    "    b1 = NN['b1']\n",
    "    b2 = NN['b2']\n",
    "    b3 = NN['b3']\n",
    "    minEntries = NN['minEntries']\n",
    "    maxEntries = NN['maxEntries']\n",
    "    rangeEntries = maxEntries - minEntries\n",
    "    logBase = NN['logBase']\n",
    "    if ('tanh' in ANN_name) : sp = tanhPrime2Layers(inputTest.T)\n",
    "    elif ('sigmoid' in ANN_name) : sp = sigmoidPrime2Layers(inputTest.T)\n",
    "    else : sp = 0\n",
    "    ss = sp*scaleOut\n",
    "    error = np.abs((ss[0,:] - testData[:,4]) / testData[:,4])\n",
    "    emax=np.append(emax,error.max())\n",
    "    emin=np.append(emin,error.min())\n",
    "    emean=np.append(emean,error.mean())    \n",
    "    error = np.abs((ss[1]/testData[:,1] - testData[:,5]) / testData[:,5])\n",
    "    epmax=np.append(epmax,error.max())\n",
    "    epmin=np.append(epmin,error.min())\n",
    "    epmean=np.append(epmean,error.mean())    \n",
    "    error = np.abs((ss[2] - testData[:,6]) / testData[:,6])\n",
    "    tmax=np.append(tmax,error.max())\n",
    "    tmin=np.append(tmin,error.min())\n",
    "    tmean=np.append(tmean,error.mean())\n",
    "    if ('tanh' in ANN_name) : sp = tanh2Layers(inputTest.T)\n",
    "    elif ('sigmoid' in ANN_name) : sp = sigmoid2Layers(inputTest.T)\n",
    "    else : sp = 0\n",
    "    error = np.abs((sp[0,:] - testData[:,3]) / testData[:,3])\n",
    "    smax=np.append(smax,error.max())\n",
    "    smin=np.append(smin,error.min())\n",
    "    smean=np.append(smean,error.mean())   "
   ]
  },
  {
   "cell_type": "code",
   "execution_count": null,
   "id": "structural-overall",
   "metadata": {},
   "outputs": [],
   "source": [
    "plt.figure(figsize = (12, 9))\n",
    "plt.rc('text', usetex = True)\n",
    "xx = np.linspace(1,TotalFrames*framesWide,TotalFrames)\n",
    "plt.plot(xx,100*smax, label = r\"$\\sigma$\",  linewidth = 3)\n",
    "plt.plot(xx,100*emax, label = r\"$\\partial\\sigma/\\partial\\varepsilon^p$\",  linewidth = 3)\n",
    "plt.plot(xx,100*epmax, label = r\"$\\partial\\sigma/\\partial\\dot{\\varepsilon^p}$\",  linewidth = 3)\n",
    "plt.plot(xx,100*tmax, label = r\"$\\partial\\sigma/\\partial T$\",  linewidth = 3)\n",
    "plt.grid()\n",
    "plt.ylim(0, 10)\n",
    "plt.xlabel(r'$Iteration$', fontsize = 16)\n",
    "plt.ylabel(r'$Average\\ absolute\\ relative\\ error\\ $AARE$(\\%)$', fontsize = 16)\n",
    "plt.title(r'$Maximum\\ error\\ of\\ the\\ Neural\\ Network\\ on\\ partial\\ derivatives$', fontsize = 16)\n",
    "plt.legend(loc = 'upper right',fancybox = True, numpoints = 1, fontsize = 14)\n",
    "plt.savefig(ANN_name + 'max-error.svg')\n",
    "plt.show()"
   ]
  },
  {
   "cell_type": "code",
   "execution_count": null,
   "id": "abroad-knitting",
   "metadata": {
    "scrolled": false
   },
   "outputs": [],
   "source": [
    "plt.figure(figsize = (12, 9))\n",
    "plt.rc('text', usetex = True)\n",
    "xx = np.linspace(1,TotalFrames*framesWide,TotalFrames)\n",
    "plt.plot(xx,100*smean, label = r\"$\\sigma$\",  linewidth = 3)\n",
    "plt.plot(xx,100*emean, label = r\"$\\partial\\sigma/\\partial\\varepsilon^p$\",  linewidth = 3)\n",
    "plt.plot(xx,100*epmean, label = r\"$\\partial\\sigma/\\partial\\dot{\\varepsilon^p}$\",  linewidth = 3)\n",
    "plt.plot(xx,100*tmean, label = r\"$\\partial\\sigma/\\partial T$\",  linewidth = 3)\n",
    "plt.grid()\n",
    "plt.ylim(0, 5)\n",
    "plt.xlabel(r'$Iteration$', fontsize = 16)\n",
    "plt.ylabel(r'$Average\\ absolute\\ relative\\ error\\ $AARE$(\\%)$', fontsize = 16)\n",
    "plt.title(r'$Mean\\ error\\ of\\ the\\ Neural\\ Network\\ on\\ partial\\ derivatives$', fontsize = 16)\n",
    "plt.legend(loc = 'upper right',fancybox = True, numpoints = 1, fontsize = 14)\n",
    "plt.savefig(ANN_name + 'mean-error.svg')\n",
    "plt.show()"
   ]
  },
  {
   "cell_type": "code",
   "execution_count": null,
   "id": "handy-restoration",
   "metadata": {},
   "outputs": [],
   "source": [
    "file_object = open('compare.txt', 'a')\n",
    "file_object.write(ANN_name+'\\n')\n",
    "file_object.write('smean: %5.3f \\n' %(100*np.mean(smean[-6:-1])))\n",
    "file_object.write('emean: %5.3f \\n' %(100*np.mean(emean[-6:-1])))\n",
    "file_object.write('epmean: %5.3f \\n' %(100*np.mean(epmean[-6:-1])))\n",
    "file_object.write('tmean: %5.3f \\n' %(100*np.mean(tmean[-6:-1])))\n",
    "file_object.write('smax: %5.3f \\n' %(100*np.mean(smax[-6:-1])))\n",
    "file_object.write('emax: %5.3f \\n' %(100*np.mean(emax[-6:-1])))\n",
    "file_object.write('epmax: %5.3f \\n' %(100*np.mean(epmax[-6:-1])))\n",
    "file_object.write('tmax: %5.3f \\n' %(100*np.mean(tmax[-6:-1])))\n",
    "file_object.close()"
   ]
  },
  {
   "cell_type": "code",
   "execution_count": null,
   "id": "dressed-oregon",
   "metadata": {},
   "outputs": [],
   "source": [
    "file_object = open('compare.csv', 'a')\n",
    "file_object.write(ANN_name+';')\n",
    "file_object.write('%5.3f;' %(100*np.mean(smean[-6:-1])))\n",
    "file_object.write('%5.3f;' %(100*np.mean(emean[-6:-1])))\n",
    "file_object.write('%5.3f;' %(100*np.mean(epmean[-6:-1])))\n",
    "file_object.write('%5.3f;' %(100*np.mean(tmean[-6:-1])))\n",
    "file_object.write('%5.3f;' %(100*np.mean(smax[-6:-1])))\n",
    "file_object.write('%5.3f;' %(100*np.mean(emax[-6:-1])))\n",
    "file_object.write('%5.3f;' %(100*np.mean(epmax[-6:-1])))\n",
    "file_object.write('%5.3f\\n' %(100*np.mean(tmax[-6:-1])))\n",
    "file_object.close()"
   ]
  }
 ],
 "metadata": {
  "kernelspec": {
   "display_name": "Python 3",
   "language": "python",
   "name": "python3"
  },
  "language_info": {
   "codemirror_mode": {
    "name": "ipython",
    "version": 3
   },
   "file_extension": ".py",
   "mimetype": "text/x-python",
   "name": "python",
   "nbconvert_exporter": "python",
   "pygments_lexer": "ipython3",
   "version": "3.8.8"
  },
  "toc": {
   "base_numbering": 1,
   "nav_menu": {},
   "number_sections": false,
   "sideBar": true,
   "skip_h1_title": false,
   "title_cell": "Table of Contents",
   "title_sidebar": "Contents",
   "toc_cell": false,
   "toc_position": {
    "height": "calc(100% - 180px)",
    "left": "10px",
    "top": "150px",
    "width": "362.188px"
   },
   "toc_section_display": true,
   "toc_window_display": true
  },
  "varInspector": {
   "cols": {
    "lenName": 16,
    "lenType": 16,
    "lenVar": 40
   },
   "kernels_config": {
    "python": {
     "delete_cmd_postfix": "",
     "delete_cmd_prefix": "del ",
     "library": "var_list.py",
     "varRefreshCmd": "print(var_dic_list())"
    },
    "r": {
     "delete_cmd_postfix": ") ",
     "delete_cmd_prefix": "rm(",
     "library": "var_list.r",
     "varRefreshCmd": "cat(var_dic_list()) "
    }
   },
   "types_to_exclude": [
    "module",
    "function",
    "builtin_function_or_method",
    "instance",
    "_Feature"
   ],
   "window_display": false
  }
 },
 "nbformat": 4,
 "nbformat_minor": 5
}
