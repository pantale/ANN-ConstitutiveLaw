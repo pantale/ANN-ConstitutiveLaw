{
 "cells": [
  {
   "cell_type": "markdown",
   "id": "intellectual-romance",
   "metadata": {
    "ExecuteTime": {
     "end_time": "2021-03-04T09:59:15.537143Z",
     "start_time": "2021-03-04T09:40:23.562Z"
    }
   },
   "source": [
    "# Use of a Neural-Network for Constitutive Law"
   ]
  },
  {
   "cell_type": "markdown",
   "id": "large-nomination",
   "metadata": {},
   "source": [
    "To allow inline pictures, run the following block"
   ]
  },
  {
   "cell_type": "code",
   "execution_count": 1,
   "id": "nonprofit-roads",
   "metadata": {
    "ExecuteTime": {
     "end_time": "2021-03-22T15:58:49.822904Z",
     "start_time": "2021-03-22T15:58:49.527250Z"
    }
   },
   "outputs": [],
   "source": [
    "%matplotlib inline"
   ]
  },
  {
   "cell_type": "markdown",
   "id": "vanilla-jimmy",
   "metadata": {},
   "source": [
    "Import all the useful libraries before first run\n",
    "We need here the classic ones such as:\n",
    "- math\n",
    "- numpy\n",
    "- pandas\n",
    "- matplotlib\n",
    "\n",
    "And for the Neural Network, we also need to import parts of the keras module of TensorFlow"
   ]
  },
  {
   "cell_type": "code",
   "execution_count": 2,
   "id": "quality-batman",
   "metadata": {
    "ExecuteTime": {
     "end_time": "2021-03-22T15:58:52.049518Z",
     "start_time": "2021-03-22T15:58:51.731945Z"
    }
   },
   "outputs": [],
   "source": [
    "import glob\n",
    "import math\n",
    "import numpy as np\n",
    "import pandas as pd\n",
    "import matplotlib.pyplot as plt"
   ]
  },
  {
   "cell_type": "markdown",
   "id": "refined-phone",
   "metadata": {},
   "source": [
    "## Load the test database"
   ]
  },
  {
   "cell_type": "markdown",
   "id": "wrapped-knight",
   "metadata": {},
   "source": [
    "Read the Test database"
   ]
  },
  {
   "cell_type": "code",
   "execution_count": 3,
   "id": "mighty-influence",
   "metadata": {
    "ExecuteTime": {
     "end_time": "2021-03-22T15:58:55.349282Z",
     "start_time": "2021-03-22T15:58:55.335413Z"
    }
   },
   "outputs": [],
   "source": [
    "dataPath = '.'\n",
    "read = np.load(dataPath + '/DatatestWithDerivatives.npz')\n",
    "testData = read['testData']\n",
    "nrows = testData.shape[0]"
   ]
  },
  {
   "cell_type": "code",
   "execution_count": 4,
   "id": "another-equivalent",
   "metadata": {
    "ExecuteTime": {
     "end_time": "2021-03-22T15:58:55.765285Z",
     "start_time": "2021-03-22T15:58:55.757019Z"
    }
   },
   "outputs": [],
   "source": [
    "eps_test = testData[:,0].reshape(nrows,1)\n",
    "epsp_test = testData[:,1].reshape(nrows,1)\n",
    "T_test = testData[:,2].reshape(nrows,1)\n",
    "sig_test = testData[:,3].reshape(nrows,1)"
   ]
  },
  {
   "cell_type": "markdown",
   "id": "charged-gross",
   "metadata": {},
   "source": [
    " ## Load the NN parameters"
   ]
  },
  {
   "cell_type": "code",
   "execution_count": 5,
   "id": "widespread-wichita",
   "metadata": {
    "ExecuteTime": {
     "end_time": "2021-03-22T15:59:04.231797Z",
     "start_time": "2021-03-22T15:59:04.176785Z"
    },
    "scrolled": false
   },
   "outputs": [
    {
     "name": "stdout",
     "output_type": "stream",
     "text": [
      "['logBase', 'minEntries', 'maxEntries', 'w1', 'b1', 'w2', 'b2', 'w3', 'b3']\n"
     ]
    },
    {
     "data": {
      "text/plain": [
       "(array([[-1.71193019e-01, -4.98235881e-01,  1.57230926e+00],\n",
       "        [-1.82183892e-01, -2.79642552e-01,  1.38154745e+00],\n",
       "        [-1.21008851e-01, -9.36221778e-02, -1.28485608e+00],\n",
       "        [ 6.77952528e-01,  7.85129726e-01, -3.60040736e+00],\n",
       "        [-8.22493362e+00,  1.02857426e-01, -1.17000186e+00],\n",
       "        [-2.62212038e-01, -3.70604903e-01,  1.53059375e+00],\n",
       "        [ 3.63313168e-01,  3.07944298e-01, -1.73980820e+00],\n",
       "        [-1.71282619e-01, -9.36020970e-01, -7.00896144e-01],\n",
       "        [-2.93405890e+00,  2.49693431e-02, -8.18501532e-01],\n",
       "        [-2.98778355e-01, -5.17931700e-01, -7.58085251e+00],\n",
       "        [ 1.17702794e+00, -3.08994055e-01, -1.68417966e+00],\n",
       "        [-2.31339216e-01, -2.90423155e-01,  1.50245142e+00],\n",
       "        [ 2.35784103e+02, -9.92930010e-02,  7.60096788e-01],\n",
       "        [-2.33444443e+01,  1.64729804e-01, -9.49119210e-01],\n",
       "        [ 3.29279006e-01,  5.42672016e-02, -1.55521262e+00]], dtype=float32),\n",
       " array([[-0.5497108 ],\n",
       "        [-1.0076679 ],\n",
       "        [ 1.146429  ],\n",
       "        [-1.0565801 ],\n",
       "        [-0.8343578 ],\n",
       "        [-0.5579931 ],\n",
       "        [-0.515265  ],\n",
       "        [-0.52511525],\n",
       "        [ 0.16425566],\n",
       "        [-1.8643126 ],\n",
       "        [-0.85944176],\n",
       "        [-1.1983486 ],\n",
       "        [ 0.8195926 ],\n",
       "        [-0.50046235],\n",
       "        [-0.58082974]], dtype=float32),\n",
       " array([[ 7.5575867e-04,  3.4887978e-01, -1.6222949e+00, -1.7441266e+00,\n",
       "          1.1896034e+00,  7.7343774e-01, -1.0779928e+00,  1.9596654e-01,\n",
       "          3.7145931e-01, -2.1758666e+00,  2.6741591e-01,  1.1742376e-01,\n",
       "         -1.8373966e+00, -1.6312848e+00, -9.1531247e-01],\n",
       "        [-1.5207362e+00, -5.9875041e-01, -5.6792897e-01,  7.3398745e-01,\n",
       "         -1.9568163e+00, -9.9054205e-01, -2.4108287e-02, -9.2186207e-01,\n",
       "         -1.5858020e+00, -3.5938954e-01, -5.6845796e-01, -4.6205533e-01,\n",
       "          9.3737197e-01,  7.1329349e-01, -2.7031395e-01],\n",
       "        [-2.6396149e-01,  3.4066364e-01, -1.0868982e+00, -1.9029006e-01,\n",
       "          1.5269421e+00,  1.3407497e-01, -4.5862868e-01, -2.1014163e-01,\n",
       "          6.9063985e-01, -5.5928946e-01, -5.6183064e-01,  1.0643189e-02,\n",
       "         -2.7791412e+00,  2.2039006e+00, -8.7418276e-01],\n",
       "        [-1.6671456e+00, -1.2612725e+00, -1.5686920e+00, -1.3008655e+00,\n",
       "         -9.6572256e-01, -1.0763234e+00, -3.9994925e-01, -2.9762471e+00,\n",
       "         -3.9801140e+00, -1.2125764e+00, -4.7813287e-01, -1.4475416e+00,\n",
       "         -2.8728819e-01, -8.4712923e-01, -8.9950746e-01],\n",
       "        [-4.2128038e-01, -5.6432992e-01,  1.0096041e+00,  3.3540881e-01,\n",
       "         -5.1578170e-01, -1.8988983e-01,  5.6168544e-01, -2.7459079e-01,\n",
       "         -6.4058948e-01, -4.5483127e-01,  1.8522179e-01, -1.2040365e+00,\n",
       "          2.7159615e+00, -2.4153664e+00,  5.0827748e-01],\n",
       "        [-1.8799161e+00, -1.5221658e+00, -4.6875900e-01,  1.4179943e+00,\n",
       "          3.7001091e-01, -2.7184730e+00,  4.6996176e-01, -2.3142791e+00,\n",
       "         -6.8248051e-01, -1.6163871e+00,  2.0272562e-01, -1.4510316e+00,\n",
       "          9.9444561e-02, -1.2936606e+00,  2.0372213e-01],\n",
       "        [-5.8974969e-01, -5.7138050e-01,  1.2054038e-01,  7.6365846e-01,\n",
       "         -1.6087818e+00, -9.1399002e-01,  7.1907687e-01, -1.2067794e+00,\n",
       "         -7.4795055e-01, -6.8977684e-01, -1.2323420e-03, -5.9284639e-01,\n",
       "          1.3819001e+00,  3.2714120e-01,  1.2508176e-01]], dtype=float32),\n",
       " array([[-0.22045061],\n",
       "        [-0.5808742 ],\n",
       "        [-0.32730776],\n",
       "        [-0.9651915 ],\n",
       "        [ 0.00153776],\n",
       "        [-0.99164325],\n",
       "        [-0.17951013]], dtype=float32),\n",
       " array([[-1.1471751 ,  0.39645308, -1.7317302 ,  0.3414903 ,  0.9171404 ,\n",
       "          0.41672006,  0.46903265]], dtype=float32),\n",
       " array([[-0.3997389]], dtype=float32),\n",
       " array([  0.        ,   0.        ,  20.        , 579.18464292]),\n",
       " array([1.00000000e+00, 1.08197783e+01, 5.00000000e+02, 1.55674036e+03]),\n",
       " array([  1.        ,  10.81977828, 480.        , 977.55571504]),\n",
       " array([1]))"
      ]
     },
     "execution_count": 5,
     "metadata": {},
     "output_type": "execute_result"
    }
   ],
   "source": [
    "ANN_name = '3-15-7-1-sigmoid'\n",
    "\n",
    "NN = np.load(dataPath + '/' + ANN_name + '.npz')\n",
    "print (NN.files)\n",
    "w1 = NN['w1']\n",
    "w2 = NN['w2']\n",
    "w3 = NN['w3']\n",
    "b1 = NN['b1']\n",
    "b2 = NN['b2']\n",
    "b3 = NN['b3']\n",
    "minEntries = NN['minEntries']\n",
    "maxEntries = NN['maxEntries']\n",
    "rangeEntries = maxEntries - minEntries\n",
    "logBase = NN['logBase']\n",
    "w1, b1, w2, b2, w3, b3, minEntries, maxEntries, rangeEntries, logBase"
   ]
  },
  {
   "cell_type": "markdown",
   "id": "sensitive-crossing",
   "metadata": {},
   "source": [
    "## Reshape data"
   ]
  },
  {
   "cell_type": "code",
   "execution_count": 6,
   "id": "greatest-ocean",
   "metadata": {
    "ExecuteTime": {
     "end_time": "2021-03-22T15:59:11.391000Z",
     "start_time": "2021-03-22T15:59:11.373680Z"
    }
   },
   "outputs": [
    {
     "data": {
      "text/plain": [
       "array([[0.64999785, 0.90552119, 0.65628871],\n",
       "       [0.77199114, 0.8999689 , 0.45541125],\n",
       "       [0.64433951, 0.99445344, 0.11009941],\n",
       "       ...,\n",
       "       [0.75192854, 0.99520977, 0.75841439],\n",
       "       [0.74276917, 0.88747863, 0.12681504],\n",
       "       [0.68998248, 0.88707664, 0.5388862 ]])"
      ]
     },
     "execution_count": 6,
     "metadata": {},
     "output_type": "execute_result"
    }
   ],
   "source": [
    "epsp_test = np.log(epsp_test / logBase)\n",
    "inputTest = (np.hstack([eps_test, epsp_test, T_test]) - np.array(minEntries)[0:3]) / np.array(rangeEntries)[0:3]\n",
    "inputTest"
   ]
  },
  {
   "cell_type": "markdown",
   "id": "fiscal-equilibrium",
   "metadata": {},
   "source": [
    "Computes the target"
   ]
  },
  {
   "cell_type": "code",
   "execution_count": 7,
   "id": "white-gilbert",
   "metadata": {
    "ExecuteTime": {
     "end_time": "2021-03-22T15:59:17.370431Z",
     "start_time": "2021-03-22T15:59:17.359735Z"
    }
   },
   "outputs": [],
   "source": [
    "def tanh2Layers(inputData):\n",
    "    l1 = w1.dot(inputData) + b1\n",
    "    f1 = np.tanh(l1)\n",
    "    l2 = w2.dot(f1) + b2\n",
    "    f2 = np.tanh(l2)\n",
    "    sigP = w3.dot(f2) + b3\n",
    "    SigmaNN = sigP * rangeEntries[3] + minEntries[3]\n",
    "    return SigmaNN"
   ]
  },
  {
   "cell_type": "code",
   "execution_count": 8,
   "id": "mobile-notice",
   "metadata": {
    "ExecuteTime": {
     "end_time": "2021-03-22T15:59:17.839747Z",
     "start_time": "2021-03-22T15:59:17.829604Z"
    }
   },
   "outputs": [],
   "source": [
    "def sigmoid2Layers(inputData):\n",
    "    l1 = w1.dot(inputData) + b1\n",
    "    f1 = 1/(1 + np.exp(-l1))\n",
    "    l2 = w2.dot(f1) + b2\n",
    "    f2 = 1/( 1 +np.exp(-l2))\n",
    "    sigP = w3.dot(f2) + b3\n",
    "    SigmaNN = sigP * rangeEntries[3] + minEntries[3]\n",
    "    return SigmaNN"
   ]
  },
  {
   "cell_type": "markdown",
   "id": "floppy-turkish",
   "metadata": {},
   "source": [
    "Setup data"
   ]
  },
  {
   "cell_type": "code",
   "execution_count": 9,
   "id": "democratic-delivery",
   "metadata": {
    "ExecuteTime": {
     "end_time": "2021-03-22T15:59:22.650545Z",
     "start_time": "2021-03-22T15:59:22.643171Z"
    }
   },
   "outputs": [],
   "source": [
    "inp = inputTest.T\n",
    "sig = sig_test\n",
    "#inp, sig"
   ]
  },
  {
   "cell_type": "markdown",
   "id": "exotic-carol",
   "metadata": {},
   "source": [
    "Rebuild the real $\\sigma$"
   ]
  },
  {
   "cell_type": "code",
   "execution_count": 13,
   "id": "chinese-detection",
   "metadata": {
    "ExecuteTime": {
     "end_time": "2021-03-22T16:00:43.848348Z",
     "start_time": "2021-03-22T16:00:43.806809Z"
    }
   },
   "outputs": [
    {
     "data": {
      "text/plain": [
       "array([[1232.2282292 ],\n",
       "       [1335.3603057 ],\n",
       "       [1470.46979899],\n",
       "       ...,\n",
       "       [1208.21439896],\n",
       "       [1465.07933384],\n",
       "       [1287.15287545]])"
      ]
     },
     "execution_count": 13,
     "metadata": {},
     "output_type": "execute_result"
    }
   ],
   "source": [
    "if ('tanh' in ANN_name) : SigmaNN = tanh2Layers(inp).T\n",
    "elif ('sigmoid' in ANN_name) : SigmaNN = sigmoid2Layers(inp).T\n",
    "else : SigmaNN = 0\n",
    "SigmaNN"
   ]
  },
  {
   "cell_type": "markdown",
   "id": "metropolitan-wednesday",
   "metadata": {},
   "source": [
    "RMSE"
   ]
  },
  {
   "cell_type": "code",
   "execution_count": 14,
   "id": "bridal-secretary",
   "metadata": {
    "ExecuteTime": {
     "end_time": "2021-03-22T16:00:58.806784Z",
     "start_time": "2021-03-22T16:00:58.796195Z"
    }
   },
   "outputs": [
    {
     "data": {
      "text/plain": [
       "0.024187716472404797"
      ]
     },
     "execution_count": 14,
     "metadata": {},
     "output_type": "execute_result"
    }
   ],
   "source": [
    "np.mean((sig-SigmaNN)**2)"
   ]
  },
  {
   "cell_type": "markdown",
   "id": "cubic-johnson",
   "metadata": {},
   "source": [
    "SI"
   ]
  },
  {
   "cell_type": "code",
   "execution_count": 23,
   "id": "stupid-lawrence",
   "metadata": {
    "ExecuteTime": {
     "end_time": "2021-03-22T16:27:07.073790Z",
     "start_time": "2021-03-22T16:27:07.060102Z"
    }
   },
   "outputs": [
    {
     "data": {
      "text/plain": [
       "1.91854583116436e-05"
      ]
     },
     "execution_count": 23,
     "metadata": {},
     "output_type": "execute_result"
    }
   ],
   "source": [
    "np.mean((sig-SigmaNN)**2)/np.mean(sig)"
   ]
  },
  {
   "cell_type": "markdown",
   "id": "indoor-constraint",
   "metadata": {},
   "source": [
    "R"
   ]
  },
  {
   "cell_type": "code",
   "execution_count": 15,
   "id": "oriented-glass",
   "metadata": {
    "ExecuteTime": {
     "end_time": "2021-03-22T16:02:10.854485Z",
     "start_time": "2021-03-22T16:02:10.839658Z"
    }
   },
   "outputs": [
    {
     "data": {
      "text/plain": [
       "0.9999995545430171"
      ]
     },
     "execution_count": 15,
     "metadata": {},
     "output_type": "execute_result"
    }
   ],
   "source": [
    "num=np.sum((sig-np.mean(sig))*(SigmaNN-np.mean(SigmaNN)))\n",
    "den=math.sqrt(np.sum((sig-np.mean(sig))**2)*np.sum((SigmaNN-np.mean(SigmaNN))**2))\n",
    "num/den"
   ]
  },
  {
   "cell_type": "code",
   "execution_count": 22,
   "id": "approximate-minority",
   "metadata": {
    "ExecuteTime": {
     "end_time": "2021-03-22T16:07:38.114831Z",
     "start_time": "2021-03-22T16:07:38.102634Z"
    }
   },
   "outputs": [
    {
     "data": {
      "text/plain": [
       "0.010490225794119417"
      ]
     },
     "execution_count": 22,
     "metadata": {},
     "output_type": "execute_result"
    }
   ],
   "source": [
    "np.mean(np.abs(((sig+1)-(SigmaNN+1))/(sig+1)))*100"
   ]
  },
  {
   "cell_type": "code",
   "execution_count": 19,
   "id": "bulgarian-nitrogen",
   "metadata": {
    "ExecuteTime": {
     "end_time": "2021-03-22T16:03:57.083461Z",
     "start_time": "2021-03-22T16:03:56.640370Z"
    }
   },
   "outputs": [
    {
     "data": {
      "image/png": "[encoded data removed]",
      "text/plain": [
       "<Figure size 864x576 with 1 Axes>"
      ]
     },
     "metadata": {
      "needs_background": "light"
     },
     "output_type": "display_data"
    }
   ],
   "source": [
    "plt.figure(figsize = (12, 8))\n",
    "plt.rc('text', usetex = True)\n",
    "plt.scatter(SigmaNN, sig, color='red', label=\"$> 1.00 \\%$\")\n",
    "plt.plot([np.min(sig),np.max(sig)], [np.min(sig),np.max(sig)], color = 'black')\n",
    "plt.legend(loc = 'lower right',fancybox = True, numpoints = 1, fontsize = 14)\n",
    "plt.xlabel(r'$Deformation\\ \\overline{\\varepsilon}^{p}$', fontsize = 16)\n",
    "plt.ylabel(r'$T^{\\circ}C$', fontsize = 16)\n",
    "plt.title(r'$Map\\ of\\ errors\\ \\overline{\\varepsilon}^{p} / T$', fontsize = 20)\n",
    "#if (saveFigures) : plt.savefig(dataPath + '/' + 'NN-' + model.name + '-error-T-eps.svg', bbox_inches = 'tight', pad_inches = 0)\n",
    "#else: plt.show()\n",
    "plt.show()"
   ]
  },
  {
   "cell_type": "code",
   "execution_count": 21,
   "id": "characteristic-entertainment",
   "metadata": {
    "ExecuteTime": {
     "end_time": "2021-03-22T16:05:44.388402Z",
     "start_time": "2021-03-22T16:05:44.363080Z"
    }
   },
   "outputs": [
    {
     "name": "stdout",
     "output_type": "stream",
     "text": [
      "Min error is: 0.0000022 %\n",
      "Max error is: 0.0403637 %\n",
      "Mean error is: 0.0104986 %\n",
      "0 / 5000 points have errors > 0.5%\n",
      "\n"
     ]
    }
   ],
   "source": [
    "# Computes the error\n",
    "error = np.abs(SigmaNN - sig)/sig\n",
    "print(\"Min error is: %8.7f %%\" %(np.min(error)*100))\n",
    "print(\"Max error is: %8.7f %%\" %(np.max(error)*100))\n",
    "print(\"Mean error is: %8.7f %%\" %(np.mean(error)*100))\n",
    "errorSort = np.sort(error, axis=0)\n",
    "largeErrors = errorSort[errorSort > 5/1000]\n",
    "print(len(largeErrors),'/',len(error),'points have errors > 0.5%\\n')\n",
    "\n",
    "# Display info for large errors\n",
    "for err in largeErrors[::-1]:\n",
    "    loc = np.where(error == err)[0][0]\n",
    "    print('err= %5.3f %% for eps= %5.3E, epsp= %5.3E, T= %5.2f' %(error[loc][0]*100, eps_test[loc][0], math.exp(epsp_test[loc][0]), T_test[loc][0]))"
   ]
  },
  {
   "cell_type": "code",
   "execution_count": null,
   "id": "pharmaceutical-mining",
   "metadata": {
    "ExecuteTime": {
     "end_time": "2021-03-22T14:15:17.577656Z",
     "start_time": "2021-03-22T14:15:17.573172Z"
    }
   },
   "outputs": [],
   "source": [
    "levelsT = ['$> 1.00 \\%$','$0.50 - 1.00 \\%$','$0.25 - 0.50 \\%$','$0.10 - 0.25 \\%$','$< 0.10 \\%$']\n",
    "levelsC = [0.01, 0.005, 0.0025, 0.001]"
   ]
  },
  {
   "cell_type": "code",
   "execution_count": null,
   "id": "executive-amendment",
   "metadata": {
    "ExecuteTime": {
     "end_time": "2021-03-22T14:15:19.343801Z",
     "start_time": "2021-03-22T14:15:17.581249Z"
    }
   },
   "outputs": [],
   "source": [
    "plt.figure(figsize = (12, 8))\n",
    "plt.rc('text', usetex = True)\n",
    "plt.scatter(eps_test[error >= levelsC[0]], T_test[error >= levelsC[0]], color='black', label=levelsT[0])\n",
    "plt.scatter(eps_test[(error < levelsC[0]) & (error >= levelsC[1])], T_test[(error < levelsC[0]) & (error >= levelsC[1])], color='red', label=levelsT[1])\n",
    "plt.scatter(eps_test[(error < levelsC[1]) & (error >= levelsC[2])], T_test[(error < levelsC[1]) & (error >= levelsC[2])], color='orange', label=levelsT[2])\n",
    "plt.scatter(eps_test[(error < levelsC[2]) & (error >= levelsC[3])], T_test[(error < levelsC[2]) & (error >= levelsC[3])], color='yellow', label=levelsT[3])\n",
    "plt.scatter(eps_test[error < levelsC[3]], T_test[error < levelsC[3]], color='green', label=levelsT[4])\n",
    "plt.legend(loc = 'lower right',fancybox = True, numpoints = 1, fontsize = 14)\n",
    "plt.xlabel(r'$Deformation\\ \\overline{\\varepsilon}^{p}$', fontsize = 16)\n",
    "plt.ylabel(r'$T^{\\circ}C$', fontsize = 16)\n",
    "plt.title(r'$Map\\ of\\ errors\\ \\overline{\\varepsilon}^{p} / T$', fontsize = 20)\n",
    "plt.show()"
   ]
  },
  {
   "cell_type": "code",
   "execution_count": null,
   "id": "intellectual-president",
   "metadata": {
    "ExecuteTime": {
     "end_time": "2021-03-22T14:15:19.904284Z",
     "start_time": "2021-03-22T14:15:19.345503Z"
    }
   },
   "outputs": [],
   "source": [
    "plt.figure(figsize = (12, 8))\n",
    "plt.rc('text', usetex = True)\n",
    "plt.scatter(eps_test[error >= levelsC[0]], np.exp(epsp_test[error >= levelsC[0]]), color='black', label=levelsT[0])\n",
    "plt.scatter(eps_test[(error < levelsC[0]) & (error >= levelsC[1])], np.exp(epsp_test[(error < levelsC[0]) & (error >= levelsC[1])]), color='red', label=levelsT[1])\n",
    "plt.scatter(eps_test[(error < levelsC[1]) & (error >= levelsC[2])], np.exp(epsp_test[(error < levelsC[1]) & (error >= levelsC[2])]), color='orange', label=levelsT[2])\n",
    "plt.scatter(eps_test[(error < levelsC[2]) & (error >= levelsC[3])], np.exp(epsp_test[(error < levelsC[2]) & (error >= levelsC[3])]), color='yellow', label=levelsT[3])\n",
    "plt.scatter(eps_test[error < levelsC[3]], np.exp(epsp_test[error < levelsC[3]]), color='green', label=levelsT[4])\n",
    "plt.legend(loc = 'lower right',fancybox = True, numpoints = 1, fontsize = 14)\n",
    "plt.legend(loc = 'lower right',fancybox = True, numpoints = 1, fontsize = 14)\n",
    "plt.xlabel(r'$Deformation\\ \\overline{\\varepsilon}^{p}$', fontsize = 16)\n",
    "plt.ylabel(r'$\\dot{\\overline{\\varepsilon}^{p}}$', fontsize = 16)\n",
    "plt.title(r'$Map\\ of\\ errors\\ \\overline{\\varepsilon}^{p} / \\dot{\\overline{\\varepsilon}^{p}}$', fontsize = 20)\n",
    "plt.show()"
   ]
  },
  {
   "cell_type": "raw",
   "id": "viral-manner",
   "metadata": {
    "ExecuteTime": {
     "end_time": "2021-03-17T14:20:14.337788Z",
     "start_time": "2021-03-17T14:20:14.315492Z"
    }
   },
   "source": [
    "%matplotlib notebook"
   ]
  },
  {
   "cell_type": "code",
   "execution_count": null,
   "id": "angry-cheese",
   "metadata": {
    "ExecuteTime": {
     "end_time": "2021-03-22T14:15:20.311643Z",
     "start_time": "2021-03-22T14:15:19.906045Z"
    }
   },
   "outputs": [],
   "source": [
    "fig = plt.figure(figsize = (8, 8))\n",
    "plt.rc('text', usetex = True)\n",
    "ax = fig.add_subplot(111, projection='3d')\n",
    "ax.scatter(eps_test[error >= levelsC[0]], np.exp(epsp_test[error >= levelsC[0]]), T_test[error >= levelsC[0]], color='black', label=levelsT[0])\n",
    "ax.scatter(eps_test[(error < levelsC[0]) & (error >= levelsC[1])], np.exp(epsp_test[(error < levelsC[0]) & (error >= levelsC[1])]), T_test[(error < levelsC[0]) & (error >= levelsC[1])], color='red', label=levelsT[1])\n",
    "ax.scatter(eps_test[(error < levelsC[1]) & (error >= levelsC[2])], np.exp(epsp_test[(error < levelsC[1]) & (error >= levelsC[2])]), T_test[(error < levelsC[1]) & (error >= levelsC[2])], color='orange', label=levelsT[2])\n",
    "ax.scatter(eps_test[(error < levelsC[2]) & (error >= levelsC[3])], np.exp(epsp_test[(error < levelsC[2]) & (error >= levelsC[3])]), T_test[(error < levelsC[2]) & (error >= levelsC[3])], color='yellow', label=levelsT[3])\n",
    "ax.scatter(eps_test[error < levelsC[3]], np.exp(epsp_test[error < levelsC[3]]), T_test[error < levelsC[3]], color='green', label=levelsT[4])\n",
    "plt.legend(loc = 'lower right',fancybox = True, numpoints = 1, fontsize = 14)\n",
    "plt.xlabel(r'$Deformation\\ \\overline{\\varepsilon}^{p}$', fontsize = 16)\n",
    "plt.ylabel(r'$T^{\\circ}C$', fontsize = 16)\n",
    "plt.title(r'$Map\\ of\\ errors\\ \\overline{\\varepsilon}^{p} / T$', fontsize = 20)\n",
    "plt.show()"
   ]
  },
  {
   "cell_type": "code",
   "execution_count": null,
   "id": "decreased-youth",
   "metadata": {
    "ExecuteTime": {
     "end_time": "2021-03-22T14:15:20.317003Z",
     "start_time": "2021-03-22T14:15:20.313215Z"
    }
   },
   "outputs": [],
   "source": [
    "loc = np.argmin(error)\n",
    "#loc = 200\n",
    "dx = 1e-6\n",
    "inp = np.array([testData[loc,0], testData[loc,1], testData[loc,2]])\n",
    "sig = testData[loc,3]\n",
    "sigEps = testData[loc,4]\n",
    "sigEpsp = testData[loc,5]\n",
    "sigT = testData[loc,6]"
   ]
  },
  {
   "cell_type": "code",
   "execution_count": null,
   "id": "southern-baghdad",
   "metadata": {
    "ExecuteTime": {
     "end_time": "2021-03-22T14:15:20.322825Z",
     "start_time": "2021-03-22T14:15:20.318824Z"
    }
   },
   "outputs": [],
   "source": [
    "inp, loc"
   ]
  },
  {
   "cell_type": "code",
   "execution_count": null,
   "id": "champion-prescription",
   "metadata": {
    "ExecuteTime": {
     "end_time": "2021-03-22T14:15:20.331395Z",
     "start_time": "2021-03-22T14:15:20.324423Z"
    }
   },
   "outputs": [],
   "source": [
    "inp0 = inp.copy()\n",
    "inp = np.vstack([inp,inp0 + [[dx,0,0]]])\n",
    "inp = np.vstack([inp,inp0 + [[0,dx,0]]])\n",
    "inp = np.vstack([inp,inp0 + [[0,0,dx]]])\n",
    "inp"
   ]
  },
  {
   "cell_type": "code",
   "execution_count": null,
   "id": "printable-premises",
   "metadata": {
    "ExecuteTime": {
     "end_time": "2021-03-22T14:15:20.338015Z",
     "start_time": "2021-03-22T14:15:20.333243Z"
    }
   },
   "outputs": [],
   "source": [
    "for i in range(4): inp[i,1] = np.log(inp[i,1]/logBase)\n",
    "inp"
   ]
  },
  {
   "cell_type": "code",
   "execution_count": null,
   "id": "noble-partnership",
   "metadata": {
    "ExecuteTime": {
     "end_time": "2021-03-22T14:15:20.344054Z",
     "start_time": "2021-03-22T14:15:20.339872Z"
    }
   },
   "outputs": [],
   "source": [
    "inp = (inp - minEntries[0:3]) / rangeEntries[0:3]\n",
    "inp"
   ]
  },
  {
   "cell_type": "code",
   "execution_count": null,
   "id": "emerging-arlington",
   "metadata": {
    "ExecuteTime": {
     "end_time": "2021-03-22T14:15:20.350101Z",
     "start_time": "2021-03-22T14:15:20.345704Z"
    }
   },
   "outputs": [],
   "source": [
    "if ('tanh' in ANN_name) : SigmaNN = tanh2Layers(inp.T)\n",
    "elif ('sigmoid' in ANN_name) : SigmaNN = sigmoid2Layers(inp.T)\n",
    "else : SigmaNN = 0\n",
    "SigmaNN"
   ]
  },
  {
   "cell_type": "code",
   "execution_count": null,
   "id": "coupled-gambling",
   "metadata": {
    "ExecuteTime": {
     "end_time": "2021-03-22T14:15:20.355291Z",
     "start_time": "2021-03-22T14:15:20.351548Z"
    }
   },
   "outputs": [],
   "source": [
    "SigmaNN[0][0], sig, abs((SigmaNN[0][0] - sig)/sig)"
   ]
  },
  {
   "cell_type": "code",
   "execution_count": null,
   "id": "established-adobe",
   "metadata": {
    "ExecuteTime": {
     "end_time": "2021-03-22T14:15:20.364056Z",
     "start_time": "2021-03-22T14:15:20.359642Z"
    }
   },
   "outputs": [],
   "source": [
    "sigEpsN = (SigmaNN[0][1]-SigmaNN[0][0])/dx\n",
    "sigEpsN, sigEps, abs((sigEpsN - sigEps)/sigEps)"
   ]
  },
  {
   "cell_type": "code",
   "execution_count": null,
   "id": "whole-candle",
   "metadata": {
    "ExecuteTime": {
     "end_time": "2021-03-22T14:15:20.371424Z",
     "start_time": "2021-03-22T14:15:20.366537Z"
    }
   },
   "outputs": [],
   "source": [
    "sigEpspN = (SigmaNN[0][2]-SigmaNN[0][0])/dx\n",
    "sigEpspN, sigEpsp, abs((sigEpspN - sigEpsp)/sigEpsp)"
   ]
  },
  {
   "cell_type": "code",
   "execution_count": null,
   "id": "novel-union",
   "metadata": {
    "ExecuteTime": {
     "end_time": "2021-03-22T14:15:20.384490Z",
     "start_time": "2021-03-22T14:15:20.377181Z"
    }
   },
   "outputs": [],
   "source": [
    "sigTN = (SigmaNN[0][3]-SigmaNN[0][0])/dx\n",
    "sigTN, sigT, abs((sigTN- sigT)/sigT)"
   ]
  },
  {
   "cell_type": "markdown",
   "id": "atlantic-director",
   "metadata": {},
   "source": [
    "## Dérivation directe"
   ]
  },
  {
   "cell_type": "code",
   "execution_count": null,
   "id": "persistent-basic",
   "metadata": {
    "ExecuteTime": {
     "end_time": "2021-03-22T14:15:20.391470Z",
     "start_time": "2021-03-22T14:15:20.386416Z"
    }
   },
   "outputs": [],
   "source": [
    "x = inp[0].reshape(3,1)\n",
    "x"
   ]
  },
  {
   "cell_type": "code",
   "execution_count": null,
   "id": "damaged-content",
   "metadata": {
    "ExecuteTime": {
     "end_time": "2021-03-22T14:15:20.398006Z",
     "start_time": "2021-03-22T14:15:20.393391Z"
    }
   },
   "outputs": [],
   "source": [
    "def tanhPrime2Layers(x):\n",
    "    w3v = w3.reshape(w3.shape[1],1)\n",
    "    tanhx = np.tanh(w1.dot(x) + b1)\n",
    "    p2 = w3v * (1 - np.tanh(w2.dot(tanhx) + b2)**2)\n",
    "    p3 = (w2.T).dot(p2)\n",
    "    p5 = p3 * (1 - tanhx**2)\n",
    "    s = (w1.T).dot(p5)\n",
    "    return s"
   ]
  },
  {
   "cell_type": "code",
   "execution_count": null,
   "id": "verbal-israel",
   "metadata": {
    "ExecuteTime": {
     "end_time": "2021-03-22T14:15:20.405038Z",
     "start_time": "2021-03-22T14:15:20.400044Z"
    }
   },
   "outputs": [],
   "source": [
    "def sigmoidPrime2Layers(x):\n",
    "    w3v = w3.reshape(w3.shape[1],1)\n",
    "    expx = np.exp(-(w1.dot(x) + b1))\n",
    "    exp2 = np.exp(w2.dot(1/(1 + expx)) + b2)\n",
    "    p1 = w3v*(exp2 / (1 + exp2)**2)\n",
    "    p2 = expx / (1 + expx)**2\n",
    "    s = (w1.T).dot((w2.T).dot(p1) * p2)\n",
    "    return s"
   ]
  },
  {
   "cell_type": "code",
   "execution_count": null,
   "id": "trained-messenger",
   "metadata": {
    "ExecuteTime": {
     "end_time": "2021-03-22T14:15:20.416289Z",
     "start_time": "2021-03-22T14:15:20.408455Z"
    }
   },
   "outputs": [],
   "source": [
    "if ('tanh' in ANN_name) : s = tanhPrime2Layers(x)\n",
    "elif ('sigmoid' in ANN_name) : s = sigmoidPrime2Layers(x)\n",
    "else : s = 0\n",
    "s"
   ]
  },
  {
   "cell_type": "code",
   "execution_count": null,
   "id": "valid-cannon",
   "metadata": {
    "ExecuteTime": {
     "end_time": "2021-03-22T14:15:20.428590Z",
     "start_time": "2021-03-22T14:15:20.419914Z"
    }
   },
   "outputs": [],
   "source": [
    "scaleOut = np.array([[rangeEntries[3]/rangeEntries[0]],[rangeEntries[3]/rangeEntries[1]],[rangeEntries[3]/rangeEntries[2]]])\n",
    "scaleOut"
   ]
  },
  {
   "cell_type": "code",
   "execution_count": null,
   "id": "soviet-harrison",
   "metadata": {
    "ExecuteTime": {
     "end_time": "2021-03-22T14:15:20.434994Z",
     "start_time": "2021-03-22T14:15:20.430326Z"
    }
   },
   "outputs": [],
   "source": [
    "scaled = s*scaleOut\n",
    "scaled"
   ]
  },
  {
   "cell_type": "code",
   "execution_count": null,
   "id": "driving-alaska",
   "metadata": {
    "ExecuteTime": {
     "end_time": "2021-03-22T14:15:20.442437Z",
     "start_time": "2021-03-22T14:15:20.436737Z"
    }
   },
   "outputs": [],
   "source": [
    "sigEpsNN = scaled[0][0]\n",
    "print(sigEpsNN)\n",
    "print('Num : ',sigEpsN, abs((sigEpsNN-sigEpsN)/sigEpsN))\n",
    "print('Ana : ',sigEps, abs((sigEpsNN-sigEps)/sigEps))"
   ]
  },
  {
   "cell_type": "code",
   "execution_count": null,
   "id": "given-worse",
   "metadata": {
    "ExecuteTime": {
     "end_time": "2021-03-22T14:15:20.449247Z",
     "start_time": "2021-03-22T14:15:20.444107Z"
    }
   },
   "outputs": [],
   "source": [
    "sigEpspNN = scaled[1][0]/testData[loc,1]\n",
    "print(sigEpspNN)\n",
    "print('Num : ',sigEpspN, abs((sigEpspNN-sigEpspN)/sigEpspN))\n",
    "print('Ana : ',sigEpsp, abs((sigEpspNN-sigEpsp)/sigEpsp))"
   ]
  },
  {
   "cell_type": "code",
   "execution_count": null,
   "id": "devoted-suspect",
   "metadata": {
    "ExecuteTime": {
     "end_time": "2021-03-22T14:15:20.456418Z",
     "start_time": "2021-03-22T14:15:20.451345Z"
    }
   },
   "outputs": [],
   "source": [
    "sigTNN = scaled[2][0]\n",
    "print(sigTNN)\n",
    "print('Num : ',sigTN, abs((sigTNN-sigTN)/sigTN))\n",
    "print('Ana : ',sigT, abs((sigTNN-sigT)/sigT))"
   ]
  },
  {
   "cell_type": "code",
   "execution_count": null,
   "id": "renewable-analyst",
   "metadata": {
    "ExecuteTime": {
     "end_time": "2021-03-22T14:15:20.482715Z",
     "start_time": "2021-03-22T14:15:20.458228Z"
    }
   },
   "outputs": [],
   "source": [
    "if ('tanh' in ANN_name) : sp = tanhPrime2Layers(inputTest.T)\n",
    "elif ('sigmoid' in ANN_name) : sp = sigmoidPrime2Layers(inputTest.T)\n",
    "else : sp = 0"
   ]
  },
  {
   "cell_type": "code",
   "execution_count": null,
   "id": "creative-enhancement",
   "metadata": {
    "ExecuteTime": {
     "end_time": "2021-03-22T14:15:20.500063Z",
     "start_time": "2021-03-22T14:15:20.489487Z"
    },
    "scrolled": true
   },
   "outputs": [],
   "source": [
    "ss = sp*scaleOut\n",
    "error = np.abs((ss[0,:] - testData[:,4]) / testData[:,4])\n",
    "\"EPS\", error.max(), error.min(), error.mean()"
   ]
  },
  {
   "cell_type": "code",
   "execution_count": null,
   "id": "presidential-egypt",
   "metadata": {
    "ExecuteTime": {
     "end_time": "2021-03-22T14:15:20.510901Z",
     "start_time": "2021-03-22T14:15:20.504477Z"
    }
   },
   "outputs": [],
   "source": [
    "levelsT = ['$> 5.00 \\%$','$3.00 - 5.00 \\%$','$1.00 - 3.00 \\%$','$0.50 - 1.00 \\%$','$< 0.50 \\%$']\n",
    "levelsC = [0.05, 0.03, 0.01, 0.005]"
   ]
  },
  {
   "cell_type": "code",
   "execution_count": null,
   "id": "informal-screw",
   "metadata": {
    "ExecuteTime": {
     "end_time": "2021-03-22T14:15:21.268725Z",
     "start_time": "2021-03-22T14:15:20.515441Z"
    }
   },
   "outputs": [],
   "source": [
    "plt.figure(figsize = (12, 8))\n",
    "plt.rc('text', usetex = True)\n",
    "plt.scatter(eps_test[error >= levelsC[0]], T_test[error >= levelsC[0]], color='black', label=levelsT[0])\n",
    "plt.scatter(eps_test[(error < levelsC[0]) & (error >= levelsC[1])], T_test[(error < levelsC[0]) & (error >= levelsC[1])], color='red', label=levelsT[1])\n",
    "plt.scatter(eps_test[(error < levelsC[1]) & (error >= levelsC[2])], T_test[(error < levelsC[1]) & (error >= levelsC[2])], color='orange', label=levelsT[2])\n",
    "plt.scatter(eps_test[(error < levelsC[2]) & (error >= levelsC[3])], T_test[(error < levelsC[2]) & (error >= levelsC[3])], color='yellow', label=levelsT[3])\n",
    "plt.scatter(eps_test[error < levelsC[3]], T_test[error < levelsC[3]], color='green', label=levelsT[4])\n",
    "plt.legend(loc = 'lower right',fancybox = True, numpoints = 1, fontsize = 14)\n",
    "plt.xlabel(r'$Deformation\\ \\overline{\\varepsilon}^{p}$', fontsize = 16)\n",
    "plt.ylabel(r'$T^{\\circ}C$', fontsize = 16)\n",
    "plt.title(r'$Map\\ of\\ errors\\ \\overline{\\varepsilon}^{p}$', fontsize = 20)\n",
    "plt.show()\n",
    "plt.figure(figsize = (12, 8))\n",
    "plt.rc('text', usetex = True)\n",
    "plt.scatter(eps_test[error >= levelsC[0]], np.exp(epsp_test[error >= levelsC[0]]), color='black', label=levelsT[0])\n",
    "plt.scatter(eps_test[(error < levelsC[0]) & (error >= levelsC[1])], np.exp(epsp_test[(error < levelsC[0]) & (error >= levelsC[1])]), color='red', label=levelsT[1])\n",
    "plt.scatter(eps_test[(error < levelsC[1]) & (error >= levelsC[2])], np.exp(epsp_test[(error < levelsC[1]) & (error >= levelsC[2])]), color='orange', label=levelsT[2])\n",
    "plt.scatter(eps_test[(error < levelsC[2]) & (error >= levelsC[3])], np.exp(epsp_test[(error < levelsC[2]) & (error >= levelsC[3])]), color='yellow', label=levelsT[3])\n",
    "plt.scatter(eps_test[error < levelsC[3]], np.exp(epsp_test[error < levelsC[3]]), color='green', label=levelsT[4])\n",
    "plt.legend(loc = 'lower right',fancybox = True, numpoints = 1, fontsize = 14)\n",
    "plt.legend(loc = 'lower right',fancybox = True, numpoints = 1, fontsize = 14)\n",
    "plt.xlabel(r'$Deformation\\ \\overline{\\varepsilon}^{p}$', fontsize = 16)\n",
    "plt.ylabel(r'$\\dot{\\overline{\\varepsilon}^{p}}$', fontsize = 16)\n",
    "plt.title(r'$Map\\ of\\ errors\\ \\overline{\\varepsilon}^{p}$', fontsize = 20)\n",
    "plt.show()"
   ]
  },
  {
   "cell_type": "code",
   "execution_count": null,
   "id": "requested-feeding",
   "metadata": {
    "ExecuteTime": {
     "end_time": "2021-03-22T14:15:21.274989Z",
     "start_time": "2021-03-22T14:15:21.270050Z"
    }
   },
   "outputs": [],
   "source": [
    "nnvals = ss[1]/testData[:,1]\n",
    "error = np.abs((nnvals - testData[:,5]) / testData[:,5])\n",
    "\"EPSP\", error.max(), error.min(), error.mean()"
   ]
  },
  {
   "cell_type": "code",
   "execution_count": null,
   "id": "interior-miller",
   "metadata": {
    "ExecuteTime": {
     "end_time": "2021-03-22T14:15:21.947243Z",
     "start_time": "2021-03-22T14:15:21.276412Z"
    }
   },
   "outputs": [],
   "source": [
    "plt.figure(figsize = (12, 8))\n",
    "plt.rc('text', usetex = True)\n",
    "plt.scatter(eps_test[error >= levelsC[0]], T_test[error >= levelsC[0]], color='black', label=levelsT[0])\n",
    "plt.scatter(eps_test[(error < levelsC[0]) & (error >= levelsC[1])], T_test[(error < levelsC[0]) & (error >= levelsC[1])], color='red', label=levelsT[1])\n",
    "plt.scatter(eps_test[(error < levelsC[1]) & (error >= levelsC[2])], T_test[(error < levelsC[1]) & (error >= levelsC[2])], color='orange', label=levelsT[2])\n",
    "plt.scatter(eps_test[(error < levelsC[2]) & (error >= levelsC[3])], T_test[(error < levelsC[2]) & (error >= levelsC[3])], color='yellow', label=levelsT[3])\n",
    "plt.scatter(eps_test[error < levelsC[3]], T_test[error < levelsC[3]], color='green', label=levelsT[4])\n",
    "plt.legend(loc = 'lower right',fancybox = True, numpoints = 1, fontsize = 14)\n",
    "plt.xlabel(r'$Deformation\\ \\overline{\\varepsilon}^{p}$', fontsize = 16)\n",
    "plt.ylabel(r'$T^{\\circ}C$', fontsize = 16)\n",
    "plt.title(r'$Map\\ of\\ errors\\ \\dot{\\overline{\\varepsilon}^{p}}$', fontsize = 20)\n",
    "plt.show()\n",
    "plt.figure(figsize = (12, 8))\n",
    "plt.rc('text', usetex = True)\n",
    "plt.scatter(eps_test[error >= levelsC[0]], np.exp(epsp_test[error >= levelsC[0]]), color='black', label=levelsT[0])\n",
    "plt.scatter(eps_test[(error < levelsC[0]) & (error >= levelsC[1])], np.exp(epsp_test[(error < levelsC[0]) & (error >= levelsC[1])]), color='red', label=levelsT[1])\n",
    "plt.scatter(eps_test[(error < levelsC[1]) & (error >= levelsC[2])], np.exp(epsp_test[(error < levelsC[1]) & (error >= levelsC[2])]), color='orange', label=levelsT[2])\n",
    "plt.scatter(eps_test[(error < levelsC[2]) & (error >= levelsC[3])], np.exp(epsp_test[(error < levelsC[2]) & (error >= levelsC[3])]), color='yellow', label=levelsT[3])\n",
    "plt.scatter(eps_test[error < levelsC[3]], np.exp(epsp_test[error < levelsC[3]]), color='green', label=levelsT[4])\n",
    "plt.legend(loc = 'lower right',fancybox = True, numpoints = 1, fontsize = 14)\n",
    "plt.legend(loc = 'lower right',fancybox = True, numpoints = 1, fontsize = 14)\n",
    "plt.xlabel(r'$Deformation\\ \\overline{\\varepsilon}^{p}$', fontsize = 16)\n",
    "plt.ylabel(r'$\\dot{\\overline{\\varepsilon}^{p}}$', fontsize = 16)\n",
    "plt.title(r'$Map\\ of\\ errors\\ \\dot{\\overline{\\varepsilon}^{p}}$', fontsize = 20)\n",
    "plt.show()"
   ]
  },
  {
   "cell_type": "code",
   "execution_count": null,
   "id": "noted-portsmouth",
   "metadata": {
    "ExecuteTime": {
     "end_time": "2021-03-22T14:15:21.953356Z",
     "start_time": "2021-03-22T14:15:21.948624Z"
    },
    "scrolled": true
   },
   "outputs": [],
   "source": [
    "nnvals = ss[2]\n",
    "error = np.abs((nnvals - testData[:,6]) / testData[:,6])\n",
    "\"T\", error.max(), error.min(), error.mean()"
   ]
  },
  {
   "cell_type": "code",
   "execution_count": null,
   "id": "round-peninsula",
   "metadata": {
    "ExecuteTime": {
     "end_time": "2021-03-22T14:15:22.613267Z",
     "start_time": "2021-03-22T14:15:21.954792Z"
    }
   },
   "outputs": [],
   "source": [
    "plt.figure(figsize = (12, 8))\n",
    "plt.rc('text', usetex = True)\n",
    "plt.scatter(eps_test[error >= levelsC[0]], T_test[error >= levelsC[0]], color='black', label=levelsT[0])\n",
    "plt.scatter(eps_test[(error < levelsC[0]) & (error >= levelsC[1])], T_test[(error < levelsC[0]) & (error >= levelsC[1])], color='red', label=levelsT[1])\n",
    "plt.scatter(eps_test[(error < levelsC[1]) & (error >= levelsC[2])], T_test[(error < levelsC[1]) & (error >= levelsC[2])], color='orange', label=levelsT[2])\n",
    "plt.scatter(eps_test[(error < levelsC[2]) & (error >= levelsC[3])], T_test[(error < levelsC[2]) & (error >= levelsC[3])], color='yellow', label=levelsT[3])\n",
    "plt.scatter(eps_test[error < levelsC[3]], T_test[error < levelsC[3]], color='green', label=levelsT[4])\n",
    "plt.legend(loc = 'lower right',fancybox = True, numpoints = 1, fontsize = 14)\n",
    "plt.xlabel(r'$Deformation\\ \\overline{\\varepsilon}^{p}$', fontsize = 16)\n",
    "plt.ylabel(r'$T^{\\circ}C$', fontsize = 16)\n",
    "plt.title(r'$Map\\ of\\ errors\\ T$', fontsize = 20)\n",
    "plt.show()\n",
    "plt.figure(figsize = (12, 8))\n",
    "plt.rc('text', usetex = True)\n",
    "plt.scatter(eps_test[error >= levelsC[0]], np.exp(epsp_test[error >= levelsC[0]]), color='black', label=levelsT[0])\n",
    "plt.scatter(eps_test[(error < levelsC[0]) & (error >= levelsC[1])], np.exp(epsp_test[(error < levelsC[0]) & (error >= levelsC[1])]), color='red', label=levelsT[1])\n",
    "plt.scatter(eps_test[(error < levelsC[1]) & (error >= levelsC[2])], np.exp(epsp_test[(error < levelsC[1]) & (error >= levelsC[2])]), color='orange', label=levelsT[2])\n",
    "plt.scatter(eps_test[(error < levelsC[2]) & (error >= levelsC[3])], np.exp(epsp_test[(error < levelsC[2]) & (error >= levelsC[3])]), color='yellow', label=levelsT[3])\n",
    "plt.scatter(eps_test[error < levelsC[3]], np.exp(epsp_test[error < levelsC[3]]), color='green', label=levelsT[4])\n",
    "plt.legend(loc = 'lower right',fancybox = True, numpoints = 1, fontsize = 14)\n",
    "plt.legend(loc = 'lower right',fancybox = True, numpoints = 1, fontsize = 14)\n",
    "plt.xlabel(r'$Deformation\\ \\overline{\\varepsilon}^{p}$', fontsize = 16)\n",
    "plt.ylabel(r'$\\dot{\\overline{\\varepsilon}^{p}}$', fontsize = 16)\n",
    "plt.title(r'$Map\\ of\\ errors\\ T$', fontsize = 20)\n",
    "plt.show()"
   ]
  },
  {
   "cell_type": "code",
   "execution_count": null,
   "id": "empirical-foundation",
   "metadata": {
    "ExecuteTime": {
     "end_time": "2021-03-22T14:15:23.028716Z",
     "start_time": "2021-03-22T14:15:22.614577Z"
    }
   },
   "outputs": [],
   "source": [
    "fig = plt.figure(figsize = (8, 8))\n",
    "plt.rc('text', usetex = True)\n",
    "ax = fig.add_subplot(111, projection='3d')\n",
    "ax.scatter(eps_test[error >= levelsC[0]], np.exp(epsp_test[error >= levelsC[0]]), T_test[error >= levelsC[0]], color='black', label=levelsT[0])\n",
    "ax.scatter(eps_test[(error < levelsC[0]) & (error >= levelsC[1])], np.exp(epsp_test[(error < levelsC[0]) & (error >= levelsC[1])]), T_test[(error < levelsC[0]) & (error >= levelsC[1])], color='red', label=levelsT[1])\n",
    "ax.scatter(eps_test[(error < levelsC[1]) & (error >= levelsC[2])], np.exp(epsp_test[(error < levelsC[1]) & (error >= levelsC[2])]), T_test[(error < levelsC[1]) & (error >= levelsC[2])], color='orange', label=levelsT[2])\n",
    "ax.scatter(eps_test[(error < levelsC[2]) & (error >= levelsC[3])], np.exp(epsp_test[(error < levelsC[2]) & (error >= levelsC[3])]), T_test[(error < levelsC[2]) & (error >= levelsC[3])], color='yellow', label=levelsT[3])\n",
    "ax.scatter(eps_test[error < levelsC[3]], np.exp(epsp_test[error < levelsC[3]]), T_test[error < levelsC[3]], color='green', label=levelsT[4])\n",
    "plt.legend(loc = 'lower right',fancybox = True, numpoints = 1, fontsize = 14)\n",
    "plt.xlabel(r'$Deformation\\ \\overline{\\varepsilon}^{p}$', fontsize = 16)\n",
    "plt.ylabel(r'$T^{\\circ}C$', fontsize = 16)\n",
    "plt.title(r'$Map\\ of\\ errors\\ \\overline{\\varepsilon}^{p} / T$', fontsize = 20)\n",
    "plt.show()"
   ]
  },
  {
   "cell_type": "code",
   "execution_count": null,
   "id": "stable-truth",
   "metadata": {
    "ExecuteTime": {
     "end_time": "2021-03-22T14:15:23.550227Z",
     "start_time": "2021-03-22T14:15:23.030298Z"
    }
   },
   "outputs": [],
   "source": [
    "TotalFrames = len(glob.glob(dataPath + '/' + ANN_name + '/ANN-*.npz'))\n",
    "framesWide = 1000\n",
    "emax = np.array([])\n",
    "emin = np.array([])\n",
    "emean = np.array([])\n",
    "epmax = np.array([])\n",
    "epmin = np.array([])\n",
    "epmean = np.array([])\n",
    "tmax = np.array([])\n",
    "tmin = np.array([])\n",
    "tmean = np.array([])\n",
    "smax = np.array([])\n",
    "smin = np.array([])\n",
    "smean = np.array([])\n",
    "for i in range(TotalFrames):\n",
    "    nm = dataPath + '/' + ANN_name + '/ANN-' + str(i) + '.npz'\n",
    "    NN = np.load(nm)\n",
    "    w1 = NN['w1']\n",
    "    w2 = NN['w2']\n",
    "    w3 = NN['w3']\n",
    "    b1 = NN['b1']\n",
    "    b2 = NN['b2']\n",
    "    b3 = NN['b3']\n",
    "    minEntries = NN['minEntries']\n",
    "    maxEntries = NN['maxEntries']\n",
    "    rangeEntries = maxEntries - minEntries\n",
    "    logBase = NN['logBase']\n",
    "    if ('tanh' in ANN_name) : sp = tanhPrime2Layers(inputTest.T)\n",
    "    elif ('sigmoid' in ANN_name) : sp = sigmoidPrime2Layers(inputTest.T)\n",
    "    else : sp = 0\n",
    "    ss = sp*scaleOut\n",
    "    error = np.abs((ss[0,:] - testData[:,4]) / testData[:,4])\n",
    "    emax=np.append(emax,error.max())\n",
    "    emin=np.append(emin,error.min())\n",
    "    emean=np.append(emean,error.mean())    \n",
    "    error = np.abs((ss[1]/testData[:,1] - testData[:,5]) / testData[:,5])\n",
    "    epmax=np.append(epmax,error.max())\n",
    "    epmin=np.append(epmin,error.min())\n",
    "    epmean=np.append(epmean,error.mean())    \n",
    "    error = np.abs((ss[2] - testData[:,6]) / testData[:,6])\n",
    "    tmax=np.append(tmax,error.max())\n",
    "    tmin=np.append(tmin,error.min())\n",
    "    tmean=np.append(tmean,error.mean())\n",
    "    if ('tanh' in ANN_name) : sp = tanh2Layers(inputTest.T)\n",
    "    elif ('sigmoid' in ANN_name) : sp = sigmoid2Layers(inputTest.T)\n",
    "    else : sp = 0\n",
    "    error = np.abs((sp[0,:] - testData[:,3]) / testData[:,3])\n",
    "    smax=np.append(smax,error.max())\n",
    "    smin=np.append(smin,error.min())\n",
    "    smean=np.append(smean,error.mean())   "
   ]
  },
  {
   "cell_type": "code",
   "execution_count": null,
   "id": "structural-overall",
   "metadata": {
    "ExecuteTime": {
     "end_time": "2021-03-22T14:15:24.916585Z",
     "start_time": "2021-03-22T14:15:23.552059Z"
    }
   },
   "outputs": [],
   "source": [
    "plt.figure(figsize = (12, 8))\n",
    "plt.rc('text', usetex = True)\n",
    "xx = np.linspace(1,TotalFrames*framesWide,TotalFrames)\n",
    "plt.plot(xx,100*smax, label = r\"$\\overline{\\sigma}$\",  linewidth = 3)\n",
    "plt.plot(xx,100*emax, label = r\"$\\partial\\overline{\\sigma}/\\partial\\overline{\\varepsilon}^p$\",  linewidth = 3)\n",
    "plt.plot(xx,100*epmax, label = r\"$\\partial\\overline{\\sigma}/\\partial\\dot{\\overline{\\varepsilon}^p}$\",  linewidth = 3)\n",
    "plt.plot(xx,100*tmax, label = r\"$\\partial\\overline{\\sigma}/\\partial T$\",  linewidth = 3)\n",
    "plt.grid()\n",
    "plt.ylim(0, 10)\n",
    "plt.xlabel(r'$Iteration$', fontsize = 16)\n",
    "plt.ylabel(r'$Quadratic\\ Error\\ \\Delta E$', fontsize = 16)\n",
    "plt.title(r'$Maximum\\ error\\ of\\ the\\ Neural\\ Network\\ on\\ partial\\ derivatives$', fontsize = 16)\n",
    "plt.legend(loc = 'upper right',fancybox = True, numpoints = 1, fontsize = 14)\n",
    "plt.savefig(ANN_name + 'max-error.svg')\n",
    "plt.show()"
   ]
  },
  {
   "cell_type": "code",
   "execution_count": null,
   "id": "abroad-knitting",
   "metadata": {
    "ExecuteTime": {
     "end_time": "2021-03-22T14:19:46.900654Z",
     "start_time": "2021-03-22T14:19:46.321364Z"
    }
   },
   "outputs": [],
   "source": [
    "plt.figure(figsize = (12, 8))\n",
    "plt.rc('text', usetex = True)\n",
    "xx = np.linspace(1,TotalFrames*framesWide,TotalFrames)\n",
    "plt.plot(xx,100*smean, label = r\"$\\overline{\\sigma}$\",  linewidth = 3)\n",
    "plt.plot(xx,100*emean, label = r\"$\\partial\\overline{\\sigma}/\\partial\\overline{\\varepsilon}^p$\",  linewidth = 3)\n",
    "plt.plot(xx,100*epmean, label = r\"$\\partial\\overline{\\sigma}/\\partial\\dot{\\overline{\\varepsilon}^p}$\",  linewidth = 3)\n",
    "plt.plot(xx,100*tmean, label = r\"$\\partial\\overline{\\sigma}/\\partial T$\",  linewidth = 3)\n",
    "plt.grid()\n",
    "plt.ylim(0, 5)\n",
    "plt.xlabel(r'$Iteration$', fontsize = 16)\n",
    "plt.ylabel(r'$Quadratic\\ Error\\ \\Delta E$', fontsize = 16)\n",
    "plt.title(r'$Mean\\ error\\ of\\ the\\ Neural\\ Network\\ on\\ partial\\ derivatives$', fontsize = 16)\n",
    "plt.legend(loc = 'upper right',fancybox = True, numpoints = 1, fontsize = 14)\n",
    "plt.savefig(ANN_name + 'mean-error.svg')\n",
    "plt.show()"
   ]
  },
  {
   "cell_type": "code",
   "execution_count": null,
   "id": "handy-restoration",
   "metadata": {
    "ExecuteTime": {
     "end_time": "2021-03-22T14:15:25.493377Z",
     "start_time": "2021-03-22T14:15:25.479869Z"
    }
   },
   "outputs": [],
   "source": [
    "file_object = open('compare.txt', 'a')\n",
    "file_object.write(ANN_name+'\\n')\n",
    "file_object.write('smean: %5.3f \\n' %(100*np.mean(smean[-6:-1])))\n",
    "file_object.write('emean: %5.3f \\n' %(100*np.mean(emean[-6:-1])))\n",
    "file_object.write('epmean: %5.3f \\n' %(100*np.mean(epmean[-6:-1])))\n",
    "file_object.write('tmean: %5.3f \\n' %(100*np.mean(tmean[-6:-1])))\n",
    "file_object.write('smax: %5.3f \\n' %(100*np.mean(smax[-6:-1])))\n",
    "file_object.write('emax: %5.3f \\n' %(100*np.mean(emax[-6:-1])))\n",
    "file_object.write('epmax: %5.3f \\n' %(100*np.mean(epmax[-6:-1])))\n",
    "file_object.write('tmax: %5.3f \\n' %(100*np.mean(tmax[-6:-1])))\n",
    "file_object.close()"
   ]
  },
  {
   "cell_type": "code",
   "execution_count": null,
   "id": "dressed-oregon",
   "metadata": {
    "ExecuteTime": {
     "end_time": "2021-03-22T14:15:25.519071Z",
     "start_time": "2021-03-22T14:15:25.500356Z"
    }
   },
   "outputs": [],
   "source": [
    "file_object = open('compare.csv', 'a')\n",
    "file_object.write(ANN_name+';')\n",
    "file_object.write('%5.3f;' %(100*np.mean(smean[-6:-1])))\n",
    "file_object.write('%5.3f;' %(100*np.mean(emean[-6:-1])))\n",
    "file_object.write('%5.3f;' %(100*np.mean(epmean[-6:-1])))\n",
    "file_object.write('%5.3f;' %(100*np.mean(tmean[-6:-1])))\n",
    "file_object.write('%5.3f;' %(100*np.mean(smax[-6:-1])))\n",
    "file_object.write('%5.3f;' %(100*np.mean(emax[-6:-1])))\n",
    "file_object.write('%5.3f;' %(100*np.mean(epmax[-6:-1])))\n",
    "file_object.write('%5.3f\\n' %(100*np.mean(tmax[-6:-1])))\n",
    "file_object.close()"
   ]
  },
  {
   "cell_type": "code",
   "execution_count": null,
   "id": "sunrise-buffer",
   "metadata": {
    "ExecuteTime": {
     "end_time": "2021-03-22T14:18:59.798906Z",
     "start_time": "2021-03-22T14:18:59.785664Z"
    }
   },
   "outputs": [],
   "source": [
    "smean"
   ]
  },
  {
   "cell_type": "code",
   "execution_count": null,
   "id": "significant-startup",
   "metadata": {},
   "outputs": [],
   "source": [
    "np.save()"
   ]
  }
 ],
 "metadata": {
  "kernelspec": {
   "display_name": "Python 3",
   "language": "python",
   "name": "python3"
  },
  "language_info": {
   "codemirror_mode": {
    "name": "ipython",
    "version": 3
   },
   "file_extension": ".py",
   "mimetype": "text/x-python",
   "name": "python",
   "nbconvert_exporter": "python",
   "pygments_lexer": "ipython3",
   "version": "3.8.8"
  },
  "toc": {
   "base_numbering": 1,
   "nav_menu": {},
   "number_sections": false,
   "sideBar": true,
   "skip_h1_title": false,
   "title_cell": "Table of Contents",
   "title_sidebar": "Contents",
   "toc_cell": false,
   "toc_position": {
    "height": "calc(100% - 180px)",
    "left": "10px",
    "top": "150px",
    "width": "362.188px"
   },
   "toc_section_display": true,
   "toc_window_display": true
  },
  "varInspector": {
   "cols": {
    "lenName": 16,
    "lenType": 16,
    "lenVar": 40
   },
   "kernels_config": {
    "python": {
     "delete_cmd_postfix": "",
     "delete_cmd_prefix": "del ",
     "library": "var_list.py",
     "varRefreshCmd": "print(var_dic_list())"
    },
    "r": {
     "delete_cmd_postfix": ") ",
     "delete_cmd_prefix": "rm(",
     "library": "var_list.r",
     "varRefreshCmd": "cat(var_dic_list()) "
    }
   },
   "types_to_exclude": [
    "module",
    "function",
    "builtin_function_or_method",
    "instance",
    "_Feature"
   ],
   "window_display": false
  }
 },
 "nbformat": 4,
 "nbformat_minor": 5
}
