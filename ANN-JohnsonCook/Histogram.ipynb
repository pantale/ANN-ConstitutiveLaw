{
 "cells": [
  {
   "cell_type": "markdown",
   "id": "intellectual-romance",
   "metadata": {},
   "source": [
    "# Identification of a Neural-Network for Constitutive Law"
   ]
  },
  {
   "cell_type": "markdown",
   "id": "adjusted-excitement",
   "metadata": {},
   "source": [
    "## Preliminary part - Introduction"
   ]
  },
  {
   "cell_type": "markdown",
   "id": "large-nomination",
   "metadata": {},
   "source": [
    "To allow inline pictures, run the following block"
   ]
  },
  {
   "cell_type": "raw",
   "id": "active-headline",
   "metadata": {},
   "source": [
    "%matplotlib inline"
   ]
  },
  {
   "cell_type": "markdown",
   "id": "vanilla-jimmy",
   "metadata": {},
   "source": [
    "Import all the useful libraries before first run\n",
    "We need here the classic ones such as:\n",
    "- math\n",
    "- numpy\n",
    "- pandas\n",
    "- matplotlib\n",
    "\n",
    "And for the Neural Network, we also need to import parts of the keras module of TensorFlow"
   ]
  },
  {
   "cell_type": "code",
   "execution_count": 1,
   "id": "quality-batman",
   "metadata": {
    "ExecuteTime": {
     "end_time": "2021-05-17T06:38:39.483522Z",
     "start_time": "2021-05-17T06:38:38.860066Z"
    }
   },
   "outputs": [],
   "source": [
    "import os\n",
    "import math\n",
    "import numpy as np\n",
    "import pandas as pd\n",
    "import matplotlib.pyplot as plt"
   ]
  },
  {
   "cell_type": "markdown",
   "id": "bottom-bride",
   "metadata": {},
   "source": [
    "**Global definitions**\n",
    "\n",
    "Here after, we define the colors to use for plotting."
   ]
  },
  {
   "cell_type": "code",
   "execution_count": 2,
   "id": "posted-helmet",
   "metadata": {
    "ExecuteTime": {
     "end_time": "2021-05-17T06:38:39.491128Z",
     "start_time": "2021-05-17T06:38:39.485065Z"
    }
   },
   "outputs": [],
   "source": [
    "saveFigures = True\n",
    "colorlist = ['#bb0000', '#00bb00', \"#0000bb\", '#bbbb00', '#bb00bb', \"#00bbbb\", '#bbbbbb', '#770000', '#007700', \"#000077\", '#777700', '#770077', \"#007777\", '#777777', '#440000', '#004400', \"#000044\", '#444400', '#440044', \"#0044444\", '#444444','#000000']"
   ]
  },
  {
   "cell_type": "markdown",
   "id": "intelligent-fishing",
   "metadata": {},
   "source": [
    "Useful functions to define the number of subplots to use"
   ]
  },
  {
   "cell_type": "code",
   "execution_count": 3,
   "id": "accepting-recruitment",
   "metadata": {
    "ExecuteTime": {
     "end_time": "2021-05-17T06:38:39.500760Z",
     "start_time": "2021-05-17T06:38:39.493327Z"
    }
   },
   "outputs": [],
   "source": [
    "baseSize = (8,6) # Base size of a subplot\n",
    "\n",
    "def sbPlot(n):\n",
    "    if (n == 1): return 1, 1\n",
    "    if (n <= 2): return 1, 2\n",
    "    if (n <= 4): return 2, 2\n",
    "    if (n <= 6): return 3, 2\n",
    "    if (n <= 9): return 3, 3\n",
    "    if (n <=12): return 4, 3\n",
    "    return 0,0\n",
    "\n",
    "def sbPlotSize(n):\n",
    "    x, y = sbPlot(n)\n",
    "    return baseSize[0]*y, baseSize[1]*x"
   ]
  },
  {
   "cell_type": "markdown",
   "id": "brown-jefferson",
   "metadata": {},
   "source": [
    "Used to plot an Histogram"
   ]
  },
  {
   "cell_type": "code",
   "execution_count": 4,
   "id": "failing-logic",
   "metadata": {
    "ExecuteTime": {
     "end_time": "2021-05-17T06:38:39.512479Z",
     "start_time": "2021-05-17T06:38:39.502493Z"
    }
   },
   "outputs": [],
   "source": [
    "def getDigitsFrom(n):\n",
    "    d = int(math.log10(abs(n)))\n",
    "    return n*10**(-d + 1), d - 1\n",
    "\n",
    "def plotHisto(Y, labels, bottom, top, xlab, ylab, figname, title):\n",
    "    numb = len(Y)\n",
    "    X = np.arange(numb) +1\n",
    "\n",
    "    plt.figure(figsize = (12, 9)) # for a4 landscape\n",
    "    plt.rc('text', usetex=True)\n",
    "    plt.rcParams['xtick.labelsize'] = 16\n",
    "    plt.rcParams['ytick.labelsize'] = 16\n",
    "\n",
    "    plt.bar(X, Y, color = '#555555')\n",
    "\n",
    "    for x, y in zip(X, Y):\n",
    "        u,v = getDigitsFrom(y)\n",
    "        plt.text(x, y + 0.01*(top-bottom), '$%.2f \\\\times 10^{%d}$' % (u,v), ha='center', va='bottom', fontsize=16)\n",
    "\n",
    "    for i in range(0,numb):\n",
    "        if (Y[i]> 0.3*top):\n",
    "            plt.text(X[i], (top-bottom)/10 + bottom , labels[i], ha='center', va='bottom', fontsize=22, rotation=90, color='white')\n",
    "        else:\n",
    "            plt.text(X[i], 4*(top-bottom)/10 + bottom , labels[i], ha='center', va='bottom', fontsize=22, rotation=90, color='black')\n",
    "\n",
    "    plt.ylim(bottom, top)\n",
    "\n",
    "    plt.ylabel(ylab, fontsize = 20)\n",
    "    plt.xlabel(xlab, fontsize = 20)\n",
    "    plt.title(title, fontsize = 20)\n",
    "\n",
    "    plt.tick_params(axis='x',top=False, bottom=False, left=False, right=False,\n",
    "                labelleft=False, labelbottom=False)\n",
    "    plt.grid(axis='y')\n",
    "    if (saveFigures) : plt.savefig(figname, bbox_inches = 'tight', pad_inches = 0)\n",
    "    else: plt.show()"
   ]
  },
  {
   "cell_type": "markdown",
   "id": "vulnerable-supervision",
   "metadata": {},
   "source": [
    "## Definition of the data file to use \n",
    "We define here after the directory and the Excel Datafile used for the Neural-Network construction."
   ]
  },
  {
   "cell_type": "code",
   "execution_count": 5,
   "id": "suffering-learning",
   "metadata": {
    "ExecuteTime": {
     "end_time": "2021-05-17T06:38:39.516942Z",
     "start_time": "2021-05-17T06:38:39.514332Z"
    }
   },
   "outputs": [],
   "source": [
    "dataPath = '.'"
   ]
  },
  {
   "cell_type": "markdown",
   "id": "middle-laser",
   "metadata": {},
   "source": [
    "Load the Convergence database"
   ]
  },
  {
   "cell_type": "code",
   "execution_count": 6,
   "id": "immune-september",
   "metadata": {
    "ExecuteTime": {
     "end_time": "2021-05-17T06:38:39.534989Z",
     "start_time": "2021-05-17T06:38:39.518596Z"
    }
   },
   "outputs": [],
   "source": [
    "names = ['3-5-1-tanh', '3-5-1-sigmoid','3-5-3-1-tanh', '3-5-3-1-sigmoid']\n",
    "names = ['3-11-1-sigmoid','3-11-5-1-sigmoid','3-13-1-sigmoid','3-9-1-sigmoid','3-9-5-1-sigmoid','3-11-1-tanh','3-11-5-1-tanh','3-13-1-tanh','3-9-1-tanh','3-9-5-1-tanh']\n",
    "names = ['3-15-1-tanh','3-15-1-sigmoid','3-15-7-1-tanh','3-15-7-1-sigmoid']\n",
    "names = ['3-7-4-1-tanh','3-13-1-tanh','3-15-1-tanh','3-13-1-sigmoid','3-15-1-sigmoid','3-13-7-1-tanh','3-15-7-1-tanh','3-7-4-1-sigmoid','3-13-7-1-sigmoid','3-15-7-1-sigmoid']\n",
    "names = ['3-7-4-1-tanh','3-15-1-tanh','3-15-7-1-tanh','3-15-1-sigmoid','3-7-4-1-sigmoid','3-15-7-1-sigmoid']\n",
    "convergenceDatas = []   # To store convergence curves\n",
    "for name in names:\n",
    "    NN = np.load(dataPath + '/CD-' + name + '.npz')\n",
    "    cc = [name, NN['convCurve']]\n",
    "    convergenceDatas.append(cc)"
   ]
  },
  {
   "cell_type": "markdown",
   "id": "quality-dryer",
   "metadata": {},
   "source": [
    "## Plot results of the optimization procedure"
   ]
  },
  {
   "cell_type": "markdown",
   "id": "surface-cloud",
   "metadata": {},
   "source": [
    "First, we plot the convergence curves"
   ]
  },
  {
   "cell_type": "code",
   "execution_count": 7,
   "id": "tender-retro",
   "metadata": {
    "ExecuteTime": {
     "end_time": "2021-05-17T06:38:42.350463Z",
     "start_time": "2021-05-17T06:38:39.536453Z"
    },
    "scrolled": true
   },
   "outputs": [
    {
     "data": {
      "image/png": "[encoded data removed]",
      "text/plain": [
       "<Figure size 864x648 with 1 Axes>"
      ]
     },
     "metadata": {
      "needs_background": "light"
     },
     "output_type": "display_data"
    }
   ],
   "source": [
    "plt.figure(figsize = (12, 9))\n",
    "plt.rc('text', usetex = True)\n",
    "plt.rcParams['text.latex.preamble']=r\"\\usepackage{amsmath}\"\n",
    "cl = 0\n",
    "for convergenceData in convergenceDatas:\n",
    "    name = convergenceData[0]\n",
    "    curve = convergenceData[1]\n",
    "    shortCurve = curve[::10]\n",
    "    x = np.linspace(0, len(curve), len(shortCurve))\n",
    "    plt.plot(x, shortCurve, label = name, color=colorlist[cl], linewidth = 3)\n",
    "    cl += 1\n",
    "plt.grid()\n",
    "plt.xlabel(r'$Iteration$', fontsize = 18)\n",
    "plt.ylim(0, 1e-3)\n",
    "plt.ylabel(r'$Root\\ Mean\\ Square\\ Error\\ \\text{E}_\\text{RMS}$', fontsize = 18)\n",
    "plt.title(r'$Global\\ convergence\\ of\\ the\\ Neural\\ Network$', fontsize = 20)\n",
    "plt.legend(loc = 'upper right',fancybox = True, numpoints = 1, fontsize = 16)\n",
    "if (saveFigures) : plt.savefig(dataPath + '/' + 'Convergence.svg', bbox_inches = 'tight', pad_inches = 0)\n",
    "else: plt.show()"
   ]
  },
  {
   "cell_type": "markdown",
   "id": "tamil-suspect",
   "metadata": {},
   "source": [
    "The we plot the history of all models precision"
   ]
  },
  {
   "cell_type": "code",
   "execution_count": 8,
   "id": "nominated-necklace",
   "metadata": {
    "ExecuteTime": {
     "end_time": "2021-05-17T06:38:43.748372Z",
     "start_time": "2021-05-17T06:38:42.353361Z"
    },
    "scrolled": true
   },
   "outputs": [
    {
     "data": {
      "text/plain": [
       "<Figure size 864x648 with 0 Axes>"
      ]
     },
     "metadata": {},
     "output_type": "display_data"
    },
    {
     "data": {
      "image/png": "[encoded data removed]",
      "text/plain": [
       "<Figure size 864x648 with 1 Axes>"
      ]
     },
     "metadata": {
      "needs_background": "light"
     },
     "output_type": "display_data"
    }
   ],
   "source": [
    "plt.figure(figsize = (12, 9))\n",
    "plt.rc('text', usetex = True)\n",
    "plt.rcParams['text.latex.preamble']=r\"\\usepackage{amsmath}\"\n",
    "convs = np.array([])\n",
    "labels = []\n",
    "for convergenceData in convergenceDatas:\n",
    "    name = convergenceData[0]\n",
    "    curve = convergenceData[1]\n",
    "    lastzone = int(len(curve)/20) # 5% des points pris en compte pour la convergence globale\n",
    "    convs = np.append(convs, curve[-lastzone:].mean())\n",
    "    labels.append(name.replace('sigmoid','sig'))\n",
    "bottom = 0\n",
    "top = convs.max()*1.1\n",
    "ylab = r'$Root\\ Mean\\ Square\\ Error\\ \\text{E}_\\text{RMS}$'\n",
    "xlab = r'$Model\\ used$'\n",
    "figname = dataPath + '/' + 'Precision.svg'\n",
    "title = r'$Global\\ precision\\ of\\ the\\ Neural\\ Network$'\n",
    "plotHisto(convs, labels, bottom, top, xlab, ylab, figname, title)"
   ]
  },
  {
   "cell_type": "markdown",
   "id": "israeli-highlight",
   "metadata": {},
   "source": [
    "Plots the results of the model where all subplots are dependents on the plastic strain rate $\\dot{\\overline{\\varepsilon}^p}$"
   ]
  },
  {
   "cell_type": "code",
   "execution_count": null,
   "id": "decent-houston",
   "metadata": {},
   "outputs": [],
   "source": []
  }
 ],
 "metadata": {
  "kernelspec": {
   "display_name": "Python 3",
   "language": "python",
   "name": "python3"
  },
  "language_info": {
   "codemirror_mode": {
    "name": "ipython",
    "version": 3
   },
   "file_extension": ".py",
   "mimetype": "text/x-python",
   "name": "python",
   "nbconvert_exporter": "python",
   "pygments_lexer": "ipython3",
   "version": "3.8.8"
  },
  "toc": {
   "base_numbering": 1,
   "nav_menu": {},
   "number_sections": false,
   "sideBar": true,
   "skip_h1_title": false,
   "title_cell": "Table of Contents",
   "title_sidebar": "Contents",
   "toc_cell": false,
   "toc_position": {
    "height": "calc(100% - 180px)",
    "left": "10px",
    "top": "150px",
    "width": "362.188px"
   },
   "toc_section_display": true,
   "toc_window_display": true
  },
  "varInspector": {
   "cols": {
    "lenName": 16,
    "lenType": 16,
    "lenVar": 40
   },
   "kernels_config": {
    "python": {
     "delete_cmd_postfix": "",
     "delete_cmd_prefix": "del ",
     "library": "var_list.py",
     "varRefreshCmd": "print(var_dic_list())"
    },
    "r": {
     "delete_cmd_postfix": ") ",
     "delete_cmd_prefix": "rm(",
     "library": "var_list.r",
     "varRefreshCmd": "cat(var_dic_list()) "
    }
   },
   "types_to_exclude": [
    "module",
    "function",
    "builtin_function_or_method",
    "instance",
    "_Feature"
   ],
   "window_display": false
  }
 },
 "nbformat": 4,
 "nbformat_minor": 5
}
