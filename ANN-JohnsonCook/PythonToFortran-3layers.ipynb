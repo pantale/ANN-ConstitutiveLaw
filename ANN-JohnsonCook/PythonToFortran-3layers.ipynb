{
 "cells": [
  {
   "cell_type": "markdown",
   "id": "intellectual-romance",
   "metadata": {},
   "source": [
    "# Use of a Neural-Network for Constitutive Law"
   ]
  },
  {
   "cell_type": "markdown",
   "id": "vanilla-jimmy",
   "metadata": {},
   "source": [
    "Import all the useful libraries before first run\n",
    "We need here the classic ones such as:\n",
    "- math\n",
    "- numpy\n",
    "- pandas\n",
    "- matplotlib\n",
    "\n",
    "And for the Neural Network, we also need to import parts of the keras module of TensorFlow"
   ]
  },
  {
   "cell_type": "code",
   "execution_count": 1,
   "id": "quality-batman",
   "metadata": {
    "ExecuteTime": {
     "end_time": "2021-04-06T16:28:04.222729Z",
     "start_time": "2021-04-06T16:28:03.682843Z"
    }
   },
   "outputs": [],
   "source": [
    "import glob\n",
    "import math\n",
    "import numpy as np\n",
    "import pandas as pd\n",
    "import matplotlib.pyplot as plt\n",
    "from math import exp,log"
   ]
  },
  {
   "cell_type": "markdown",
   "id": "refined-phone",
   "metadata": {},
   "source": [
    "## Load the test database"
   ]
  },
  {
   "cell_type": "markdown",
   "id": "wrapped-knight",
   "metadata": {},
   "source": [
    "Read the Test database"
   ]
  },
  {
   "cell_type": "code",
   "execution_count": 2,
   "id": "mighty-influence",
   "metadata": {
    "ExecuteTime": {
     "end_time": "2021-04-06T16:28:08.286684Z",
     "start_time": "2021-04-06T16:28:08.271469Z"
    }
   },
   "outputs": [],
   "source": [
    "dataPath = '.'\n",
    "read = np.load(dataPath + '/DatatestWithDerivatives.npz')\n",
    "testData = read['testData']\n",
    "nrows = testData.shape[0]"
   ]
  },
  {
   "cell_type": "code",
   "execution_count": 3,
   "id": "another-equivalent",
   "metadata": {
    "ExecuteTime": {
     "end_time": "2021-04-06T16:28:09.122892Z",
     "start_time": "2021-04-06T16:28:09.113285Z"
    }
   },
   "outputs": [],
   "source": [
    "eps_test = testData[:,0].reshape(nrows,1)\n",
    "epsp_test = testData[:,1].reshape(nrows,1)\n",
    "T_test = testData[:,2].reshape(nrows,1)\n",
    "sig_test = testData[:,3].reshape(nrows,1)"
   ]
  },
  {
   "cell_type": "markdown",
   "id": "charged-gross",
   "metadata": {},
   "source": [
    " ## Load the NN parameters"
   ]
  },
  {
   "cell_type": "code",
   "execution_count": 4,
   "id": "widespread-wichita",
   "metadata": {
    "ExecuteTime": {
     "end_time": "2021-04-06T16:28:10.869121Z",
     "start_time": "2021-04-06T16:28:10.815892Z"
    },
    "scrolled": false
   },
   "outputs": [
    {
     "name": "stdout",
     "output_type": "stream",
     "text": [
      "['logBase', 'minEntries', 'maxEntries', 'w1', 'b1', 'w2', 'b2', 'w3', 'b3']\n"
     ]
    },
    {
     "data": {
      "text/plain": [
       "(array([[-1.71193019e-01, -4.98235881e-01,  1.57230926e+00],\n",
       "        [-1.82183892e-01, -2.79642552e-01,  1.38154745e+00],\n",
       "        [-1.21008851e-01, -9.36221778e-02, -1.28485608e+00],\n",
       "        [ 6.77952528e-01,  7.85129726e-01, -3.60040736e+00],\n",
       "        [-8.22493362e+00,  1.02857426e-01, -1.17000186e+00],\n",
       "        [-2.62212038e-01, -3.70604903e-01,  1.53059375e+00],\n",
       "        [ 3.63313168e-01,  3.07944298e-01, -1.73980820e+00],\n",
       "        [-1.71282619e-01, -9.36020970e-01, -7.00896144e-01],\n",
       "        [-2.93405890e+00,  2.49693431e-02, -8.18501532e-01],\n",
       "        [-2.98778355e-01, -5.17931700e-01, -7.58085251e+00],\n",
       "        [ 1.17702794e+00, -3.08994055e-01, -1.68417966e+00],\n",
       "        [-2.31339216e-01, -2.90423155e-01,  1.50245142e+00],\n",
       "        [ 2.35784103e+02, -9.92930010e-02,  7.60096788e-01],\n",
       "        [-2.33444443e+01,  1.64729804e-01, -9.49119210e-01],\n",
       "        [ 3.29279006e-01,  5.42672016e-02, -1.55521262e+00]], dtype=float32),\n",
       " array([[-0.5497108 ],\n",
       "        [-1.0076679 ],\n",
       "        [ 1.146429  ],\n",
       "        [-1.0565801 ],\n",
       "        [-0.8343578 ],\n",
       "        [-0.5579931 ],\n",
       "        [-0.515265  ],\n",
       "        [-0.52511525],\n",
       "        [ 0.16425566],\n",
       "        [-1.8643126 ],\n",
       "        [-0.85944176],\n",
       "        [-1.1983486 ],\n",
       "        [ 0.8195926 ],\n",
       "        [-0.50046235],\n",
       "        [-0.58082974]], dtype=float32),\n",
       " array([[ 7.5575867e-04,  3.4887978e-01, -1.6222949e+00, -1.7441266e+00,\n",
       "          1.1896034e+00,  7.7343774e-01, -1.0779928e+00,  1.9596654e-01,\n",
       "          3.7145931e-01, -2.1758666e+00,  2.6741591e-01,  1.1742376e-01,\n",
       "         -1.8373966e+00, -1.6312848e+00, -9.1531247e-01],\n",
       "        [-1.5207362e+00, -5.9875041e-01, -5.6792897e-01,  7.3398745e-01,\n",
       "         -1.9568163e+00, -9.9054205e-01, -2.4108287e-02, -9.2186207e-01,\n",
       "         -1.5858020e+00, -3.5938954e-01, -5.6845796e-01, -4.6205533e-01,\n",
       "          9.3737197e-01,  7.1329349e-01, -2.7031395e-01],\n",
       "        [-2.6396149e-01,  3.4066364e-01, -1.0868982e+00, -1.9029006e-01,\n",
       "          1.5269421e+00,  1.3407497e-01, -4.5862868e-01, -2.1014163e-01,\n",
       "          6.9063985e-01, -5.5928946e-01, -5.6183064e-01,  1.0643189e-02,\n",
       "         -2.7791412e+00,  2.2039006e+00, -8.7418276e-01],\n",
       "        [-1.6671456e+00, -1.2612725e+00, -1.5686920e+00, -1.3008655e+00,\n",
       "         -9.6572256e-01, -1.0763234e+00, -3.9994925e-01, -2.9762471e+00,\n",
       "         -3.9801140e+00, -1.2125764e+00, -4.7813287e-01, -1.4475416e+00,\n",
       "         -2.8728819e-01, -8.4712923e-01, -8.9950746e-01],\n",
       "        [-4.2128038e-01, -5.6432992e-01,  1.0096041e+00,  3.3540881e-01,\n",
       "         -5.1578170e-01, -1.8988983e-01,  5.6168544e-01, -2.7459079e-01,\n",
       "         -6.4058948e-01, -4.5483127e-01,  1.8522179e-01, -1.2040365e+00,\n",
       "          2.7159615e+00, -2.4153664e+00,  5.0827748e-01],\n",
       "        [-1.8799161e+00, -1.5221658e+00, -4.6875900e-01,  1.4179943e+00,\n",
       "          3.7001091e-01, -2.7184730e+00,  4.6996176e-01, -2.3142791e+00,\n",
       "         -6.8248051e-01, -1.6163871e+00,  2.0272562e-01, -1.4510316e+00,\n",
       "          9.9444561e-02, -1.2936606e+00,  2.0372213e-01],\n",
       "        [-5.8974969e-01, -5.7138050e-01,  1.2054038e-01,  7.6365846e-01,\n",
       "         -1.6087818e+00, -9.1399002e-01,  7.1907687e-01, -1.2067794e+00,\n",
       "         -7.4795055e-01, -6.8977684e-01, -1.2323420e-03, -5.9284639e-01,\n",
       "          1.3819001e+00,  3.2714120e-01,  1.2508176e-01]], dtype=float32),\n",
       " array([[-0.22045061],\n",
       "        [-0.5808742 ],\n",
       "        [-0.32730776],\n",
       "        [-0.9651915 ],\n",
       "        [ 0.00153776],\n",
       "        [-0.99164325],\n",
       "        [-0.17951013]], dtype=float32),\n",
       " array([[-1.1471751 ,  0.39645308, -1.7317302 ,  0.3414903 ,  0.9171404 ,\n",
       "          0.41672006,  0.46903265]], dtype=float32),\n",
       " array([[-0.3997389]], dtype=float32),\n",
       " array([  0.        ,   0.        ,  20.        , 579.18464292]),\n",
       " array([1.00000000e+00, 1.08197783e+01, 5.00000000e+02, 1.55674036e+03]),\n",
       " array([  1.        ,  10.81977828, 480.        , 977.55571504]),\n",
       " array([1]))"
      ]
     },
     "execution_count": 4,
     "metadata": {},
     "output_type": "execute_result"
    }
   ],
   "source": [
    "ANN_name = '3-15-7-1-sigmoid'\n",
    "\n",
    "NN = np.load(dataPath + '/' + ANN_name + '.npz')\n",
    "print (NN.files)\n",
    "w1 = NN['w1']\n",
    "w2 = NN['w2']\n",
    "w3 = NN['w3']\n",
    "b1 = NN['b1']\n",
    "b2 = NN['b2']\n",
    "b3 = NN['b3']\n",
    "minEntries = NN['minEntries']\n",
    "maxEntries = NN['maxEntries']\n",
    "rangeEntries = maxEntries - minEntries\n",
    "logBase = NN['logBase']\n",
    "w1, b1, w2, b2, w3, b3, minEntries, maxEntries, rangeEntries, logBase"
   ]
  },
  {
   "cell_type": "markdown",
   "id": "sensitive-crossing",
   "metadata": {},
   "source": [
    "## Reshape data"
   ]
  },
  {
   "cell_type": "code",
   "execution_count": 5,
   "id": "greatest-ocean",
   "metadata": {
    "ExecuteTime": {
     "end_time": "2021-04-06T16:28:16.367156Z",
     "start_time": "2021-04-06T16:28:16.352014Z"
    }
   },
   "outputs": [
    {
     "data": {
      "text/plain": [
       "array([[0.64999785, 0.90552119, 0.65628871],\n",
       "       [0.77199114, 0.8999689 , 0.45541125],\n",
       "       [0.64433951, 0.99445344, 0.11009941],\n",
       "       ...,\n",
       "       [0.75192854, 0.99520977, 0.75841439],\n",
       "       [0.74276917, 0.88747863, 0.12681504],\n",
       "       [0.68998248, 0.88707664, 0.5388862 ]])"
      ]
     },
     "execution_count": 5,
     "metadata": {},
     "output_type": "execute_result"
    }
   ],
   "source": [
    "epsp_test = np.log(epsp_test / logBase)\n",
    "inputTest = (np.hstack([eps_test, epsp_test, T_test]) - np.array(minEntries)[0:3]) / np.array(rangeEntries)[0:3]\n",
    "inputTest"
   ]
  },
  {
   "cell_type": "markdown",
   "id": "fiscal-equilibrium",
   "metadata": {},
   "source": [
    "Computes the target"
   ]
  },
  {
   "cell_type": "code",
   "execution_count": 6,
   "id": "white-gilbert",
   "metadata": {
    "ExecuteTime": {
     "end_time": "2021-04-06T16:28:18.792889Z",
     "start_time": "2021-04-06T16:28:18.781612Z"
    }
   },
   "outputs": [],
   "source": [
    "def tanh2Layers(inputData):\n",
    "    l1 = w1.dot(inputData) + b1\n",
    "    f1 = np.tanh(l1)\n",
    "    l2 = w2.dot(f1) + b2\n",
    "    f2 = np.tanh(l2)\n",
    "    sigP = w3.dot(f2) + b3\n",
    "    SigmaNN = sigP * rangeEntries[3] + minEntries[3]\n",
    "    return SigmaNN"
   ]
  },
  {
   "cell_type": "code",
   "execution_count": 7,
   "id": "mobile-notice",
   "metadata": {
    "ExecuteTime": {
     "end_time": "2021-04-06T16:28:19.697709Z",
     "start_time": "2021-04-06T16:28:19.685873Z"
    }
   },
   "outputs": [],
   "source": [
    "def sigmoid2Layers(inputData):\n",
    "    l1 = w1.dot(inputData) + b1\n",
    "    f1 = 1/(1 + np.exp(-l1))\n",
    "    l2 = w2.dot(f1) + b2\n",
    "    f2 = 1/( 1 +np.exp(-l2))\n",
    "    sigP = w3.dot(f2) + b3\n",
    "    SigmaNN = sigP * rangeEntries[3] + minEntries[3]\n",
    "    return SigmaNN"
   ]
  },
  {
   "cell_type": "markdown",
   "id": "floppy-turkish",
   "metadata": {},
   "source": [
    "Setup data"
   ]
  },
  {
   "cell_type": "code",
   "execution_count": 8,
   "id": "democratic-delivery",
   "metadata": {
    "ExecuteTime": {
     "end_time": "2021-04-06T16:28:24.193562Z",
     "start_time": "2021-04-06T16:28:24.186563Z"
    }
   },
   "outputs": [],
   "source": [
    "inp = inputTest.T\n",
    "sig = sig_test\n",
    "#inp, sig"
   ]
  },
  {
   "cell_type": "markdown",
   "id": "exotic-carol",
   "metadata": {},
   "source": [
    "Rebuild the real $\\sigma$"
   ]
  },
  {
   "cell_type": "code",
   "execution_count": 9,
   "id": "chinese-detection",
   "metadata": {
    "ExecuteTime": {
     "end_time": "2021-04-06T16:28:26.765205Z",
     "start_time": "2021-04-06T16:28:26.704366Z"
    }
   },
   "outputs": [
    {
     "data": {
      "text/plain": [
       "array([[1232.2282292 , 1335.3603057 , 1470.46979899, ..., 1208.21439896,\n",
       "        1465.07933384, 1287.15287545]])"
      ]
     },
     "execution_count": 9,
     "metadata": {},
     "output_type": "execute_result"
    }
   ],
   "source": [
    "if ('tanh' in ANN_name) : SigmaNN = tanh2Layers(inp)\n",
    "elif ('sigmoid' in ANN_name) : SigmaNN = sigmoid2Layers(inp)\n",
    "else : SigmaNN = 0\n",
    "SigmaNN"
   ]
  },
  {
   "cell_type": "code",
   "execution_count": 10,
   "id": "considered-devil",
   "metadata": {
    "ExecuteTime": {
     "end_time": "2021-04-06T16:28:27.817753Z",
     "start_time": "2021-04-06T16:28:27.806024Z"
    }
   },
   "outputs": [
    {
     "data": {
      "text/plain": [
       "((15, 3), (3, 5000), (15, 1))"
      ]
     },
     "execution_count": 10,
     "metadata": {},
     "output_type": "execute_result"
    }
   ],
   "source": [
    "w1.shape, inp.shape, b1.shape"
   ]
  },
  {
   "cell_type": "code",
   "execution_count": 11,
   "id": "western-duplicate",
   "metadata": {
    "ExecuteTime": {
     "end_time": "2021-04-06T16:28:28.760576Z",
     "start_time": "2021-04-06T16:28:28.751749Z"
    }
   },
   "outputs": [],
   "source": [
    "comment = 'C     '\n",
    "cline = 'C **********************************************************************\\n'\n",
    "block =   '      '"
   ]
  },
  {
   "cell_type": "code",
   "execution_count": 14,
   "id": "physical-detail",
   "metadata": {
    "ExecuteTime": {
     "end_time": "2021-04-06T16:28:59.336569Z",
     "start_time": "2021-04-06T16:28:59.327578Z"
    }
   },
   "outputs": [],
   "source": [
    "var = \"%.12f\"\n",
    "\n",
    "def toFortran(line):\n",
    "    line = line.replace(\"+-\", \"-\")\n",
    "    line = block + line + '\\n'\n",
    "    return line"
   ]
  },
  {
   "cell_type": "code",
   "execution_count": 15,
   "id": "injured-turner",
   "metadata": {
    "ExecuteTime": {
     "end_time": "2021-04-06T16:29:05.061244Z",
     "start_time": "2021-04-06T16:29:05.023908Z"
    }
   },
   "outputs": [],
   "source": [
    "code = ''\n",
    "code += cline\n",
    "code += comment + 'Input data is eps, epsp, temp\\n'\n",
    "code += cline\n",
    "\n",
    "code += comment + 'xeps = (eps - minEntries[0]) / rangeEntries[0]\\n'\n",
    "line = 'xeps = (eps -'+var%(minEntries[0])+')/'+var%(rangeEntries[0])\n",
    "#code += block+line+'\\n'\n",
    "code += toFortran(line)\n",
    "#print(line)\n",
    "\n",
    "code += comment + 'xepsp = (log(epsp/logBase) - minEntries[1]) / rangeEntries[1]\\n'\n",
    "line = 'xepsp = (log(epsp/'+var%(logBase[0])+') -'+var%(minEntries[1])+')/'+var%(rangeEntries[1])\n",
    "code += toFortran(line)\n",
    "#print(line)\n",
    "\n",
    "code += comment + 'xtemp = (temp - minEntries[2]) / rangeEntries[2]\\n'\n",
    "line = 'xtemp = (temp -'+var%(minEntries[2])+')/'+var%(rangeEntries[2])\n",
    "code += toFortran(line)\n",
    "#print(line)\n",
    "\n",
    "code += comment + 'l1 = w1.dot(inputData) + b1\\n'\n",
    "for i in range(b1.shape[0]):\n",
    "    line = 'xl1'+str(i)+\" = \"+var%(w1[i,0]) + '*xeps+' + var%(w1[i,1]) + '*xepsp+' + var%(w1[i,2]) + '*xtemp+' + var%(b1[i,0])\n",
    "    code += toFortran(line)\n",
    "    #print(line)\n",
    "    \n",
    "code += comment + 'f1 = 1/(1 + np.exp(-l1))\\n'\n",
    "for i in range(b1.shape[0]):\n",
    "    line = 'xf1'+str(i)+\" = 1.0/(1.0 + exp(-xl1\"+str(i)+\"))\"\n",
    "    code += toFortran(line)\n",
    "    #print(line)\n",
    "    \n",
    "code += comment + 'l2 = w2.dot(f1) + b2\\n'\n",
    "for i in range(b2.shape[0]):\n",
    "    line = 'xl2'+str(i)+' = '\n",
    "    for j in range(w2.shape[1]):\n",
    "        if (j!=0): line +='+'\n",
    "        line += var%(w2[i,j]) + '*xf1'+str(j)\n",
    "    line+=\"+\"+var%(b2[i,0])\n",
    "    code += toFortran(line)\n",
    "    #print(line)\n",
    "    \n",
    "code += comment + 'f2 = 1/(1 + np.exp(-l2))\\n'\n",
    "for i in range(b2.shape[0]):\n",
    "    line = 'xf2'+str(i)+\" = 1.0/(1.0 + exp(-xl2\"+str(i)+\"))\"\n",
    "    code += toFortran(line)\n",
    "    #print(line)\n",
    "    \n",
    "code += comment + 'xsigP = w3.dot(f2) + b3\\n'\n",
    "line = 'xsigP = '\n",
    "for j in range(w3.shape[1]):\n",
    "    if (j!=0): line +='+'\n",
    "    line += var%(w3[0,j]) + '*xf2'+str(j)\n",
    "line+=\"+\"+var%(b3[0,0])\n",
    "code += toFortran(line)\n",
    "#print(line)\n",
    "\n",
    "code += comment + 'sigP = xsigP * rangeEntries[3] + minEntries[3]\\n'\n",
    "line = 'sigP = '+var%(rangeEntries[3])+'*xsigP+'+var%(minEntries[3])\n",
    "code += toFortran(line)\n",
    "#print(line)"
   ]
  },
  {
   "cell_type": "code",
   "execution_count": 16,
   "id": "communist-scholar",
   "metadata": {
    "ExecuteTime": {
     "end_time": "2021-04-06T16:29:09.103413Z",
     "start_time": "2021-04-06T16:29:09.093894Z"
    }
   },
   "outputs": [
    {
     "name": "stdout",
     "output_type": "stream",
     "text": [
      "C **********************************************************************\n",
      "C     Input data is eps, epsp, temp\n",
      "C **********************************************************************\n",
      "C     xeps = (eps - minEntries[0]) / rangeEntries[0]\n",
      "      xeps = (eps -0.000000000000)/1.000000000000\n",
      "C     xepsp = (log(epsp/logBase) - minEntries[1]) / rangeEntries[1]\n",
      "      xepsp = (log(epsp/1.000000000000) -0.000000000000)/10.819778284410\n",
      "C     xtemp = (temp - minEntries[2]) / rangeEntries[2]\n",
      "      xtemp = (temp -20.000000000000)/480.000000000000\n",
      "C     l1 = w1.dot(inputData) + b1\n",
      "      xl10 = -0.171193018556*xeps-0.498235881329*xepsp+1.572309255600*xtemp-0.549710810184\n",
      "      xl11 = -0.182183891535*xeps-0.279642552137*xepsp+1.381547451019*xtemp-1.007667899132\n",
      "      xl12 = -0.121008850634*xeps-0.093622177839*xepsp-1.284856081009*xtemp+1.146428942680\n",
      "      xl13 = 0.677952528000*xeps+0.785129725933*xepsp-3.600407361984*xtemp-1.056580066681\n",
      "      xl14 = -8.224933624268*xeps+0.102857425809*xepsp-1.170001864433*xtemp-0.834357798100\n",
      "      xl15 = -0.262212038040*xeps-0.370604902506*xepsp+1.530593752861*xtemp-0.557993113995\n",
      "      xl16 = 0.363313168287*xeps+0.307944297791*xepsp-1.739808201790*xtemp-0.515264987946\n",
      "      xl17 = -0.171282619238*xeps-0.936020970345*xepsp-0.700896143913*xtemp-0.525115251541\n",
      "      xl18 = -2.934058904648*xeps+0.024969343096*xepsp-0.818501532078*xtemp+0.164255663753\n",
      "      xl19 = -0.298778355122*xeps-0.517931699753*xepsp-7.580852508545*xtemp-1.864312648773\n",
      "      xl110 = 1.177027940750*xeps-0.308994054794*xepsp-1.684179663658*xtemp-0.859441757202\n",
      "      xl111 = -0.231339216232*xeps-0.290423154831*xepsp+1.502451419830*xtemp-1.198348641396\n",
      "      xl112 = 235.784103393555*xeps-0.099293000996*xepsp+0.760096788406*xtemp+0.819592595100\n",
      "      xl113 = -23.344444274902*xeps+0.164729803801*xepsp-0.949119210243*xtemp-0.500462353230\n",
      "      xl114 = 0.329279005527*xeps+0.054267201573*xepsp-1.555212616920*xtemp-0.580829739571\n",
      "C     f1 = 1/(1 + np.exp(-l1))\n",
      "      xf10 = 1.0/(1.0 + exp(-xl10))\n",
      "      xf11 = 1.0/(1.0 + exp(-xl11))\n",
      "      xf12 = 1.0/(1.0 + exp(-xl12))\n",
      "      xf13 = 1.0/(1.0 + exp(-xl13))\n",
      "      xf14 = 1.0/(1.0 + exp(-xl14))\n",
      "      xf15 = 1.0/(1.0 + exp(-xl15))\n",
      "      xf16 = 1.0/(1.0 + exp(-xl16))\n",
      "      xf17 = 1.0/(1.0 + exp(-xl17))\n",
      "      xf18 = 1.0/(1.0 + exp(-xl18))\n",
      "      xf19 = 1.0/(1.0 + exp(-xl19))\n",
      "      xf110 = 1.0/(1.0 + exp(-xl110))\n",
      "      xf111 = 1.0/(1.0 + exp(-xl111))\n",
      "      xf112 = 1.0/(1.0 + exp(-xl112))\n",
      "      xf113 = 1.0/(1.0 + exp(-xl113))\n",
      "      xf114 = 1.0/(1.0 + exp(-xl114))\n",
      "C     l2 = w2.dot(f1) + b2\n",
      "      xl20 = 0.000755758665*xf10+0.348879784346*xf11-1.622294902802*xf12-1.744126558304*xf13+1.189603447914*xf14+0.773437738419*xf15-1.077992796898*xf16+0.195966541767*xf17+0.371459305286*xf18-2.175866603851*xf19+0.267415910959*xf110+0.117423757911*xf111-1.837396621704*xf112-1.631284832954*xf113-0.915312469006*xf114-0.220450609922\n",
      "      xl21 = -1.520736217499*xf10-0.598750412464*xf11-0.567928969860*xf12+0.733987450600*xf13-1.956816315651*xf14-0.990542054176*xf15-0.024108286947*xf16-0.921862065792*xf17-1.585801959038*xf18-0.359389543533*xf19-0.568457961082*xf110-0.462055325508*xf111+0.937371969223*xf112+0.713293492794*xf113-0.270313948393*xf114-0.580874204636\n",
      "      xl22 = -0.263961493969*xf10+0.340663641691*xf11-1.086898207664*xf12-0.190290063620*xf13+1.526942133904*xf14+0.134074971080*xf15-0.458628684282*xf16-0.210141628981*xf17+0.690639853477*xf18-0.559289455414*xf19-0.561830639839*xf110+0.010643188842*xf111-2.779141187668*xf112+2.203900575638*xf113-0.874182760715*xf114-0.327307760715\n",
      "      xl23 = -1.667145609856*xf10-1.261272549629*xf11-1.568691968918*xf12-1.300865530968*xf13-0.965722560883*xf14-1.076323390007*xf15-0.399949252605*xf16-2.976247072220*xf17-3.980113983154*xf18-1.212576389313*xf19-0.478132873774*xf110-1.447541594505*xf111-0.287288188934*xf112-0.847129225731*xf113-0.899507462978*xf114-0.965191483498\n",
      "      xl24 = -0.421280384064*xf10-0.564329922199*xf11+1.009604096413*xf12+0.335408806801*xf13-0.515781700611*xf14-0.189889833331*xf15+0.561685442924*xf16-0.274590790272*xf17-0.640589475632*xf18-0.454831272364*xf19+0.185221791267*xf110-1.204036474228*xf111+2.715961456299*xf112-2.415366411209*xf113+0.508277475834*xf114+0.001537762932\n",
      "      xl25 = -1.879916071892*xf10-1.522165775299*xf11-0.468759000301*xf12+1.417994260788*xf13+0.370010912418*xf14-2.718472957611*xf15+0.469961762428*xf16-2.314279079437*xf17-0.682480514050*xf18-1.616387128830*xf19+0.202725619078*xf110-1.451031565666*xf111+0.099444560707*xf112-1.293660640717*xf113+0.203722134233*xf114-0.991643249989\n",
      "      xl26 = -0.589749693871*xf10-0.571380496025*xf11+0.120540380478*xf12+0.763658463955*xf13-1.608781814575*xf14-0.913990020752*xf15+0.719076871872*xf16-1.206779360771*xf17-0.747950553894*xf18-0.689776837826*xf19-0.001232341980*xf110-0.592846393585*xf111+1.381900072098*xf112+0.327141195536*xf113+0.125081762671*xf114-0.179510131478\n",
      "C     f2 = 1/(1 + np.exp(-l2))\n",
      "      xf20 = 1.0/(1.0 + exp(-xl20))\n",
      "      xf21 = 1.0/(1.0 + exp(-xl21))\n",
      "      xf22 = 1.0/(1.0 + exp(-xl22))\n",
      "      xf23 = 1.0/(1.0 + exp(-xl23))\n",
      "      xf24 = 1.0/(1.0 + exp(-xl24))\n",
      "      xf25 = 1.0/(1.0 + exp(-xl25))\n",
      "      xf26 = 1.0/(1.0 + exp(-xl26))\n",
      "C     xsigP = w3.dot(f2) + b3\n",
      "      xsigP = -1.147175073624*xf20+0.396453082561*xf21-1.731730222702*xf22+0.341490298510*xf23+0.917140424252*xf24+0.416720062494*xf25+0.469032645226*xf26-0.399738907814\n",
      "C     sigP = xsigP * rangeEntries[3] + minEntries[3]\n",
      "      sigP = 977.555715042962*xsigP+579.184642915415\n",
      "\n"
     ]
    }
   ],
   "source": [
    "print(code)"
   ]
  },
  {
   "cell_type": "code",
   "execution_count": 23,
   "id": "editorial-investigator",
   "metadata": {
    "ExecuteTime": {
     "end_time": "2021-04-06T16:36:39.489591Z",
     "start_time": "2021-04-06T16:36:39.477669Z"
    }
   },
   "outputs": [
    {
     "data": {
      "text/plain": [
       "array([ 6.49997854e-01,  1.79894090e+04,  3.35018578e+02,  1.23210657e+03,\n",
       "        1.32070915e+02,  5.60676950e-04, -9.25727265e-01])"
      ]
     },
     "execution_count": 23,
     "metadata": {},
     "output_type": "execute_result"
    }
   ],
   "source": [
    "testData[0,:]\n"
   ]
  },
  {
   "cell_type": "code",
   "execution_count": 24,
   "id": "minor-adult",
   "metadata": {
    "ExecuteTime": {
     "end_time": "2021-04-06T16:37:29.714281Z",
     "start_time": "2021-04-06T16:37:29.700199Z"
    }
   },
   "outputs": [
    {
     "data": {
      "text/plain": [
       "(0.6499978537536213, 17989.408960982073, 335.01857843791004)"
      ]
     },
     "execution_count": 24,
     "metadata": {},
     "output_type": "execute_result"
    }
   ],
   "source": [
    "testData[0]\n",
    "eps = testData[0,0]\n",
    "epsp = testData[0,1]\n",
    "temp = testData[0,2]\n",
    "eps,epsp,temp"
   ]
  },
  {
   "cell_type": "code",
   "execution_count": 25,
   "id": "nutritional-barbados",
   "metadata": {
    "ExecuteTime": {
     "end_time": "2021-04-06T16:37:34.919047Z",
     "start_time": "2021-04-06T16:37:34.855268Z"
    }
   },
   "outputs": [],
   "source": [
    "# **********************************************************************\n",
    "#     Input data is eps, epsp, temp\n",
    "# **********************************************************************\n",
    "#     xeps = (eps - minEntries[0]) / rangeEntries[0]\n",
    "xeps = (eps -0.000000000000)/1.000000000000\n",
    "#     xepsp = (log(epsp/logBase) - minEntries[1]) / rangeEntries[1]\n",
    "xepsp = (log(epsp/1.000000000000) -0.000000000000)/10.819778284410\n",
    "#     xtemp = (temp - minEntries[2]) / rangeEntries[2]\n",
    "xtemp = (temp -20.000000000000)/480.000000000000\n",
    "#     l1 = w1.dot(inputData) + b1\n",
    "xl10 = -0.171193018556*xeps-0.498235881329*xepsp+1.572309255600*xtemp-0.549710810184\n",
    "xl11 = -0.182183891535*xeps-0.279642552137*xepsp+1.381547451019*xtemp-1.007667899132\n",
    "xl12 = -0.121008850634*xeps-0.093622177839*xepsp-1.284856081009*xtemp+1.146428942680\n",
    "xl13 = 0.677952528000*xeps+0.785129725933*xepsp-3.600407361984*xtemp-1.056580066681\n",
    "xl14 = -8.224933624268*xeps+0.102857425809*xepsp-1.170001864433*xtemp-0.834357798100\n",
    "xl15 = -0.262212038040*xeps-0.370604902506*xepsp+1.530593752861*xtemp-0.557993113995\n",
    "xl16 = 0.363313168287*xeps+0.307944297791*xepsp-1.739808201790*xtemp-0.515264987946\n",
    "xl17 = -0.171282619238*xeps-0.936020970345*xepsp-0.700896143913*xtemp-0.525115251541\n",
    "xl18 = -2.934058904648*xeps+0.024969343096*xepsp-0.818501532078*xtemp+0.164255663753\n",
    "xl19 = -0.298778355122*xeps-0.517931699753*xepsp-7.580852508545*xtemp-1.864312648773\n",
    "xl110 = 1.177027940750*xeps-0.308994054794*xepsp-1.684179663658*xtemp-0.859441757202\n",
    "xl111 = -0.231339216232*xeps-0.290423154831*xepsp+1.502451419830*xtemp-1.198348641396\n",
    "xl112 = 235.784103393555*xeps-0.099293000996*xepsp+0.760096788406*xtemp+0.819592595100\n",
    "xl113 = -23.344444274902*xeps+0.164729803801*xepsp-0.949119210243*xtemp-0.500462353230\n",
    "xl114 = 0.329279005527*xeps+0.054267201573*xepsp-1.555212616920*xtemp-0.580829739571\n",
    "#     f1 = 1/(1 + np.exp(-l1))\n",
    "xf10 = 1.0/(1.0 + exp(-xl10))\n",
    "xf11 = 1.0/(1.0 + exp(-xl11))\n",
    "xf12 = 1.0/(1.0 + exp(-xl12))\n",
    "xf13 = 1.0/(1.0 + exp(-xl13))\n",
    "xf14 = 1.0/(1.0 + exp(-xl14))\n",
    "xf15 = 1.0/(1.0 + exp(-xl15))\n",
    "xf16 = 1.0/(1.0 + exp(-xl16))\n",
    "xf17 = 1.0/(1.0 + exp(-xl17))\n",
    "xf18 = 1.0/(1.0 + exp(-xl18))\n",
    "xf19 = 1.0/(1.0 + exp(-xl19))\n",
    "xf110 = 1.0/(1.0 + exp(-xl110))\n",
    "xf111 = 1.0/(1.0 + exp(-xl111))\n",
    "xf112 = 1.0/(1.0 + exp(-xl112))\n",
    "xf113 = 1.0/(1.0 + exp(-xl113))\n",
    "xf114 = 1.0/(1.0 + exp(-xl114))\n",
    "#     l2 = w2.dot(f1) + b2\n",
    "xl20 = 0.000755758665*xf10+0.348879784346*xf11-1.622294902802*xf12-1.744126558304*xf13+1.189603447914*xf14+0.773437738419*xf15-1.077992796898*xf16+0.195966541767*xf17+0.371459305286*xf18-2.175866603851*xf19+0.267415910959*xf110+0.117423757911*xf111-1.837396621704*xf112-1.631284832954*xf113-0.915312469006*xf114-0.220450609922\n",
    "xl21 = -1.520736217499*xf10-0.598750412464*xf11-0.567928969860*xf12+0.733987450600*xf13-1.956816315651*xf14-0.990542054176*xf15-0.024108286947*xf16-0.921862065792*xf17-1.585801959038*xf18-0.359389543533*xf19-0.568457961082*xf110-0.462055325508*xf111+0.937371969223*xf112+0.713293492794*xf113-0.270313948393*xf114-0.580874204636\n",
    "xl22 = -0.263961493969*xf10+0.340663641691*xf11-1.086898207664*xf12-0.190290063620*xf13+1.526942133904*xf14+0.134074971080*xf15-0.458628684282*xf16-0.210141628981*xf17+0.690639853477*xf18-0.559289455414*xf19-0.561830639839*xf110+0.010643188842*xf111-2.779141187668*xf112+2.203900575638*xf113-0.874182760715*xf114-0.327307760715\n",
    "xl23 = -1.667145609856*xf10-1.261272549629*xf11-1.568691968918*xf12-1.300865530968*xf13-0.965722560883*xf14-1.076323390007*xf15-0.399949252605*xf16-2.976247072220*xf17-3.980113983154*xf18-1.212576389313*xf19-0.478132873774*xf110-1.447541594505*xf111-0.287288188934*xf112-0.847129225731*xf113-0.899507462978*xf114-0.965191483498\n",
    "xl24 = -0.421280384064*xf10-0.564329922199*xf11+1.009604096413*xf12+0.335408806801*xf13-0.515781700611*xf14-0.189889833331*xf15+0.561685442924*xf16-0.274590790272*xf17-0.640589475632*xf18-0.454831272364*xf19+0.185221791267*xf110-1.204036474228*xf111+2.715961456299*xf112-2.415366411209*xf113+0.508277475834*xf114+0.001537762932\n",
    "xl25 = -1.879916071892*xf10-1.522165775299*xf11-0.468759000301*xf12+1.417994260788*xf13+0.370010912418*xf14-2.718472957611*xf15+0.469961762428*xf16-2.314279079437*xf17-0.682480514050*xf18-1.616387128830*xf19+0.202725619078*xf110-1.451031565666*xf111+0.099444560707*xf112-1.293660640717*xf113+0.203722134233*xf114-0.991643249989\n",
    "xl26 = -0.589749693871*xf10-0.571380496025*xf11+0.120540380478*xf12+0.763658463955*xf13-1.608781814575*xf14-0.913990020752*xf15+0.719076871872*xf16-1.206779360771*xf17-0.747950553894*xf18-0.689776837826*xf19-0.001232341980*xf110-0.592846393585*xf111+1.381900072098*xf112+0.327141195536*xf113+0.125081762671*xf114-0.179510131478\n",
    "#     f2 = 1/(1 + np.exp(-l2))\n",
    "xf20 = 1.0/(1.0 + exp(-xl20))\n",
    "xf21 = 1.0/(1.0 + exp(-xl21))\n",
    "xf22 = 1.0/(1.0 + exp(-xl22))\n",
    "xf23 = 1.0/(1.0 + exp(-xl23))\n",
    "xf24 = 1.0/(1.0 + exp(-xl24))\n",
    "xf25 = 1.0/(1.0 + exp(-xl25))\n",
    "xf26 = 1.0/(1.0 + exp(-xl26))\n",
    "#     xsigP = w3.dot(f2) + b3\n",
    "xsigP = -1.147175073624*xf20+0.396453082561*xf21-1.731730222702*xf22+0.341490298510*xf23+0.917140424252*xf24+0.416720062494*xf25+0.469032645226*xf26-0.399738907814\n",
    "#     sigP = xsigP * rangeEntries[3] + minEntries[3]\n",
    "sigP = 977.555715042962*xsigP+579.184642915415"
   ]
  },
  {
   "cell_type": "code",
   "execution_count": 27,
   "id": "expanded-brake",
   "metadata": {
    "ExecuteTime": {
     "end_time": "2021-04-06T16:37:54.734069Z",
     "start_time": "2021-04-06T16:37:54.721420Z"
    }
   },
   "outputs": [
    {
     "data": {
      "text/plain": [
       "(1232.228229196241, 1232.1065669321008)"
      ]
     },
     "execution_count": 27,
     "metadata": {},
     "output_type": "execute_result"
    }
   ],
   "source": [
    "sigP, testData[0,3]"
   ]
  },
  {
   "cell_type": "markdown",
   "id": "atlantic-director",
   "metadata": {},
   "source": [
    "## Dérivation directe"
   ]
  },
  {
   "cell_type": "code",
   "execution_count": 28,
   "id": "damaged-content",
   "metadata": {
    "ExecuteTime": {
     "end_time": "2021-04-06T16:38:02.853065Z",
     "start_time": "2021-04-06T16:38:02.840323Z"
    }
   },
   "outputs": [],
   "source": [
    "def tanhPrime2Layers(x):\n",
    "    w3v = w3.reshape(w3.shape[1],1)\n",
    "    tanhx = np.tanh(w1.dot(x) + b1)\n",
    "    p2 = w3v * (1 - np.tanh(w2.dot(tanhx) + b2)**2)\n",
    "    p3 = (w2.T).dot(p2)\n",
    "    p5 = p3 * (1 - tanhx**2)\n",
    "    s = (w1.T).dot(p5)\n",
    "    return s"
   ]
  },
  {
   "cell_type": "code",
   "execution_count": 29,
   "id": "verbal-israel",
   "metadata": {
    "ExecuteTime": {
     "end_time": "2021-04-06T16:38:04.653146Z",
     "start_time": "2021-04-06T16:38:04.640383Z"
    }
   },
   "outputs": [],
   "source": [
    "def sigmoidPrime2Layers(x):\n",
    "    w3v = w3.reshape(w3.shape[1],1)\n",
    "    expx = np.exp(-(w1.dot(x) + b1))\n",
    "    exp2 = np.exp(w2.dot(1/(1 + expx)) + b2)\n",
    "    p1 = w3v*(exp2 / (1 + exp2)**2)\n",
    "    p2 = expx / (1 + expx)**2\n",
    "    s = (w1.T).dot((w2.T).dot(p1) * p2)\n",
    "    return s"
   ]
  },
  {
   "cell_type": "code",
   "execution_count": 30,
   "id": "cloudy-vision",
   "metadata": {
    "ExecuteTime": {
     "end_time": "2021-04-06T16:38:06.083452Z",
     "start_time": "2021-04-06T16:38:06.037129Z"
    }
   },
   "outputs": [],
   "source": [
    "code = ''\n",
    "\n",
    "code += comment + 'xeps = (eps - minEntries[0]) / rangeEntries[0]\\n'\n",
    "line = 'xeps = (eps -'+var%(minEntries[0])+')/'+var%(rangeEntries[0])\n",
    "#code += block+line+'\\n'\n",
    "code += toFortran(line)\n",
    "#print(line)\n",
    "\n",
    "code += comment + 'xepsp = (log(epsp/logBase) - minEntries[1]) / rangeEntries[1]\\n'\n",
    "line = 'xepsp = (log(epsp/'+var%(logBase[0])+') -'+var%(minEntries[1])+')/'+var%(rangeEntries[1])\n",
    "code += toFortran(line)\n",
    "#print(line)\n",
    "\n",
    "code += comment + 'xtemp = (temp - minEntries[2]) / rangeEntries[2]\\n'\n",
    "line = 'xtemp = (temp -'+var%(minEntries[2])+')/'+var%(rangeEntries[2])\n",
    "code += toFortran(line)\n",
    "#print(line)\n",
    "\n",
    "code += comment + 'expx = np.exp(-(w1.dot(x) + b1))\\n'\n",
    "for i in range(b1.shape[0]):\n",
    "    line = 'expx'+str(i)+\" = exp(-(\"+var%(w1[i,0]) + '*xeps+' + var%(w1[i,1]) + '*xepsp+' + var%(w1[i,2]) + '*xtemp+' + var%(b1[i,0])+'))'\n",
    "    code += toFortran(line)\n",
    "    #print(line)\n",
    "    \n",
    "code += comment + 'exp2 = np.exp(w2.dot(1/(1 + expx)) + b2)\\n'\n",
    "for i in range(b2.shape[0]):\n",
    "    line = 'exp2'+str(i)+' = exp('\n",
    "    for j in range(w2.shape[1]):\n",
    "        if (j!=0): line +='+'\n",
    "        line += var%(w2[i,j]) + '*(1/(1+expx'+str(j)+'))'\n",
    "    line+=\"+\"+var%(b2[i,0])+')'\n",
    "    code += toFortran(line)\n",
    "    #print(line)\n",
    "    \n",
    "code += comment + 'p1 = w3v*(exp2 / (1 + exp2)**2)\\n'\n",
    "for i in range(b2.shape[0]):\n",
    "    line = 'p1'+str(i)+' = '+var%(w3[0,i])+'*(exp2'+str(i)+'/(1+exp2'+str(i)+')**2)'\n",
    "    code += toFortran(line)\n",
    "\n",
    "code += comment + 'p2 = expx / (1 + expx)**2\\n'\n",
    "for i in range(b1.shape[0]):\n",
    "    line = 'p2'+str(i)+' = expx'+str(i)+'/(1+expx'+str(i)+')**2'\n",
    "    code += toFortran(line)\n",
    "\n",
    "code += comment + 'xs = (w2.T).dot(p1) * p2\\n'\n",
    "for i in range(b1.shape[0]):\n",
    "    line = 'xs'+str(i)+' = ('\n",
    "    for j in range(b2.shape[0]):\n",
    "        if(j>0): line+='+'\n",
    "        line += var%(w2[j,i])+'*p1'+str(j)\n",
    "    line +=')*p2'+str(i)\n",
    "    code += toFortran(line)\n",
    "    \n",
    "code += comment + 's = (w1.T).dot(xs)\\n'\n",
    "for i in range(w1.shape[1]):\n",
    "    line = 's'+str(i)+' = '\n",
    "    for j in range(w1.shape[0]):\n",
    "        if (j>0): line +='+'\n",
    "        line += var%(w1[j,i])+\"*xs\"+str(j)\n",
    "    code += toFortran(line)\n",
    "\n",
    "line = 'deps = s0 * '+var%(rangeEntries[3])+'/'+var%(rangeEntries[0])\n",
    "code += toFortran(line)\n",
    "line = 'depsp = s1 * '+var%(rangeEntries[3])+'/(epsp*'+var%(rangeEntries[1])+')'\n",
    "code += toFortran(line)\n",
    "line = 'dtemp = s2 * '+var%(rangeEntries[3])+'/'+var%(rangeEntries[2])\n",
    "code += toFortran(line)\n",
    "\n",
    "    #scaleOut = np.array([[rangeEntries[3]/rangeEntries[0]],[rangeEntries[3]/rangeEntries[1]],[rangeEntries[3]/rangeEntries[2]]])\n"
   ]
  },
  {
   "cell_type": "code",
   "execution_count": 31,
   "id": "periodic-carrier",
   "metadata": {
    "ExecuteTime": {
     "end_time": "2021-04-06T16:38:17.003543Z",
     "start_time": "2021-04-06T16:38:16.994294Z"
    }
   },
   "outputs": [
    {
     "name": "stdout",
     "output_type": "stream",
     "text": [
      "C     xeps = (eps - minEntries[0]) / rangeEntries[0]\n",
      "      xeps = (eps -0.000000000000)/1.000000000000\n",
      "C     xepsp = (log(epsp/logBase) - minEntries[1]) / rangeEntries[1]\n",
      "      xepsp = (log(epsp/1.000000000000) -0.000000000000)/10.819778284410\n",
      "C     xtemp = (temp - minEntries[2]) / rangeEntries[2]\n",
      "      xtemp = (temp -20.000000000000)/480.000000000000\n",
      "C     expx = np.exp(-(w1.dot(x) + b1))\n",
      "      expx0 = exp(-(-0.171193018556*xeps-0.498235881329*xepsp+1.572309255600*xtemp-0.549710810184))\n",
      "      expx1 = exp(-(-0.182183891535*xeps-0.279642552137*xepsp+1.381547451019*xtemp-1.007667899132))\n",
      "      expx2 = exp(-(-0.121008850634*xeps-0.093622177839*xepsp-1.284856081009*xtemp+1.146428942680))\n",
      "      expx3 = exp(-(0.677952528000*xeps+0.785129725933*xepsp-3.600407361984*xtemp-1.056580066681))\n",
      "      expx4 = exp(-(-8.224933624268*xeps+0.102857425809*xepsp-1.170001864433*xtemp-0.834357798100))\n",
      "      expx5 = exp(-(-0.262212038040*xeps-0.370604902506*xepsp+1.530593752861*xtemp-0.557993113995))\n",
      "      expx6 = exp(-(0.363313168287*xeps+0.307944297791*xepsp-1.739808201790*xtemp-0.515264987946))\n",
      "      expx7 = exp(-(-0.171282619238*xeps-0.936020970345*xepsp-0.700896143913*xtemp-0.525115251541))\n",
      "      expx8 = exp(-(-2.934058904648*xeps+0.024969343096*xepsp-0.818501532078*xtemp+0.164255663753))\n",
      "      expx9 = exp(-(-0.298778355122*xeps-0.517931699753*xepsp-7.580852508545*xtemp-1.864312648773))\n",
      "      expx10 = exp(-(1.177027940750*xeps-0.308994054794*xepsp-1.684179663658*xtemp-0.859441757202))\n",
      "      expx11 = exp(-(-0.231339216232*xeps-0.290423154831*xepsp+1.502451419830*xtemp-1.198348641396))\n",
      "      expx12 = exp(-(235.784103393555*xeps-0.099293000996*xepsp+0.760096788406*xtemp+0.819592595100))\n",
      "      expx13 = exp(-(-23.344444274902*xeps+0.164729803801*xepsp-0.949119210243*xtemp-0.500462353230))\n",
      "      expx14 = exp(-(0.329279005527*xeps+0.054267201573*xepsp-1.555212616920*xtemp-0.580829739571))\n",
      "C     exp2 = np.exp(w2.dot(1/(1 + expx)) + b2)\n",
      "      exp20 = exp(0.000755758665*(1/(1+expx0))+0.348879784346*(1/(1+expx1))-1.622294902802*(1/(1+expx2))-1.744126558304*(1/(1+expx3))+1.189603447914*(1/(1+expx4))+0.773437738419*(1/(1+expx5))-1.077992796898*(1/(1+expx6))+0.195966541767*(1/(1+expx7))+0.371459305286*(1/(1+expx8))-2.175866603851*(1/(1+expx9))+0.267415910959*(1/(1+expx10))+0.117423757911*(1/(1+expx11))-1.837396621704*(1/(1+expx12))-1.631284832954*(1/(1+expx13))-0.915312469006*(1/(1+expx14))-0.220450609922)\n",
      "      exp21 = exp(-1.520736217499*(1/(1+expx0))-0.598750412464*(1/(1+expx1))-0.567928969860*(1/(1+expx2))+0.733987450600*(1/(1+expx3))-1.956816315651*(1/(1+expx4))-0.990542054176*(1/(1+expx5))-0.024108286947*(1/(1+expx6))-0.921862065792*(1/(1+expx7))-1.585801959038*(1/(1+expx8))-0.359389543533*(1/(1+expx9))-0.568457961082*(1/(1+expx10))-0.462055325508*(1/(1+expx11))+0.937371969223*(1/(1+expx12))+0.713293492794*(1/(1+expx13))-0.270313948393*(1/(1+expx14))-0.580874204636)\n",
      "      exp22 = exp(-0.263961493969*(1/(1+expx0))+0.340663641691*(1/(1+expx1))-1.086898207664*(1/(1+expx2))-0.190290063620*(1/(1+expx3))+1.526942133904*(1/(1+expx4))+0.134074971080*(1/(1+expx5))-0.458628684282*(1/(1+expx6))-0.210141628981*(1/(1+expx7))+0.690639853477*(1/(1+expx8))-0.559289455414*(1/(1+expx9))-0.561830639839*(1/(1+expx10))+0.010643188842*(1/(1+expx11))-2.779141187668*(1/(1+expx12))+2.203900575638*(1/(1+expx13))-0.874182760715*(1/(1+expx14))-0.327307760715)\n",
      "      exp23 = exp(-1.667145609856*(1/(1+expx0))-1.261272549629*(1/(1+expx1))-1.568691968918*(1/(1+expx2))-1.300865530968*(1/(1+expx3))-0.965722560883*(1/(1+expx4))-1.076323390007*(1/(1+expx5))-0.399949252605*(1/(1+expx6))-2.976247072220*(1/(1+expx7))-3.980113983154*(1/(1+expx8))-1.212576389313*(1/(1+expx9))-0.478132873774*(1/(1+expx10))-1.447541594505*(1/(1+expx11))-0.287288188934*(1/(1+expx12))-0.847129225731*(1/(1+expx13))-0.899507462978*(1/(1+expx14))-0.965191483498)\n",
      "      exp24 = exp(-0.421280384064*(1/(1+expx0))-0.564329922199*(1/(1+expx1))+1.009604096413*(1/(1+expx2))+0.335408806801*(1/(1+expx3))-0.515781700611*(1/(1+expx4))-0.189889833331*(1/(1+expx5))+0.561685442924*(1/(1+expx6))-0.274590790272*(1/(1+expx7))-0.640589475632*(1/(1+expx8))-0.454831272364*(1/(1+expx9))+0.185221791267*(1/(1+expx10))-1.204036474228*(1/(1+expx11))+2.715961456299*(1/(1+expx12))-2.415366411209*(1/(1+expx13))+0.508277475834*(1/(1+expx14))+0.001537762932)\n",
      "      exp25 = exp(-1.879916071892*(1/(1+expx0))-1.522165775299*(1/(1+expx1))-0.468759000301*(1/(1+expx2))+1.417994260788*(1/(1+expx3))+0.370010912418*(1/(1+expx4))-2.718472957611*(1/(1+expx5))+0.469961762428*(1/(1+expx6))-2.314279079437*(1/(1+expx7))-0.682480514050*(1/(1+expx8))-1.616387128830*(1/(1+expx9))+0.202725619078*(1/(1+expx10))-1.451031565666*(1/(1+expx11))+0.099444560707*(1/(1+expx12))-1.293660640717*(1/(1+expx13))+0.203722134233*(1/(1+expx14))-0.991643249989)\n",
      "      exp26 = exp(-0.589749693871*(1/(1+expx0))-0.571380496025*(1/(1+expx1))+0.120540380478*(1/(1+expx2))+0.763658463955*(1/(1+expx3))-1.608781814575*(1/(1+expx4))-0.913990020752*(1/(1+expx5))+0.719076871872*(1/(1+expx6))-1.206779360771*(1/(1+expx7))-0.747950553894*(1/(1+expx8))-0.689776837826*(1/(1+expx9))-0.001232341980*(1/(1+expx10))-0.592846393585*(1/(1+expx11))+1.381900072098*(1/(1+expx12))+0.327141195536*(1/(1+expx13))+0.125081762671*(1/(1+expx14))-0.179510131478)\n",
      "C     p1 = w3v*(exp2 / (1 + exp2)**2)\n",
      "      p10 = -1.147175073624*(exp20/(1+exp20)**2)\n",
      "      p11 = 0.396453082561*(exp21/(1+exp21)**2)\n",
      "      p12 = -1.731730222702*(exp22/(1+exp22)**2)\n",
      "      p13 = 0.341490298510*(exp23/(1+exp23)**2)\n",
      "      p14 = 0.917140424252*(exp24/(1+exp24)**2)\n",
      "      p15 = 0.416720062494*(exp25/(1+exp25)**2)\n",
      "      p16 = 0.469032645226*(exp26/(1+exp26)**2)\n",
      "C     p2 = expx / (1 + expx)**2\n",
      "      p20 = expx0/(1+expx0)**2\n",
      "      p21 = expx1/(1+expx1)**2\n",
      "      p22 = expx2/(1+expx2)**2\n",
      "      p23 = expx3/(1+expx3)**2\n",
      "      p24 = expx4/(1+expx4)**2\n",
      "      p25 = expx5/(1+expx5)**2\n",
      "      p26 = expx6/(1+expx6)**2\n",
      "      p27 = expx7/(1+expx7)**2\n",
      "      p28 = expx8/(1+expx8)**2\n",
      "      p29 = expx9/(1+expx9)**2\n",
      "      p210 = expx10/(1+expx10)**2\n",
      "      p211 = expx11/(1+expx11)**2\n",
      "      p212 = expx12/(1+expx12)**2\n",
      "      p213 = expx13/(1+expx13)**2\n",
      "      p214 = expx14/(1+expx14)**2\n",
      "C     xs = (w2.T).dot(p1) * p2\n",
      "      xs0 = (0.000755758665*p10-1.520736217499*p11-0.263961493969*p12-1.667145609856*p13-0.421280384064*p14-1.879916071892*p15-0.589749693871*p16)*p20\n",
      "      xs1 = (0.348879784346*p10-0.598750412464*p11+0.340663641691*p12-1.261272549629*p13-0.564329922199*p14-1.522165775299*p15-0.571380496025*p16)*p21\n",
      "      xs2 = (-1.622294902802*p10-0.567928969860*p11-1.086898207664*p12-1.568691968918*p13+1.009604096413*p14-0.468759000301*p15+0.120540380478*p16)*p22\n",
      "      xs3 = (-1.744126558304*p10+0.733987450600*p11-0.190290063620*p12-1.300865530968*p13+0.335408806801*p14+1.417994260788*p15+0.763658463955*p16)*p23\n",
      "      xs4 = (1.189603447914*p10-1.956816315651*p11+1.526942133904*p12-0.965722560883*p13-0.515781700611*p14+0.370010912418*p15-1.608781814575*p16)*p24\n",
      "      xs5 = (0.773437738419*p10-0.990542054176*p11+0.134074971080*p12-1.076323390007*p13-0.189889833331*p14-2.718472957611*p15-0.913990020752*p16)*p25\n",
      "      xs6 = (-1.077992796898*p10-0.024108286947*p11-0.458628684282*p12-0.399949252605*p13+0.561685442924*p14+0.469961762428*p15+0.719076871872*p16)*p26\n",
      "      xs7 = (0.195966541767*p10-0.921862065792*p11-0.210141628981*p12-2.976247072220*p13-0.274590790272*p14-2.314279079437*p15-1.206779360771*p16)*p27\n",
      "      xs8 = (0.371459305286*p10-1.585801959038*p11+0.690639853477*p12-3.980113983154*p13-0.640589475632*p14-0.682480514050*p15-0.747950553894*p16)*p28\n",
      "      xs9 = (-2.175866603851*p10-0.359389543533*p11-0.559289455414*p12-1.212576389313*p13-0.454831272364*p14-1.616387128830*p15-0.689776837826*p16)*p29\n",
      "      xs10 = (0.267415910959*p10-0.568457961082*p11-0.561830639839*p12-0.478132873774*p13+0.185221791267*p14+0.202725619078*p15-0.001232341980*p16)*p210\n",
      "      xs11 = (0.117423757911*p10-0.462055325508*p11+0.010643188842*p12-1.447541594505*p13-1.204036474228*p14-1.451031565666*p15-0.592846393585*p16)*p211\n",
      "      xs12 = (-1.837396621704*p10+0.937371969223*p11-2.779141187668*p12-0.287288188934*p13+2.715961456299*p14+0.099444560707*p15+1.381900072098*p16)*p212\n",
      "      xs13 = (-1.631284832954*p10+0.713293492794*p11+2.203900575638*p12-0.847129225731*p13-2.415366411209*p14-1.293660640717*p15+0.327141195536*p16)*p213\n",
      "      xs14 = (-0.915312469006*p10-0.270313948393*p11-0.874182760715*p12-0.899507462978*p13+0.508277475834*p14+0.203722134233*p15+0.125081762671*p16)*p214\n",
      "C     s = (w1.T).dot(xs)\n",
      "      s0 = -0.171193018556*xs0-0.182183891535*xs1-0.121008850634*xs2+0.677952528000*xs3-8.224933624268*xs4-0.262212038040*xs5+0.363313168287*xs6-0.171282619238*xs7-2.934058904648*xs8-0.298778355122*xs9+1.177027940750*xs10-0.231339216232*xs11+235.784103393555*xs12-23.344444274902*xs13+0.329279005527*xs14\n",
      "      s1 = -0.498235881329*xs0-0.279642552137*xs1-0.093622177839*xs2+0.785129725933*xs3+0.102857425809*xs4-0.370604902506*xs5+0.307944297791*xs6-0.936020970345*xs7+0.024969343096*xs8-0.517931699753*xs9-0.308994054794*xs10-0.290423154831*xs11-0.099293000996*xs12+0.164729803801*xs13+0.054267201573*xs14\n",
      "      s2 = 1.572309255600*xs0+1.381547451019*xs1-1.284856081009*xs2-3.600407361984*xs3-1.170001864433*xs4+1.530593752861*xs5-1.739808201790*xs6-0.700896143913*xs7-0.818501532078*xs8-7.580852508545*xs9-1.684179663658*xs10+1.502451419830*xs11+0.760096788406*xs12-0.949119210243*xs13-1.555212616920*xs14\n",
      "      deps = s0 * 977.555715042962/1.000000000000\n",
      "      depsp = s1 * 977.555715042962/(epsp*10.819778284410)\n",
      "      dtemp = s2 * 977.555715042962/480.000000000000\n",
      "\n"
     ]
    }
   ],
   "source": [
    "print(code)"
   ]
  },
  {
   "cell_type": "code",
   "execution_count": 32,
   "id": "joined-consortium",
   "metadata": {
    "ExecuteTime": {
     "end_time": "2021-04-06T16:40:04.423215Z",
     "start_time": "2021-04-06T16:40:04.306813Z"
    }
   },
   "outputs": [],
   "source": [
    "xeps = (eps -0.000000000000)/1.000000000000\n",
    "xepsp = (log(epsp/1.000000000000) -0.000000000000)/10.819778284410\n",
    "xtemp = (temp -20.000000000000)/480.000000000000\n",
    "expx0 = exp(-(-0.171193018556*xeps-0.498235881329*xepsp+1.572309255600*xtemp-0.549710810184))\n",
    "expx1 = exp(-(-0.182183891535*xeps-0.279642552137*xepsp+1.381547451019*xtemp-1.007667899132))\n",
    "expx2 = exp(-(-0.121008850634*xeps-0.093622177839*xepsp-1.284856081009*xtemp+1.146428942680))\n",
    "expx3 = exp(-(0.677952528000*xeps+0.785129725933*xepsp-3.600407361984*xtemp-1.056580066681))\n",
    "expx4 = exp(-(-8.224933624268*xeps+0.102857425809*xepsp-1.170001864433*xtemp-0.834357798100))\n",
    "expx5 = exp(-(-0.262212038040*xeps-0.370604902506*xepsp+1.530593752861*xtemp-0.557993113995))\n",
    "expx6 = exp(-(0.363313168287*xeps+0.307944297791*xepsp-1.739808201790*xtemp-0.515264987946))\n",
    "expx7 = exp(-(-0.171282619238*xeps-0.936020970345*xepsp-0.700896143913*xtemp-0.525115251541))\n",
    "expx8 = exp(-(-2.934058904648*xeps+0.024969343096*xepsp-0.818501532078*xtemp+0.164255663753))\n",
    "expx9 = exp(-(-0.298778355122*xeps-0.517931699753*xepsp-7.580852508545*xtemp-1.864312648773))\n",
    "expx10 = exp(-(1.177027940750*xeps-0.308994054794*xepsp-1.684179663658*xtemp-0.859441757202))\n",
    "expx11 = exp(-(-0.231339216232*xeps-0.290423154831*xepsp+1.502451419830*xtemp-1.198348641396))\n",
    "expx12 = exp(-(235.784103393555*xeps-0.099293000996*xepsp+0.760096788406*xtemp+0.819592595100))\n",
    "expx13 = exp(-(-23.344444274902*xeps+0.164729803801*xepsp-0.949119210243*xtemp-0.500462353230))\n",
    "expx14 = exp(-(0.329279005527*xeps+0.054267201573*xepsp-1.555212616920*xtemp-0.580829739571))\n",
    "exp20 = exp(0.000755758665*(1/(1+expx0))+0.348879784346*(1/(1+expx1))-1.622294902802*(1/(1+expx2))-1.744126558304*(1/(1+expx3))+1.189603447914*(1/(1+expx4))+0.773437738419*(1/(1+expx5))-1.077992796898*(1/(1+expx6))+0.195966541767*(1/(1+expx7))+0.371459305286*(1/(1+expx8))-2.175866603851*(1/(1+expx9))+0.267415910959*(1/(1+expx10))+0.117423757911*(1/(1+expx11))-1.837396621704*(1/(1+expx12))-1.631284832954*(1/(1+expx13))-0.915312469006*(1/(1+expx14))-0.220450609922)\n",
    "exp21 = exp(-1.520736217499*(1/(1+expx0))-0.598750412464*(1/(1+expx1))-0.567928969860*(1/(1+expx2))+0.733987450600*(1/(1+expx3))-1.956816315651*(1/(1+expx4))-0.990542054176*(1/(1+expx5))-0.024108286947*(1/(1+expx6))-0.921862065792*(1/(1+expx7))-1.585801959038*(1/(1+expx8))-0.359389543533*(1/(1+expx9))-0.568457961082*(1/(1+expx10))-0.462055325508*(1/(1+expx11))+0.937371969223*(1/(1+expx12))+0.713293492794*(1/(1+expx13))-0.270313948393*(1/(1+expx14))-0.580874204636)\n",
    "exp22 = exp(-0.263961493969*(1/(1+expx0))+0.340663641691*(1/(1+expx1))-1.086898207664*(1/(1+expx2))-0.190290063620*(1/(1+expx3))+1.526942133904*(1/(1+expx4))+0.134074971080*(1/(1+expx5))-0.458628684282*(1/(1+expx6))-0.210141628981*(1/(1+expx7))+0.690639853477*(1/(1+expx8))-0.559289455414*(1/(1+expx9))-0.561830639839*(1/(1+expx10))+0.010643188842*(1/(1+expx11))-2.779141187668*(1/(1+expx12))+2.203900575638*(1/(1+expx13))-0.874182760715*(1/(1+expx14))-0.327307760715)\n",
    "exp23 = exp(-1.667145609856*(1/(1+expx0))-1.261272549629*(1/(1+expx1))-1.568691968918*(1/(1+expx2))-1.300865530968*(1/(1+expx3))-0.965722560883*(1/(1+expx4))-1.076323390007*(1/(1+expx5))-0.399949252605*(1/(1+expx6))-2.976247072220*(1/(1+expx7))-3.980113983154*(1/(1+expx8))-1.212576389313*(1/(1+expx9))-0.478132873774*(1/(1+expx10))-1.447541594505*(1/(1+expx11))-0.287288188934*(1/(1+expx12))-0.847129225731*(1/(1+expx13))-0.899507462978*(1/(1+expx14))-0.965191483498)\n",
    "exp24 = exp(-0.421280384064*(1/(1+expx0))-0.564329922199*(1/(1+expx1))+1.009604096413*(1/(1+expx2))+0.335408806801*(1/(1+expx3))-0.515781700611*(1/(1+expx4))-0.189889833331*(1/(1+expx5))+0.561685442924*(1/(1+expx6))-0.274590790272*(1/(1+expx7))-0.640589475632*(1/(1+expx8))-0.454831272364*(1/(1+expx9))+0.185221791267*(1/(1+expx10))-1.204036474228*(1/(1+expx11))+2.715961456299*(1/(1+expx12))-2.415366411209*(1/(1+expx13))+0.508277475834*(1/(1+expx14))+0.001537762932)\n",
    "exp25 = exp(-1.879916071892*(1/(1+expx0))-1.522165775299*(1/(1+expx1))-0.468759000301*(1/(1+expx2))+1.417994260788*(1/(1+expx3))+0.370010912418*(1/(1+expx4))-2.718472957611*(1/(1+expx5))+0.469961762428*(1/(1+expx6))-2.314279079437*(1/(1+expx7))-0.682480514050*(1/(1+expx8))-1.616387128830*(1/(1+expx9))+0.202725619078*(1/(1+expx10))-1.451031565666*(1/(1+expx11))+0.099444560707*(1/(1+expx12))-1.293660640717*(1/(1+expx13))+0.203722134233*(1/(1+expx14))-0.991643249989)\n",
    "exp26 = exp(-0.589749693871*(1/(1+expx0))-0.571380496025*(1/(1+expx1))+0.120540380478*(1/(1+expx2))+0.763658463955*(1/(1+expx3))-1.608781814575*(1/(1+expx4))-0.913990020752*(1/(1+expx5))+0.719076871872*(1/(1+expx6))-1.206779360771*(1/(1+expx7))-0.747950553894*(1/(1+expx8))-0.689776837826*(1/(1+expx9))-0.001232341980*(1/(1+expx10))-0.592846393585*(1/(1+expx11))+1.381900072098*(1/(1+expx12))+0.327141195536*(1/(1+expx13))+0.125081762671*(1/(1+expx14))-0.179510131478)\n",
    "p10 = -1.147175073624*(exp20/(1+exp20)**2)\n",
    "p11 = 0.396453082561*(exp21/(1+exp21)**2)\n",
    "p12 = -1.731730222702*(exp22/(1+exp22)**2)\n",
    "p13 = 0.341490298510*(exp23/(1+exp23)**2)\n",
    "p14 = 0.917140424252*(exp24/(1+exp24)**2)\n",
    "p15 = 0.416720062494*(exp25/(1+exp25)**2)\n",
    "p16 = 0.469032645226*(exp26/(1+exp26)**2)\n",
    "p20 = expx0/(1+expx0)**2\n",
    "p21 = expx1/(1+expx1)**2\n",
    "p22 = expx2/(1+expx2)**2\n",
    "p23 = expx3/(1+expx3)**2\n",
    "p24 = expx4/(1+expx4)**2\n",
    "p25 = expx5/(1+expx5)**2\n",
    "p26 = expx6/(1+expx6)**2\n",
    "p27 = expx7/(1+expx7)**2\n",
    "p28 = expx8/(1+expx8)**2\n",
    "p29 = expx9/(1+expx9)**2\n",
    "p210 = expx10/(1+expx10)**2\n",
    "p211 = expx11/(1+expx11)**2\n",
    "p212 = expx12/(1+expx12)**2\n",
    "p213 = expx13/(1+expx13)**2\n",
    "p214 = expx14/(1+expx14)**2\n",
    "xs0 = (0.000755758665*p10-1.520736217499*p11-0.263961493969*p12-1.667145609856*p13-0.421280384064*p14-1.879916071892*p15-0.589749693871*p16)*p20\n",
    "xs1 = (0.348879784346*p10-0.598750412464*p11+0.340663641691*p12-1.261272549629*p13-0.564329922199*p14-1.522165775299*p15-0.571380496025*p16)*p21\n",
    "xs2 = (-1.622294902802*p10-0.567928969860*p11-1.086898207664*p12-1.568691968918*p13+1.009604096413*p14-0.468759000301*p15+0.120540380478*p16)*p22\n",
    "xs3 = (-1.744126558304*p10+0.733987450600*p11-0.190290063620*p12-1.300865530968*p13+0.335408806801*p14+1.417994260788*p15+0.763658463955*p16)*p23\n",
    "xs4 = (1.189603447914*p10-1.956816315651*p11+1.526942133904*p12-0.965722560883*p13-0.515781700611*p14+0.370010912418*p15-1.608781814575*p16)*p24\n",
    "xs5 = (0.773437738419*p10-0.990542054176*p11+0.134074971080*p12-1.076323390007*p13-0.189889833331*p14-2.718472957611*p15-0.913990020752*p16)*p25\n",
    "xs6 = (-1.077992796898*p10-0.024108286947*p11-0.458628684282*p12-0.399949252605*p13+0.561685442924*p14+0.469961762428*p15+0.719076871872*p16)*p26\n",
    "xs7 = (0.195966541767*p10-0.921862065792*p11-0.210141628981*p12-2.976247072220*p13-0.274590790272*p14-2.314279079437*p15-1.206779360771*p16)*p27\n",
    "xs8 = (0.371459305286*p10-1.585801959038*p11+0.690639853477*p12-3.980113983154*p13-0.640589475632*p14-0.682480514050*p15-0.747950553894*p16)*p28\n",
    "xs9 = (-2.175866603851*p10-0.359389543533*p11-0.559289455414*p12-1.212576389313*p13-0.454831272364*p14-1.616387128830*p15-0.689776837826*p16)*p29\n",
    "xs10 = (0.267415910959*p10-0.568457961082*p11-0.561830639839*p12-0.478132873774*p13+0.185221791267*p14+0.202725619078*p15-0.001232341980*p16)*p210\n",
    "xs11 = (0.117423757911*p10-0.462055325508*p11+0.010643188842*p12-1.447541594505*p13-1.204036474228*p14-1.451031565666*p15-0.592846393585*p16)*p211\n",
    "xs12 = (-1.837396621704*p10+0.937371969223*p11-2.779141187668*p12-0.287288188934*p13+2.715961456299*p14+0.099444560707*p15+1.381900072098*p16)*p212\n",
    "xs13 = (-1.631284832954*p10+0.713293492794*p11+2.203900575638*p12-0.847129225731*p13-2.415366411209*p14-1.293660640717*p15+0.327141195536*p16)*p213\n",
    "xs14 = (-0.915312469006*p10-0.270313948393*p11-0.874182760715*p12-0.899507462978*p13+0.508277475834*p14+0.203722134233*p15+0.125081762671*p16)*p214\n",
    "s0 = -0.171193018556*xs0-0.182183891535*xs1-0.121008850634*xs2+0.677952528000*xs3-8.224933624268*xs4-0.262212038040*xs5+0.363313168287*xs6-0.171282619238*xs7-2.934058904648*xs8-0.298778355122*xs9+1.177027940750*xs10-0.231339216232*xs11+235.784103393555*xs12-23.344444274902*xs13+0.329279005527*xs14\n",
    "s1 = -0.498235881329*xs0-0.279642552137*xs1-0.093622177839*xs2+0.785129725933*xs3+0.102857425809*xs4-0.370604902506*xs5+0.307944297791*xs6-0.936020970345*xs7+0.024969343096*xs8-0.517931699753*xs9-0.308994054794*xs10-0.290423154831*xs11-0.099293000996*xs12+0.164729803801*xs13+0.054267201573*xs14\n",
    "s2 = 1.572309255600*xs0+1.381547451019*xs1-1.284856081009*xs2-3.600407361984*xs3-1.170001864433*xs4+1.530593752861*xs5-1.739808201790*xs6-0.700896143913*xs7-0.818501532078*xs8-7.580852508545*xs9-1.684179663658*xs10+1.502451419830*xs11+0.760096788406*xs12-0.949119210243*xs13-1.555212616920*xs14\n",
    "deps = s0 * 977.555715042962/1.000000000000\n",
    "depsp = s1 * 977.555715042962/(epsp*10.819778284410)\n",
    "dtemp = s2 * 977.555715042962/480.000000000000"
   ]
  },
  {
   "cell_type": "code",
   "execution_count": 33,
   "id": "functional-research",
   "metadata": {
    "ExecuteTime": {
     "end_time": "2021-04-06T16:40:07.590100Z",
     "start_time": "2021-04-06T16:40:07.578965Z"
    }
   },
   "outputs": [
    {
     "data": {
      "text/plain": [
       "(132.0722278659824, 0.0005599218637349831, -0.9256411664152612)"
      ]
     },
     "execution_count": 33,
     "metadata": {},
     "output_type": "execute_result"
    }
   ],
   "source": [
    "deps,depsp,dtemp"
   ]
  },
  {
   "cell_type": "code",
   "execution_count": 41,
   "id": "excited-chile",
   "metadata": {
    "ExecuteTime": {
     "end_time": "2021-04-06T16:41:58.790796Z",
     "start_time": "2021-04-06T16:41:58.777335Z"
    }
   },
   "outputs": [
    {
     "data": {
      "text/plain": [
       "array([[0.64999785],\n",
       "       [0.90552119],\n",
       "       [0.65628871]])"
      ]
     },
     "execution_count": 41,
     "metadata": {},
     "output_type": "execute_result"
    }
   ],
   "source": [
    "x=np.array([[xeps],[xepsp],[xtemp]])\n",
    "x"
   ]
  },
  {
   "cell_type": "code",
   "execution_count": 42,
   "id": "trained-messenger",
   "metadata": {
    "ExecuteTime": {
     "end_time": "2021-04-06T16:42:00.793609Z",
     "start_time": "2021-04-06T16:42:00.778265Z"
    }
   },
   "outputs": [
    {
     "data": {
      "text/plain": [
       "array([[ 0.13510455],\n",
       "       [ 0.11148621],\n",
       "       [-0.45450889]])"
      ]
     },
     "execution_count": 42,
     "metadata": {},
     "output_type": "execute_result"
    }
   ],
   "source": [
    "if ('tanh' in ANN_name) : s = tanhPrime2Layers(x)\n",
    "elif ('sigmoid' in ANN_name) : s = sigmoidPrime2Layers(x)\n",
    "else : s = 0\n",
    "s"
   ]
  },
  {
   "cell_type": "code",
   "execution_count": 43,
   "id": "valid-cannon",
   "metadata": {
    "ExecuteTime": {
     "end_time": "2021-04-06T16:42:05.740454Z",
     "start_time": "2021-04-06T16:42:05.727304Z"
    }
   },
   "outputs": [
    {
     "data": {
      "text/plain": [
       "array([[977.55571504],\n",
       "       [ 90.34895996],\n",
       "       [  2.03657441]])"
      ]
     },
     "execution_count": 43,
     "metadata": {},
     "output_type": "execute_result"
    }
   ],
   "source": [
    "scaleOut = np.array([[rangeEntries[3]/rangeEntries[0]],[rangeEntries[3]/rangeEntries[1]],[rangeEntries[3]/rangeEntries[2]]])\n",
    "scaleOut"
   ]
  },
  {
   "cell_type": "code",
   "execution_count": 44,
   "id": "soviet-harrison",
   "metadata": {
    "ExecuteTime": {
     "end_time": "2021-04-06T16:42:07.316137Z",
     "start_time": "2021-04-06T16:42:07.303823Z"
    }
   },
   "outputs": [
    {
     "data": {
      "text/plain": [
       "array([[132.07222787],\n",
       "       [ 10.07266339],\n",
       "       [ -0.92564117]])"
      ]
     },
     "execution_count": 44,
     "metadata": {},
     "output_type": "execute_result"
    }
   ],
   "source": [
    "scaled = s*scaleOut\n",
    "scaled"
   ]
  },
  {
   "cell_type": "code",
   "execution_count": 52,
   "id": "driving-alaska",
   "metadata": {
    "ExecuteTime": {
     "end_time": "2021-04-06T16:46:51.116599Z",
     "start_time": "2021-04-06T16:46:51.103436Z"
    }
   },
   "outputs": [
    {
     "name": "stdout",
     "output_type": "stream",
     "text": [
      "132.0722278659824\n",
      "Ana :  132.07222786595148 2.3413567227521216e-13\n"
     ]
    }
   ],
   "source": [
    "sigEpsNN = deps\n",
    "sigEps = scaled[0][0]\n",
    "print(sigEpsNN)\n",
    "print('Ana : ',sigEps, abs((sigEpsNN-sigEps)/sigEps))"
   ]
  },
  {
   "cell_type": "code",
   "execution_count": 53,
   "id": "separate-warehouse",
   "metadata": {
    "ExecuteTime": {
     "end_time": "2021-04-06T16:48:43.341072Z",
     "start_time": "2021-04-06T16:48:43.328333Z"
    }
   },
   "outputs": [
    {
     "data": {
      "text/plain": [
       "0.0005599218637344952"
      ]
     },
     "execution_count": 53,
     "metadata": {},
     "output_type": "execute_result"
    }
   ],
   "source": [
    "scaled[1][0]/testData[0,1]"
   ]
  },
  {
   "cell_type": "code",
   "execution_count": 50,
   "id": "given-worse",
   "metadata": {
    "ExecuteTime": {
     "end_time": "2021-04-06T16:45:30.847493Z",
     "start_time": "2021-04-06T16:45:30.818944Z"
    }
   },
   "outputs": [
    {
     "name": "stdout",
     "output_type": "stream",
     "text": [
      "0.0005599218637344952\n"
     ]
    },
    {
     "ename": "NameError",
     "evalue": "name 'sigEpspN' is not defined",
     "output_type": "error",
     "traceback": [
      "\u001b[0;31m---------------------------------------------------------------------------\u001b[0m",
      "\u001b[0;31mNameError\u001b[0m                                 Traceback (most recent call last)",
      "\u001b[0;32m<ipython-input-50-4f2716aa0069>\u001b[0m in \u001b[0;36m<module>\u001b[0;34m\u001b[0m\n\u001b[1;32m      1\u001b[0m \u001b[0msigEpspNN\u001b[0m \u001b[0;34m=\u001b[0m \u001b[0mscaled\u001b[0m\u001b[0;34m[\u001b[0m\u001b[0;36m1\u001b[0m\u001b[0;34m]\u001b[0m\u001b[0;34m[\u001b[0m\u001b[0;36m0\u001b[0m\u001b[0;34m]\u001b[0m\u001b[0;34m/\u001b[0m\u001b[0mtestData\u001b[0m\u001b[0;34m[\u001b[0m\u001b[0;36m0\u001b[0m\u001b[0;34m,\u001b[0m\u001b[0;36m1\u001b[0m\u001b[0;34m]\u001b[0m\u001b[0;34m\u001b[0m\u001b[0;34m\u001b[0m\u001b[0m\n\u001b[1;32m      2\u001b[0m \u001b[0mprint\u001b[0m\u001b[0;34m(\u001b[0m\u001b[0msigEpspNN\u001b[0m\u001b[0;34m)\u001b[0m\u001b[0;34m\u001b[0m\u001b[0;34m\u001b[0m\u001b[0m\n\u001b[0;32m----> 3\u001b[0;31m \u001b[0mprint\u001b[0m\u001b[0;34m(\u001b[0m\u001b[0;34m'Num : '\u001b[0m\u001b[0;34m,\u001b[0m\u001b[0msigEpspN\u001b[0m\u001b[0;34m,\u001b[0m \u001b[0mabs\u001b[0m\u001b[0;34m(\u001b[0m\u001b[0;34m(\u001b[0m\u001b[0msigEpspNN\u001b[0m\u001b[0;34m-\u001b[0m\u001b[0msigEpspN\u001b[0m\u001b[0;34m)\u001b[0m\u001b[0;34m/\u001b[0m\u001b[0msigEpspN\u001b[0m\u001b[0;34m)\u001b[0m\u001b[0;34m)\u001b[0m\u001b[0;34m\u001b[0m\u001b[0;34m\u001b[0m\u001b[0m\n\u001b[0m\u001b[1;32m      4\u001b[0m \u001b[0mprint\u001b[0m\u001b[0;34m(\u001b[0m\u001b[0;34m'Ana : '\u001b[0m\u001b[0;34m,\u001b[0m\u001b[0msigEpsp\u001b[0m\u001b[0;34m,\u001b[0m \u001b[0mabs\u001b[0m\u001b[0;34m(\u001b[0m\u001b[0;34m(\u001b[0m\u001b[0msigEpspNN\u001b[0m\u001b[0;34m-\u001b[0m\u001b[0msigEpsp\u001b[0m\u001b[0;34m)\u001b[0m\u001b[0;34m/\u001b[0m\u001b[0msigEpsp\u001b[0m\u001b[0;34m)\u001b[0m\u001b[0;34m)\u001b[0m\u001b[0;34m\u001b[0m\u001b[0;34m\u001b[0m\u001b[0m\n",
      "\u001b[0;31mNameError\u001b[0m: name 'sigEpspN' is not defined"
     ]
    }
   ],
   "source": [
    "sigEpspNN = scaled[1][0]/testData[0,1]\n",
    "print(sigEpspNN)\n",
    "print('Num : ',sigEpspN, abs((sigEpspNN-sigEpspN)/sigEpspN))\n",
    "print('Ana : ',sigEpsp, abs((sigEpspNN-sigEpsp)/sigEpsp))"
   ]
  },
  {
   "cell_type": "code",
   "execution_count": null,
   "id": "devoted-suspect",
   "metadata": {},
   "outputs": [],
   "source": [
    "sigTNN = scaled[2][0]\n",
    "print(sigTNN)\n",
    "print('Num : ',sigTN, abs((sigTNN-sigTN)/sigTN))\n",
    "print('Ana : ',sigT, abs((sigTNN-sigT)/sigT))"
   ]
  },
  {
   "cell_type": "code",
   "execution_count": null,
   "id": "renewable-analyst",
   "metadata": {},
   "outputs": [],
   "source": [
    "if ('tanh' in ANN_name) : sp = tanhPrime2Layers(inputTest.T)\n",
    "elif ('sigmoid' in ANN_name) : sp = sigmoidPrime2Layers(inputTest.T)\n",
    "else : sp = 0\n",
    "ss = sp*scaleOut"
   ]
  },
  {
   "cell_type": "code",
   "execution_count": null,
   "id": "creative-enhancement",
   "metadata": {
    "scrolled": true
   },
   "outputs": [],
   "source": [
    "error = np.abs((ss[0,:] - testData[:,4]) / testData[:,4])\n",
    "\"EPS\", error.max(), error.min(), error.mean()"
   ]
  },
  {
   "cell_type": "code",
   "execution_count": null,
   "id": "included-dodge",
   "metadata": {},
   "outputs": [],
   "source": [
    "v1 = ss[0,:]\n",
    "v2 = testData[:,4]\n",
    "num = np.sum((v2-np.mean(v2))*(v1-np.mean(v1)))\n",
    "den = math.sqrt(np.sum((v2-np.mean(v2))**2)*np.sum((v1-np.mean(v1))**2))\n",
    "R = num/den\n",
    "#np.mean(np.abs(((NNoutput+1)-(predictedOutput+1))/(NNoutput+1)))*100\n",
    "plt.figure(figsize = (12, 8))\n",
    "plt.rc('text', usetex = True)\n",
    "plt.scatter(v2, v1, color='red', label=\"$AN\\!N\\ prediction$\")\n",
    "plt.plot([np.min(v2),np.max(v2)], [np.min(v2),np.max(v2)], color = 'black', label='$Best\\ fit$')\n",
    "plt.xlim(np.min(v2), np.max(v2))\n",
    "plt.ylim(np.min(v2), np.max(v2))\n",
    "plt.grid()\n",
    "plt.legend(loc = 'lower right',fancybox = True, numpoints = 1, fontsize = 14)\n",
    "plt.xlabel(r'$Analytical\\ \\partial\\sigma/\\partial\\varepsilon^{p}$', fontsize = 16)\n",
    "plt.ylabel(r'$Predicted\\ \\partial\\sigma/\\partial\\varepsilon^{p}$', fontsize = 16)\n",
    "plt.text(np.min(v2) + 0.2*(np.max(v2)-np.min(v2)), np.min(v2)+ 0.7*(np.max(v2)-np.min(v2)), '$R = %.8f$' % (R), fontsize=20)\n",
    "#plt.title(r'$Map\\ of\\ errors\\ \\varepsilon^{p} / T$', fontsize = 20)\n",
    "plt.savefig(ANN_name + 'R-sig-eps.svg')\n",
    "plt.show() "
   ]
  },
  {
   "cell_type": "code",
   "execution_count": null,
   "id": "presidential-egypt",
   "metadata": {},
   "outputs": [],
   "source": [
    "levelsT = ['$> 5.00 \\%$','$3.00 - 5.00 \\%$','$1.00 - 3.00 \\%$','$0.50 - 1.00 \\%$','$< 0.50 \\%$']\n",
    "levelsC = [0.05, 0.03, 0.01, 0.005]"
   ]
  },
  {
   "cell_type": "code",
   "execution_count": null,
   "id": "informal-screw",
   "metadata": {},
   "outputs": [],
   "source": [
    "plt.figure(figsize = (12, 9))\n",
    "plt.rc('text', usetex = True)\n",
    "plt.scatter(eps_test[error >= levelsC[0]], T_test[error >= levelsC[0]], color='black', label=levelsT[0])\n",
    "plt.scatter(eps_test[(error < levelsC[0]) & (error >= levelsC[1])], T_test[(error < levelsC[0]) & (error >= levelsC[1])], color='red', label=levelsT[1])\n",
    "plt.scatter(eps_test[(error < levelsC[1]) & (error >= levelsC[2])], T_test[(error < levelsC[1]) & (error >= levelsC[2])], color='orange', label=levelsT[2])\n",
    "plt.scatter(eps_test[(error < levelsC[2]) & (error >= levelsC[3])], T_test[(error < levelsC[2]) & (error >= levelsC[3])], color='yellow', label=levelsT[3])\n",
    "plt.scatter(eps_test[error < levelsC[3]], T_test[error < levelsC[3]], color='green', label=levelsT[4])\n",
    "plt.legend(loc = 'lower right',fancybox = True, numpoints = 1, fontsize = 14)\n",
    "plt.xlabel(r'$Plastic\\ strain\\ \\varepsilon^{p}$', fontsize = 16)\n",
    "plt.ylabel(r'$Temperature\\ T^{\\circ}C$', fontsize = 16)\n",
    "plt.title(r'$Map\\ of\\ errors\\ \\partial\\sigma/\\partial\\varepsilon^{p}(\\varepsilon^{p},T)$', fontsize = 20)\n",
    "plt.savefig(ANN_name + 'Map-derivative-eps-1.svg')\n",
    "plt.show()\n",
    "plt.figure(figsize = (12, 9))\n",
    "plt.rc('text', usetex = True)\n",
    "plt.scatter(eps_test[error >= levelsC[0]], np.exp(epsp_test[error >= levelsC[0]]), color='black', label=levelsT[0])\n",
    "plt.scatter(eps_test[(error < levelsC[0]) & (error >= levelsC[1])], np.exp(epsp_test[(error < levelsC[0]) & (error >= levelsC[1])]), color='red', label=levelsT[1])\n",
    "plt.scatter(eps_test[(error < levelsC[1]) & (error >= levelsC[2])], np.exp(epsp_test[(error < levelsC[1]) & (error >= levelsC[2])]), color='orange', label=levelsT[2])\n",
    "plt.scatter(eps_test[(error < levelsC[2]) & (error >= levelsC[3])], np.exp(epsp_test[(error < levelsC[2]) & (error >= levelsC[3])]), color='yellow', label=levelsT[3])\n",
    "plt.scatter(eps_test[error < levelsC[3]], np.exp(epsp_test[error < levelsC[3]]), color='green', label=levelsT[4])\n",
    "plt.legend(loc = 'lower right',fancybox = True, numpoints = 1, fontsize = 14)\n",
    "plt.legend(loc = 'lower right',fancybox = True, numpoints = 1, fontsize = 14)\n",
    "plt.xlabel(r'$Plastic\\ strain\\ \\varepsilon^{p}$', fontsize = 16)\n",
    "plt.ylabel(r'$Plastic\\ strain\\ rate\\ \\dot{\\varepsilon^{p}}$', fontsize = 16)\n",
    "plt.title(r'$Map\\ of\\ errors\\ \\partial\\sigma/\\partial\\varepsilon^{p}(\\varepsilon^{p},\\dot\\varepsilon^{p})$', fontsize = 20)\n",
    "plt.savefig(ANN_name + 'Map-derivative-eps-2.svg')\n",
    "plt.show()"
   ]
  },
  {
   "cell_type": "code",
   "execution_count": null,
   "id": "boxed-trial",
   "metadata": {},
   "outputs": [],
   "source": [
    "fig = plt.figure(figsize = (8, 8))\n",
    "plt.rc('text', usetex = True)\n",
    "ax = fig.add_subplot(111, projection='3d')\n",
    "ax.scatter(eps_test[error >= levelsC[0]], np.exp(epsp_test[error >= levelsC[0]]), T_test[error >= levelsC[0]], color='black', label=levelsT[0])\n",
    "ax.scatter(eps_test[(error < levelsC[0]) & (error >= levelsC[1])], np.exp(epsp_test[(error < levelsC[0]) & (error >= levelsC[1])]), T_test[(error < levelsC[0]) & (error >= levelsC[1])], color='red', label=levelsT[1])\n",
    "ax.scatter(eps_test[(error < levelsC[1]) & (error >= levelsC[2])], np.exp(epsp_test[(error < levelsC[1]) & (error >= levelsC[2])]), T_test[(error < levelsC[1]) & (error >= levelsC[2])], color='orange', label=levelsT[2])\n",
    "ax.scatter(eps_test[(error < levelsC[2]) & (error >= levelsC[3])], np.exp(epsp_test[(error < levelsC[2]) & (error >= levelsC[3])]), T_test[(error < levelsC[2]) & (error >= levelsC[3])], color='yellow', label=levelsT[3])\n",
    "ax.scatter(eps_test[error < levelsC[3]], np.exp(epsp_test[error < levelsC[3]]), T_test[error < levelsC[3]], color='green', label=levelsT[4])\n",
    "plt.legend(loc = 'lower right',fancybox = True, numpoints = 1, fontsize = 14)\n",
    "ax.set_xlabel(r'$Plastic\\ strain\\ \\varepsilon^{p}$', fontsize = 16)\n",
    "ax.set_ylabel(r'$Plastic\\ strain\\ rate\\ \\dot{\\varepsilon^{p}}$', fontsize = 16)\n",
    "ax.set_zlabel(r'$Temperature\\ T^{\\circ}C$', fontsize = 16)\n",
    "plt.title(r'$Map\\ of\\ errors\\ \\partial\\sigma/\\partial\\varepsilon^{p}(\\varepsilon^{p},\\dot\\varepsilon^{p},T)$', fontsize = 20)\n",
    "plt.savefig(ANN_name + 'Map-derivative-eps-3D.svg')\n",
    "plt.show()"
   ]
  },
  {
   "cell_type": "code",
   "execution_count": null,
   "id": "requested-feeding",
   "metadata": {},
   "outputs": [],
   "source": [
    "nnvals = ss[1]/testData[:,1]\n",
    "error = np.abs((nnvals - testData[:,5]) / testData[:,5])\n",
    "\"EPSP\", error.max(), error.min(), error.mean()"
   ]
  },
  {
   "cell_type": "code",
   "execution_count": null,
   "id": "proved-proposition",
   "metadata": {},
   "outputs": [],
   "source": [
    "v1 = ss[1]/testData[:,1]\n",
    "v2 = testData[:,5]\n",
    "num = np.sum((v2-np.mean(v2))*(v1-np.mean(v1)))\n",
    "den = math.sqrt(np.sum((v2-np.mean(v2))**2)*np.sum((v1-np.mean(v1))**2))\n",
    "R = num/den\n",
    "#np.mean(np.abs(((NNoutput+1)-(predictedOutput+1))/(NNoutput+1)))*100\n",
    "plt.figure(figsize = (12, 8))\n",
    "plt.rc('text', usetex = True)\n",
    "plt.scatter(v2, v1, color='red', label=\"$AN\\!N\\ prediction$\")\n",
    "plt.plot([np.min(v2),np.max(v2)], [np.min(v2),np.max(v2)], color = 'black', label='$Best\\ fit$')\n",
    "plt.xlim(np.min(v2), np.max(v2))\n",
    "plt.ylim(np.min(v2), np.max(v2))\n",
    "plt.grid()\n",
    "plt.legend(loc = 'lower right',fancybox = True, numpoints = 1, fontsize = 14)\n",
    "plt.xlabel(r'$Analytical\\ \\partial\\sigma/\\partial\\dot{\\varepsilon}^{p}$', fontsize = 16)\n",
    "plt.ylabel(r'$Predicted\\ \\partial\\sigma/\\partial\\dot{\\varepsilon}^{p}$', fontsize = 16)\n",
    "plt.text(np.min(v2) + 0.2*(np.max(v2)-np.min(v2)), np.min(v2)+ 0.7*(np.max(v2)-np.min(v2)), '$R = %.8f$' % (R), fontsize=20)\n",
    "plt.savefig(ANN_name + 'R-sig-epsp.svg')\n",
    "plt.show() "
   ]
  },
  {
   "cell_type": "code",
   "execution_count": null,
   "id": "interior-miller",
   "metadata": {},
   "outputs": [],
   "source": [
    "plt.figure(figsize = (12, 9))\n",
    "plt.rc('text', usetex = True)\n",
    "plt.scatter(eps_test[error >= levelsC[0]], T_test[error >= levelsC[0]], color='black', label=levelsT[0])\n",
    "plt.scatter(eps_test[(error < levelsC[0]) & (error >= levelsC[1])], T_test[(error < levelsC[0]) & (error >= levelsC[1])], color='red', label=levelsT[1])\n",
    "plt.scatter(eps_test[(error < levelsC[1]) & (error >= levelsC[2])], T_test[(error < levelsC[1]) & (error >= levelsC[2])], color='orange', label=levelsT[2])\n",
    "plt.scatter(eps_test[(error < levelsC[2]) & (error >= levelsC[3])], T_test[(error < levelsC[2]) & (error >= levelsC[3])], color='yellow', label=levelsT[3])\n",
    "plt.scatter(eps_test[error < levelsC[3]], T_test[error < levelsC[3]], color='green', label=levelsT[4])\n",
    "plt.legend(loc = 'lower right',fancybox = True, numpoints = 1, fontsize = 14)\n",
    "plt.xlabel(r'$Plastic\\ strain\\ \\varepsilon^{p}$', fontsize = 16)\n",
    "plt.ylabel(r'$Temperature\\ T^{\\circ}C$', fontsize = 16)\n",
    "plt.title(r'$Map\\ of\\ errors\\ \\partial\\sigma/\\partial\\dot{\\varepsilon}^{p}(\\varepsilon^{p},T)$', fontsize = 20)\n",
    "plt.savefig(ANN_name + 'Map-derivative-epsp-1.svg')\n",
    "plt.show()\n",
    "plt.figure(figsize = (12, 9))\n",
    "plt.rc('text', usetex = True)\n",
    "plt.scatter(eps_test[error >= levelsC[0]], np.exp(epsp_test[error >= levelsC[0]]), color='black', label=levelsT[0])\n",
    "plt.scatter(eps_test[(error < levelsC[0]) & (error >= levelsC[1])], np.exp(epsp_test[(error < levelsC[0]) & (error >= levelsC[1])]), color='red', label=levelsT[1])\n",
    "plt.scatter(eps_test[(error < levelsC[1]) & (error >= levelsC[2])], np.exp(epsp_test[(error < levelsC[1]) & (error >= levelsC[2])]), color='orange', label=levelsT[2])\n",
    "plt.scatter(eps_test[(error < levelsC[2]) & (error >= levelsC[3])], np.exp(epsp_test[(error < levelsC[2]) & (error >= levelsC[3])]), color='yellow', label=levelsT[3])\n",
    "plt.scatter(eps_test[error < levelsC[3]], np.exp(epsp_test[error < levelsC[3]]), color='green', label=levelsT[4])\n",
    "plt.legend(loc = 'lower right',fancybox = True, numpoints = 1, fontsize = 14)\n",
    "plt.legend(loc = 'lower right',fancybox = True, numpoints = 1, fontsize = 14)\n",
    "plt.xlabel(r'$Plastic\\ strain\\ \\varepsilon^{p}$', fontsize = 16)\n",
    "plt.ylabel(r'$Plastic\\ strain\\ rate\\ \\dot{\\varepsilon^{p}}$', fontsize = 16)\n",
    "plt.title(r'$Map\\ of\\ errors\\ \\partial\\sigma/\\partial\\dot{\\varepsilon}^{p}(\\varepsilon^{p},\\dot\\varepsilon^{p})$', fontsize = 20)\n",
    "plt.savefig(ANN_name + 'Map-derivative-epsp-2.svg')\n",
    "plt.show()"
   ]
  },
  {
   "cell_type": "code",
   "execution_count": null,
   "id": "collective-beginning",
   "metadata": {},
   "outputs": [],
   "source": [
    "fig = plt.figure(figsize = (8, 8))\n",
    "plt.rc('text', usetex = True)\n",
    "ax = fig.add_subplot(111, projection='3d')\n",
    "ax.scatter(eps_test[error >= levelsC[0]], np.exp(epsp_test[error >= levelsC[0]]), T_test[error >= levelsC[0]], color='black', label=levelsT[0])\n",
    "ax.scatter(eps_test[(error < levelsC[0]) & (error >= levelsC[1])], np.exp(epsp_test[(error < levelsC[0]) & (error >= levelsC[1])]), T_test[(error < levelsC[0]) & (error >= levelsC[1])], color='red', label=levelsT[1])\n",
    "ax.scatter(eps_test[(error < levelsC[1]) & (error >= levelsC[2])], np.exp(epsp_test[(error < levelsC[1]) & (error >= levelsC[2])]), T_test[(error < levelsC[1]) & (error >= levelsC[2])], color='orange', label=levelsT[2])\n",
    "ax.scatter(eps_test[(error < levelsC[2]) & (error >= levelsC[3])], np.exp(epsp_test[(error < levelsC[2]) & (error >= levelsC[3])]), T_test[(error < levelsC[2]) & (error >= levelsC[3])], color='yellow', label=levelsT[3])\n",
    "ax.scatter(eps_test[error < levelsC[3]], np.exp(epsp_test[error < levelsC[3]]), T_test[error < levelsC[3]], color='green', label=levelsT[4])\n",
    "plt.legend(loc = 'lower right',fancybox = True, numpoints = 1, fontsize = 14)\n",
    "ax.set_xlabel(r'$Plastic\\ strain\\ \\varepsilon^{p}$', fontsize = 16)\n",
    "ax.set_ylabel(r'$Plastic\\ strain\\ rate\\ \\dot{\\varepsilon^{p}}$', fontsize = 16)\n",
    "ax.set_zlabel(r'$Temperature\\ T^{\\circ}C$', fontsize = 16)\n",
    "plt.title(r'$Map\\ of\\ errors\\ \\partial\\sigma/\\partial\\dot{\\varepsilon}^{p}(\\varepsilon^{p},\\dot\\varepsilon^{p},T)$', fontsize = 20)\n",
    "plt.savefig(ANN_name + 'Map-derivative-epsp-3D.svg')\n",
    "plt.show()"
   ]
  },
  {
   "cell_type": "code",
   "execution_count": null,
   "id": "noted-portsmouth",
   "metadata": {
    "scrolled": true
   },
   "outputs": [],
   "source": [
    "nnvals = ss[2]\n",
    "error = np.abs((nnvals - testData[:,6]) / testData[:,6])\n",
    "\"T\", error.max(), error.min(), error.mean()"
   ]
  },
  {
   "cell_type": "code",
   "execution_count": null,
   "id": "serious-wilson",
   "metadata": {},
   "outputs": [],
   "source": [
    "v1 = ss[2]\n",
    "v2 = testData[:,6]\n",
    "num = np.sum((v2-np.mean(v2))*(v1-np.mean(v1)))\n",
    "den = math.sqrt(np.sum((v2-np.mean(v2))**2)*np.sum((v1-np.mean(v1))**2))\n",
    "R = num/den\n",
    "#np.mean(np.abs(((NNoutput+1)-(predictedOutput+1))/(NNoutput+1)))*100\n",
    "plt.figure(figsize = (12, 8))\n",
    "plt.rc('text', usetex = True)\n",
    "plt.scatter(v2, v1, color='red', label=\"$AN\\!N\\ prediction$\")\n",
    "plt.plot([np.min(v2),np.max(v2)], [np.min(v2),np.max(v2)], color = 'black', label='$Best\\ fit$')\n",
    "plt.xlim(np.min(v2), np.max(v2))\n",
    "plt.ylim(np.min(v2), np.max(v2))\n",
    "plt.grid()\n",
    "plt.legend(loc = 'lower right',fancybox = True, numpoints = 1, fontsize = 14)\n",
    "plt.xlabel(r'$Analytical\\ \\partial\\sigma/\\partial T$', fontsize = 16)\n",
    "plt.ylabel(r'$Predicted\\ \\partial\\sigma/\\partial T$', fontsize = 16)\n",
    "plt.text(np.min(v2) + 0.2*(np.max(v2)-np.min(v2)), np.min(v2)+ 0.7*(np.max(v2)-np.min(v2)), '$R = %.8f$' % (R), fontsize=20)\n",
    "#plt.title(r'$Map\\ of\\ errors\\ \\varepsilon^{p} / T$', fontsize = 20)\n",
    "#if (saveFigures) : plt.savefig(dataPath + '/' + 'NN-' + model.name + '-error-sig.svg', bbox_inches = 'tight', pad_inches = 0)\n",
    "plt.savefig(ANN_name + 'R-sig-T.svg')\n",
    "plt.show() "
   ]
  },
  {
   "cell_type": "code",
   "execution_count": null,
   "id": "round-peninsula",
   "metadata": {},
   "outputs": [],
   "source": [
    "plt.figure(figsize = (12, 9))\n",
    "plt.rc('text', usetex = True)\n",
    "plt.scatter(eps_test[error >= levelsC[0]], T_test[error >= levelsC[0]], color='black', label=levelsT[0])\n",
    "plt.scatter(eps_test[(error < levelsC[0]) & (error >= levelsC[1])], T_test[(error < levelsC[0]) & (error >= levelsC[1])], color='red', label=levelsT[1])\n",
    "plt.scatter(eps_test[(error < levelsC[1]) & (error >= levelsC[2])], T_test[(error < levelsC[1]) & (error >= levelsC[2])], color='orange', label=levelsT[2])\n",
    "plt.scatter(eps_test[(error < levelsC[2]) & (error >= levelsC[3])], T_test[(error < levelsC[2]) & (error >= levelsC[3])], color='yellow', label=levelsT[3])\n",
    "plt.scatter(eps_test[error < levelsC[3]], T_test[error < levelsC[3]], color='green', label=levelsT[4])\n",
    "plt.legend(loc = 'lower right',fancybox = True, numpoints = 1, fontsize = 14)\n",
    "plt.xlabel(r'$Plastic\\ strain\\ \\varepsilon^{p}$', fontsize = 16)\n",
    "plt.ylabel(r'$Temperature\\ T^{\\circ}C$', fontsize = 16)\n",
    "plt.title(r'$Map\\ of\\ errors\\ \\partial\\sigma/\\partial T(\\varepsilon^{p},T)$', fontsize = 20)\n",
    "plt.savefig(ANN_name + 'Map-derivative-T-1.svg')\n",
    "plt.show()\n",
    "plt.figure(figsize = (12, 9))\n",
    "plt.rc('text', usetex = True)\n",
    "plt.scatter(eps_test[error >= levelsC[0]], np.exp(epsp_test[error >= levelsC[0]]), color='black', label=levelsT[0])\n",
    "plt.scatter(eps_test[(error < levelsC[0]) & (error >= levelsC[1])], np.exp(epsp_test[(error < levelsC[0]) & (error >= levelsC[1])]), color='red', label=levelsT[1])\n",
    "plt.scatter(eps_test[(error < levelsC[1]) & (error >= levelsC[2])], np.exp(epsp_test[(error < levelsC[1]) & (error >= levelsC[2])]), color='orange', label=levelsT[2])\n",
    "plt.scatter(eps_test[(error < levelsC[2]) & (error >= levelsC[3])], np.exp(epsp_test[(error < levelsC[2]) & (error >= levelsC[3])]), color='yellow', label=levelsT[3])\n",
    "plt.scatter(eps_test[error < levelsC[3]], np.exp(epsp_test[error < levelsC[3]]), color='green', label=levelsT[4])\n",
    "plt.legend(loc = 'lower right',fancybox = True, numpoints = 1, fontsize = 14)\n",
    "plt.legend(loc = 'lower right',fancybox = True, numpoints = 1, fontsize = 14)\n",
    "plt.xlabel(r'$Plastic\\ strain\\ \\varepsilon^{p}$', fontsize = 16)\n",
    "plt.ylabel(r'$Plastic\\ strain\\ rate\\ \\dot{\\varepsilon^{p}}$', fontsize = 16)\n",
    "plt.title(r'$Map\\ of\\ errors\\ \\partial\\sigma/\\partial T(\\varepsilon^{p},\\dot\\varepsilon^{p})$', fontsize = 20)\n",
    "plt.savefig(ANN_name + 'Map-derivative-T-2.svg')\n",
    "plt.show()"
   ]
  },
  {
   "cell_type": "code",
   "execution_count": null,
   "id": "empirical-foundation",
   "metadata": {},
   "outputs": [],
   "source": [
    "fig = plt.figure(figsize = (8, 8))\n",
    "plt.rc('text', usetex = True)\n",
    "ax = fig.add_subplot(111, projection='3d')\n",
    "ax.scatter(eps_test[error >= levelsC[0]], np.exp(epsp_test[error >= levelsC[0]]), T_test[error >= levelsC[0]], color='black', label=levelsT[0])\n",
    "ax.scatter(eps_test[(error < levelsC[0]) & (error >= levelsC[1])], np.exp(epsp_test[(error < levelsC[0]) & (error >= levelsC[1])]), T_test[(error < levelsC[0]) & (error >= levelsC[1])], color='red', label=levelsT[1])\n",
    "ax.scatter(eps_test[(error < levelsC[1]) & (error >= levelsC[2])], np.exp(epsp_test[(error < levelsC[1]) & (error >= levelsC[2])]), T_test[(error < levelsC[1]) & (error >= levelsC[2])], color='orange', label=levelsT[2])\n",
    "ax.scatter(eps_test[(error < levelsC[2]) & (error >= levelsC[3])], np.exp(epsp_test[(error < levelsC[2]) & (error >= levelsC[3])]), T_test[(error < levelsC[2]) & (error >= levelsC[3])], color='yellow', label=levelsT[3])\n",
    "ax.scatter(eps_test[error < levelsC[3]], np.exp(epsp_test[error < levelsC[3]]), T_test[error < levelsC[3]], color='green', label=levelsT[4])\n",
    "plt.legend(loc = 'lower right',fancybox = True, numpoints = 1, fontsize = 14)\n",
    "ax.set_xlabel(r'$Plastic\\ strain\\ \\varepsilon^{p}$', fontsize = 16)\n",
    "ax.set_ylabel(r'$Plastic\\ strain\\ rate\\ \\dot{\\varepsilon^{p}}$', fontsize = 16)\n",
    "ax.set_zlabel(r'$Temperature\\ T^{\\circ}C$', fontsize = 16)\n",
    "plt.title(r'$Map\\ of\\ errors\\ \\partial\\sigma/\\partial T(\\varepsilon^{p},\\dot\\varepsilon^{p},T)$', fontsize = 20)\n",
    "plt.savefig(ANN_name + 'Map-derivative-T-3D.svg')\n",
    "plt.show()"
   ]
  },
  {
   "cell_type": "code",
   "execution_count": null,
   "id": "stable-truth",
   "metadata": {},
   "outputs": [],
   "source": [
    "TotalFrames = len(glob.glob(dataPath + '/' + ANN_name + '/ANN-*.npz'))\n",
    "framesWide = 1000\n",
    "emax = np.array([])\n",
    "emin = np.array([])\n",
    "emean = np.array([])\n",
    "epmax = np.array([])\n",
    "epmin = np.array([])\n",
    "epmean = np.array([])\n",
    "tmax = np.array([])\n",
    "tmin = np.array([])\n",
    "tmean = np.array([])\n",
    "smax = np.array([])\n",
    "smin = np.array([])\n",
    "smean = np.array([])\n",
    "for i in range(TotalFrames):\n",
    "    nm = dataPath + '/' + ANN_name + '/ANN-' + str(i) + '.npz'\n",
    "    NN = np.load(nm)\n",
    "    w1 = NN['w1']\n",
    "    w2 = NN['w2']\n",
    "    w3 = NN['w3']\n",
    "    b1 = NN['b1']\n",
    "    b2 = NN['b2']\n",
    "    b3 = NN['b3']\n",
    "    minEntries = NN['minEntries']\n",
    "    maxEntries = NN['maxEntries']\n",
    "    rangeEntries = maxEntries - minEntries\n",
    "    logBase = NN['logBase']\n",
    "    if ('tanh' in ANN_name) : sp = tanhPrime2Layers(inputTest.T)\n",
    "    elif ('sigmoid' in ANN_name) : sp = sigmoidPrime2Layers(inputTest.T)\n",
    "    else : sp = 0\n",
    "    ss = sp*scaleOut\n",
    "    error = np.abs((ss[0,:] - testData[:,4]) / testData[:,4])\n",
    "    emax=np.append(emax,error.max())\n",
    "    emin=np.append(emin,error.min())\n",
    "    emean=np.append(emean,error.mean())    \n",
    "    error = np.abs((ss[1]/testData[:,1] - testData[:,5]) / testData[:,5])\n",
    "    epmax=np.append(epmax,error.max())\n",
    "    epmin=np.append(epmin,error.min())\n",
    "    epmean=np.append(epmean,error.mean())    \n",
    "    error = np.abs((ss[2] - testData[:,6]) / testData[:,6])\n",
    "    tmax=np.append(tmax,error.max())\n",
    "    tmin=np.append(tmin,error.min())\n",
    "    tmean=np.append(tmean,error.mean())\n",
    "    if ('tanh' in ANN_name) : sp = tanh2Layers(inputTest.T)\n",
    "    elif ('sigmoid' in ANN_name) : sp = sigmoid2Layers(inputTest.T)\n",
    "    else : sp = 0\n",
    "    error = np.abs((sp[0,:] - testData[:,3]) / testData[:,3])\n",
    "    smax=np.append(smax,error.max())\n",
    "    smin=np.append(smin,error.min())\n",
    "    smean=np.append(smean,error.mean())   "
   ]
  },
  {
   "cell_type": "code",
   "execution_count": null,
   "id": "structural-overall",
   "metadata": {},
   "outputs": [],
   "source": [
    "plt.figure(figsize = (12, 9))\n",
    "plt.rc('text', usetex = True)\n",
    "xx = np.linspace(1,TotalFrames*framesWide,TotalFrames)\n",
    "plt.plot(xx,100*smax, label = r\"$\\sigma$\",  linewidth = 3)\n",
    "plt.plot(xx,100*emax, label = r\"$\\partial\\sigma/\\partial\\varepsilon^p$\",  linewidth = 3)\n",
    "plt.plot(xx,100*epmax, label = r\"$\\partial\\sigma/\\partial\\dot{\\varepsilon^p}$\",  linewidth = 3)\n",
    "plt.plot(xx,100*tmax, label = r\"$\\partial\\sigma/\\partial T$\",  linewidth = 3)\n",
    "plt.grid()\n",
    "plt.ylim(0, 10)\n",
    "plt.xlabel(r'$Iteration$', fontsize = 16)\n",
    "plt.ylabel(r'$Average\\ absolute\\ relative\\ error\\ $AARE$(\\%)$', fontsize = 16)\n",
    "plt.title(r'$Maximum\\ error\\ of\\ the\\ Neural\\ Network\\ on\\ partial\\ derivatives$', fontsize = 16)\n",
    "plt.legend(loc = 'upper right',fancybox = True, numpoints = 1, fontsize = 14)\n",
    "plt.savefig(ANN_name + 'max-error.svg')\n",
    "plt.show()"
   ]
  },
  {
   "cell_type": "code",
   "execution_count": null,
   "id": "abroad-knitting",
   "metadata": {
    "scrolled": false
   },
   "outputs": [],
   "source": [
    "plt.figure(figsize = (12, 9))\n",
    "plt.rc('text', usetex = True)\n",
    "xx = np.linspace(1,TotalFrames*framesWide,TotalFrames)\n",
    "plt.plot(xx,100*smean, label = r\"$\\sigma$\",  linewidth = 3)\n",
    "plt.plot(xx,100*emean, label = r\"$\\partial\\sigma/\\partial\\varepsilon^p$\",  linewidth = 3)\n",
    "plt.plot(xx,100*epmean, label = r\"$\\partial\\sigma/\\partial\\dot{\\varepsilon^p}$\",  linewidth = 3)\n",
    "plt.plot(xx,100*tmean, label = r\"$\\partial\\sigma/\\partial T$\",  linewidth = 3)\n",
    "plt.grid()\n",
    "plt.ylim(0, 5)\n",
    "plt.xlabel(r'$Iteration$', fontsize = 16)\n",
    "plt.ylabel(r'$Average\\ absolute\\ relative\\ error\\ $AARE$(\\%)$', fontsize = 16)\n",
    "plt.title(r'$Mean\\ error\\ of\\ the\\ Neural\\ Network\\ on\\ partial\\ derivatives$', fontsize = 16)\n",
    "plt.legend(loc = 'upper right',fancybox = True, numpoints = 1, fontsize = 14)\n",
    "plt.savefig(ANN_name + 'mean-error.svg')\n",
    "plt.show()"
   ]
  },
  {
   "cell_type": "code",
   "execution_count": null,
   "id": "handy-restoration",
   "metadata": {},
   "outputs": [],
   "source": [
    "file_object = open('compare.txt', 'a')\n",
    "file_object.write(ANN_name+'\\n')\n",
    "file_object.write('smean: %5.3f \\n' %(100*np.mean(smean[-6:-1])))\n",
    "file_object.write('emean: %5.3f \\n' %(100*np.mean(emean[-6:-1])))\n",
    "file_object.write('epmean: %5.3f \\n' %(100*np.mean(epmean[-6:-1])))\n",
    "file_object.write('tmean: %5.3f \\n' %(100*np.mean(tmean[-6:-1])))\n",
    "file_object.write('smax: %5.3f \\n' %(100*np.mean(smax[-6:-1])))\n",
    "file_object.write('emax: %5.3f \\n' %(100*np.mean(emax[-6:-1])))\n",
    "file_object.write('epmax: %5.3f \\n' %(100*np.mean(epmax[-6:-1])))\n",
    "file_object.write('tmax: %5.3f \\n' %(100*np.mean(tmax[-6:-1])))\n",
    "file_object.close()"
   ]
  },
  {
   "cell_type": "code",
   "execution_count": null,
   "id": "dressed-oregon",
   "metadata": {},
   "outputs": [],
   "source": [
    "file_object = open('compare.csv', 'a')\n",
    "file_object.write(ANN_name+';')\n",
    "file_object.write('%5.3f;' %(100*np.mean(smean[-6:-1])))\n",
    "file_object.write('%5.3f;' %(100*np.mean(emean[-6:-1])))\n",
    "file_object.write('%5.3f;' %(100*np.mean(epmean[-6:-1])))\n",
    "file_object.write('%5.3f;' %(100*np.mean(tmean[-6:-1])))\n",
    "file_object.write('%5.3f;' %(100*np.mean(smax[-6:-1])))\n",
    "file_object.write('%5.3f;' %(100*np.mean(emax[-6:-1])))\n",
    "file_object.write('%5.3f;' %(100*np.mean(epmax[-6:-1])))\n",
    "file_object.write('%5.3f\\n' %(100*np.mean(tmax[-6:-1])))\n",
    "file_object.close()"
   ]
  }
 ],
 "metadata": {
  "kernelspec": {
   "display_name": "Python 3",
   "language": "python",
   "name": "python3"
  },
  "language_info": {
   "codemirror_mode": {
    "name": "ipython",
    "version": 3
   },
   "file_extension": ".py",
   "mimetype": "text/x-python",
   "name": "python",
   "nbconvert_exporter": "python",
   "pygments_lexer": "ipython3",
   "version": "3.8.8"
  },
  "toc": {
   "base_numbering": 1,
   "nav_menu": {},
   "number_sections": false,
   "sideBar": true,
   "skip_h1_title": false,
   "title_cell": "Table of Contents",
   "title_sidebar": "Contents",
   "toc_cell": false,
   "toc_position": {
    "height": "calc(100% - 180px)",
    "left": "10px",
    "top": "150px",
    "width": "362.188px"
   },
   "toc_section_display": true,
   "toc_window_display": true
  },
  "varInspector": {
   "cols": {
    "lenName": 16,
    "lenType": 16,
    "lenVar": 40
   },
   "kernels_config": {
    "python": {
     "delete_cmd_postfix": "",
     "delete_cmd_prefix": "del ",
     "library": "var_list.py",
     "varRefreshCmd": "print(var_dic_list())"
    },
    "r": {
     "delete_cmd_postfix": ") ",
     "delete_cmd_prefix": "rm(",
     "library": "var_list.r",
     "varRefreshCmd": "cat(var_dic_list()) "
    }
   },
   "types_to_exclude": [
    "module",
    "function",
    "builtin_function_or_method",
    "instance",
    "_Feature"
   ],
   "window_display": false
  }
 },
 "nbformat": 4,
 "nbformat_minor": 5
}
