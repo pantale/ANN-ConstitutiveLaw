{
 "cells": [
  {
   "cell_type": "markdown",
   "id": "intellectual-romance",
   "metadata": {},
   "source": [
    "# Use of a Neural-Network for Constitutive Law"
   ]
  },
  {
   "cell_type": "markdown",
   "id": "vanilla-jimmy",
   "metadata": {},
   "source": [
    "Import all the useful libraries before first run\n",
    "We need here the classic ones such as:\n",
    "- math\n",
    "- numpy\n",
    "- pandas\n",
    "- matplotlib\n",
    "\n",
    "And for the Neural Network, we also need to import parts of the keras module of TensorFlow"
   ]
  },
  {
   "cell_type": "code",
   "execution_count": 1,
   "id": "quality-batman",
   "metadata": {
    "ExecuteTime": {
     "end_time": "2021-04-08T12:31:14.689430Z",
     "start_time": "2021-04-08T12:31:13.889632Z"
    }
   },
   "outputs": [],
   "source": [
    "import glob\n",
    "import math\n",
    "import numpy as np\n",
    "import pandas as pd\n",
    "import matplotlib.pyplot as plt\n",
    "from math import exp,log"
   ]
  },
  {
   "cell_type": "markdown",
   "id": "refined-phone",
   "metadata": {},
   "source": [
    "## Load the test database"
   ]
  },
  {
   "cell_type": "markdown",
   "id": "wrapped-knight",
   "metadata": {},
   "source": [
    "Read the Test database"
   ]
  },
  {
   "cell_type": "code",
   "execution_count": 2,
   "id": "mighty-influence",
   "metadata": {
    "ExecuteTime": {
     "end_time": "2021-04-08T12:31:14.700242Z",
     "start_time": "2021-04-08T12:31:14.693146Z"
    }
   },
   "outputs": [],
   "source": [
    "dataPath = '.'\n",
    "read = np.load(dataPath + '/DatatestWithDerivatives.npz')\n",
    "testData = read['testData']\n",
    "nrows = testData.shape[0]"
   ]
  },
  {
   "cell_type": "code",
   "execution_count": 3,
   "id": "another-equivalent",
   "metadata": {
    "ExecuteTime": {
     "end_time": "2021-04-08T12:31:14.718826Z",
     "start_time": "2021-04-08T12:31:14.703398Z"
    }
   },
   "outputs": [],
   "source": [
    "eps_test = testData[:,0].reshape(nrows,1)\n",
    "epsp_test = testData[:,1].reshape(nrows,1)\n",
    "T_test = testData[:,2].reshape(nrows,1)\n",
    "sig_test = testData[:,3].reshape(nrows,1)"
   ]
  },
  {
   "cell_type": "markdown",
   "id": "charged-gross",
   "metadata": {},
   "source": [
    " ## Load the NN parameters"
   ]
  },
  {
   "cell_type": "code",
   "execution_count": 4,
   "id": "widespread-wichita",
   "metadata": {
    "ExecuteTime": {
     "end_time": "2021-04-08T12:31:14.757581Z",
     "start_time": "2021-04-08T12:31:14.722972Z"
    },
    "scrolled": false
   },
   "outputs": [
    {
     "name": "stdout",
     "output_type": "stream",
     "text": [
      "['logBase', 'minEntries', 'maxEntries', 'w1', 'b1', 'w2', 'b2', 'w3', 'b3']\n"
     ]
    },
    {
     "data": {
      "text/plain": [
       "(array([[-1.71193019e-01, -4.98235881e-01,  1.57230926e+00],\n",
       "        [-1.82183892e-01, -2.79642552e-01,  1.38154745e+00],\n",
       "        [-1.21008851e-01, -9.36221778e-02, -1.28485608e+00],\n",
       "        [ 6.77952528e-01,  7.85129726e-01, -3.60040736e+00],\n",
       "        [-8.22493362e+00,  1.02857426e-01, -1.17000186e+00],\n",
       "        [-2.62212038e-01, -3.70604903e-01,  1.53059375e+00],\n",
       "        [ 3.63313168e-01,  3.07944298e-01, -1.73980820e+00],\n",
       "        [-1.71282619e-01, -9.36020970e-01, -7.00896144e-01],\n",
       "        [-2.93405890e+00,  2.49693431e-02, -8.18501532e-01],\n",
       "        [-2.98778355e-01, -5.17931700e-01, -7.58085251e+00],\n",
       "        [ 1.17702794e+00, -3.08994055e-01, -1.68417966e+00],\n",
       "        [-2.31339216e-01, -2.90423155e-01,  1.50245142e+00],\n",
       "        [ 2.35784103e+02, -9.92930010e-02,  7.60096788e-01],\n",
       "        [-2.33444443e+01,  1.64729804e-01, -9.49119210e-01],\n",
       "        [ 3.29279006e-01,  5.42672016e-02, -1.55521262e+00]], dtype=float32),\n",
       " array([[-0.5497108 ],\n",
       "        [-1.0076679 ],\n",
       "        [ 1.146429  ],\n",
       "        [-1.0565801 ],\n",
       "        [-0.8343578 ],\n",
       "        [-0.5579931 ],\n",
       "        [-0.515265  ],\n",
       "        [-0.52511525],\n",
       "        [ 0.16425566],\n",
       "        [-1.8643126 ],\n",
       "        [-0.85944176],\n",
       "        [-1.1983486 ],\n",
       "        [ 0.8195926 ],\n",
       "        [-0.50046235],\n",
       "        [-0.58082974]], dtype=float32),\n",
       " array([[ 7.5575867e-04,  3.4887978e-01, -1.6222949e+00, -1.7441266e+00,\n",
       "          1.1896034e+00,  7.7343774e-01, -1.0779928e+00,  1.9596654e-01,\n",
       "          3.7145931e-01, -2.1758666e+00,  2.6741591e-01,  1.1742376e-01,\n",
       "         -1.8373966e+00, -1.6312848e+00, -9.1531247e-01],\n",
       "        [-1.5207362e+00, -5.9875041e-01, -5.6792897e-01,  7.3398745e-01,\n",
       "         -1.9568163e+00, -9.9054205e-01, -2.4108287e-02, -9.2186207e-01,\n",
       "         -1.5858020e+00, -3.5938954e-01, -5.6845796e-01, -4.6205533e-01,\n",
       "          9.3737197e-01,  7.1329349e-01, -2.7031395e-01],\n",
       "        [-2.6396149e-01,  3.4066364e-01, -1.0868982e+00, -1.9029006e-01,\n",
       "          1.5269421e+00,  1.3407497e-01, -4.5862868e-01, -2.1014163e-01,\n",
       "          6.9063985e-01, -5.5928946e-01, -5.6183064e-01,  1.0643189e-02,\n",
       "         -2.7791412e+00,  2.2039006e+00, -8.7418276e-01],\n",
       "        [-1.6671456e+00, -1.2612725e+00, -1.5686920e+00, -1.3008655e+00,\n",
       "         -9.6572256e-01, -1.0763234e+00, -3.9994925e-01, -2.9762471e+00,\n",
       "         -3.9801140e+00, -1.2125764e+00, -4.7813287e-01, -1.4475416e+00,\n",
       "         -2.8728819e-01, -8.4712923e-01, -8.9950746e-01],\n",
       "        [-4.2128038e-01, -5.6432992e-01,  1.0096041e+00,  3.3540881e-01,\n",
       "         -5.1578170e-01, -1.8988983e-01,  5.6168544e-01, -2.7459079e-01,\n",
       "         -6.4058948e-01, -4.5483127e-01,  1.8522179e-01, -1.2040365e+00,\n",
       "          2.7159615e+00, -2.4153664e+00,  5.0827748e-01],\n",
       "        [-1.8799161e+00, -1.5221658e+00, -4.6875900e-01,  1.4179943e+00,\n",
       "          3.7001091e-01, -2.7184730e+00,  4.6996176e-01, -2.3142791e+00,\n",
       "         -6.8248051e-01, -1.6163871e+00,  2.0272562e-01, -1.4510316e+00,\n",
       "          9.9444561e-02, -1.2936606e+00,  2.0372213e-01],\n",
       "        [-5.8974969e-01, -5.7138050e-01,  1.2054038e-01,  7.6365846e-01,\n",
       "         -1.6087818e+00, -9.1399002e-01,  7.1907687e-01, -1.2067794e+00,\n",
       "         -7.4795055e-01, -6.8977684e-01, -1.2323420e-03, -5.9284639e-01,\n",
       "          1.3819001e+00,  3.2714120e-01,  1.2508176e-01]], dtype=float32),\n",
       " array([[-0.22045061],\n",
       "        [-0.5808742 ],\n",
       "        [-0.32730776],\n",
       "        [-0.9651915 ],\n",
       "        [ 0.00153776],\n",
       "        [-0.99164325],\n",
       "        [-0.17951013]], dtype=float32),\n",
       " array([[-1.1471751 ,  0.39645308, -1.7317302 ,  0.3414903 ,  0.9171404 ,\n",
       "          0.41672006,  0.46903265]], dtype=float32),\n",
       " array([[-0.3997389]], dtype=float32),\n",
       " array([  0.        ,   0.        ,  20.        , 579.18464292]),\n",
       " array([1.00000000e+00, 1.08197783e+01, 5.00000000e+02, 1.55674036e+03]),\n",
       " array([  1.        ,  10.81977828, 480.        , 977.55571504]),\n",
       " array([1]))"
      ]
     },
     "execution_count": 4,
     "metadata": {},
     "output_type": "execute_result"
    }
   ],
   "source": [
    "ANN_name = '3-15-7-1-sigmoid'\n",
    "\n",
    "NN = np.load(dataPath + '/' + ANN_name + '.npz')\n",
    "print (NN.files)\n",
    "w1 = NN['w1']\n",
    "w2 = NN['w2']\n",
    "w3 = NN['w3']\n",
    "b1 = NN['b1']\n",
    "b2 = NN['b2']\n",
    "b3 = NN['b3']\n",
    "minEntries = NN['minEntries']\n",
    "maxEntries = NN['maxEntries']\n",
    "rangeEntries = maxEntries - minEntries\n",
    "logBase = NN['logBase']\n",
    "w1, b1, w2, b2, w3, b3, minEntries, maxEntries, rangeEntries, logBase"
   ]
  },
  {
   "cell_type": "markdown",
   "id": "sensitive-crossing",
   "metadata": {},
   "source": [
    "## Reshape data"
   ]
  },
  {
   "cell_type": "code",
   "execution_count": 5,
   "id": "greatest-ocean",
   "metadata": {
    "ExecuteTime": {
     "end_time": "2021-04-08T12:31:14.771938Z",
     "start_time": "2021-04-08T12:31:14.761339Z"
    }
   },
   "outputs": [
    {
     "data": {
      "text/plain": [
       "array([[0.64999785, 0.90552119, 0.65628871],\n",
       "       [0.77199114, 0.8999689 , 0.45541125],\n",
       "       [0.64433951, 0.99445344, 0.11009941],\n",
       "       ...,\n",
       "       [0.75192854, 0.99520977, 0.75841439],\n",
       "       [0.74276917, 0.88747863, 0.12681504],\n",
       "       [0.68998248, 0.88707664, 0.5388862 ]])"
      ]
     },
     "execution_count": 5,
     "metadata": {},
     "output_type": "execute_result"
    }
   ],
   "source": [
    "epsp_test = np.log(epsp_test / logBase)\n",
    "inputTest = (np.hstack([eps_test, epsp_test, T_test]) - np.array(minEntries)[0:3]) / np.array(rangeEntries)[0:3]\n",
    "inputTest"
   ]
  },
  {
   "cell_type": "markdown",
   "id": "fiscal-equilibrium",
   "metadata": {},
   "source": [
    "Computes the target"
   ]
  },
  {
   "cell_type": "code",
   "execution_count": 6,
   "id": "white-gilbert",
   "metadata": {
    "ExecuteTime": {
     "end_time": "2021-04-08T12:31:14.779048Z",
     "start_time": "2021-04-08T12:31:14.774207Z"
    }
   },
   "outputs": [],
   "source": [
    "def tanh2Layers(inputData):\n",
    "    l1 = w1.dot(inputData) + b1\n",
    "    f1 = np.tanh(l1)\n",
    "    l2 = w2.dot(f1) + b2\n",
    "    f2 = np.tanh(l2)\n",
    "    sigP = w3.dot(f2) + b3\n",
    "    SigmaNN = sigP * rangeEntries[3] + minEntries[3]\n",
    "    return SigmaNN"
   ]
  },
  {
   "cell_type": "code",
   "execution_count": 7,
   "id": "mobile-notice",
   "metadata": {
    "ExecuteTime": {
     "end_time": "2021-04-08T12:31:14.797003Z",
     "start_time": "2021-04-08T12:31:14.781414Z"
    }
   },
   "outputs": [],
   "source": [
    "def sigmoid2Layers(inputData):\n",
    "    l1 = w1.dot(inputData) + b1\n",
    "    f1 = 1/(1 + np.exp(-l1))\n",
    "    l2 = w2.dot(f1) + b2\n",
    "    f2 = 1/( 1 +np.exp(-l2))\n",
    "    sigP = w3.dot(f2) + b3\n",
    "    SigmaNN = sigP * rangeEntries[3] + minEntries[3]\n",
    "    return SigmaNN"
   ]
  },
  {
   "cell_type": "markdown",
   "id": "floppy-turkish",
   "metadata": {},
   "source": [
    "Setup data"
   ]
  },
  {
   "cell_type": "code",
   "execution_count": 8,
   "id": "democratic-delivery",
   "metadata": {
    "ExecuteTime": {
     "end_time": "2021-04-08T12:31:14.808767Z",
     "start_time": "2021-04-08T12:31:14.805443Z"
    }
   },
   "outputs": [],
   "source": [
    "inp = inputTest.T\n",
    "sig = sig_test\n",
    "#inp, sig"
   ]
  },
  {
   "cell_type": "markdown",
   "id": "exotic-carol",
   "metadata": {},
   "source": [
    "Rebuild the real $\\sigma$"
   ]
  },
  {
   "cell_type": "code",
   "execution_count": 9,
   "id": "chinese-detection",
   "metadata": {
    "ExecuteTime": {
     "end_time": "2021-04-08T12:31:14.862749Z",
     "start_time": "2021-04-08T12:31:14.816697Z"
    }
   },
   "outputs": [
    {
     "data": {
      "text/plain": [
       "array([[1232.2282292 , 1335.3603057 , 1470.46979899, ..., 1208.21439896,\n",
       "        1465.07933384, 1287.15287545]])"
      ]
     },
     "execution_count": 9,
     "metadata": {},
     "output_type": "execute_result"
    }
   ],
   "source": [
    "if ('tanh' in ANN_name) : SigmaNN = tanh2Layers(inp)\n",
    "elif ('sigmoid' in ANN_name) : SigmaNN = sigmoid2Layers(inp)\n",
    "else : SigmaNN = 0\n",
    "SigmaNN"
   ]
  },
  {
   "cell_type": "code",
   "execution_count": 10,
   "id": "considered-devil",
   "metadata": {
    "ExecuteTime": {
     "end_time": "2021-04-08T12:31:14.910645Z",
     "start_time": "2021-04-08T12:31:14.874423Z"
    }
   },
   "outputs": [
    {
     "data": {
      "text/plain": [
       "((15, 3), (3, 5000), (15, 1))"
      ]
     },
     "execution_count": 10,
     "metadata": {},
     "output_type": "execute_result"
    }
   ],
   "source": [
    "w1.shape, inp.shape, b1.shape"
   ]
  },
  {
   "cell_type": "code",
   "execution_count": 12,
   "id": "physical-detail",
   "metadata": {
    "ExecuteTime": {
     "end_time": "2021-04-08T12:31:14.974633Z",
     "start_time": "2021-04-08T12:31:14.952210Z"
    }
   },
   "outputs": [],
   "source": [
    "var = \"%.12f\"\n",
    "comment = 'C '\n",
    "cline = 'C **********************************************************************\\n'\n",
    "block =   '      '\n",
    "\n",
    "def splitFortranLine(line):\n",
    "    line=line.replace('| +',' +\\n     + ')\n",
    "    line=line.replace('| -',' -\\n     + ')\n",
    "    return line\n",
    "\n",
    "def toFortran(line):\n",
    "    line = line.replace(\"--\", \"+\")\n",
    "    line = line.replace(\"+-\", \"-\")\n",
    "    line = line.replace(\"(+\", \"(\")\n",
    "    line = line.replace('+',' + ')\n",
    "    line = line.replace('-',' - ')\n",
    "    line = line.replace('=  - ','=-')\n",
    "    line = line.replace('( - ','(-')\n",
    "    line = line.replace('  +  ',' + ')\n",
    "    line = line.replace('.000000000000','.0')\n",
    "    line = block + line + '\\n'\n",
    "    line = splitFortranLine(line)\n",
    "    return line\n"
   ]
  },
  {
   "cell_type": "code",
   "execution_count": 86,
   "id": "injured-turner",
   "metadata": {
    "ExecuteTime": {
     "end_time": "2021-04-08T14:03:31.911670Z",
     "start_time": "2021-04-08T14:03:31.825794Z"
    }
   },
   "outputs": [],
   "source": [
    "code = ''\n",
    "code += cline\n",
    "code += comment + 'Function to compute the ANN : ' + ANN_name + ' yield stress\\n'\n",
    "code += cline\n",
    "\n",
    "code += '      subroutine vuhard (\\n'\n",
    "code += 'C Read only -\\n'\n",
    "code += '     1     nblock,\\n'\n",
    "code += '     2     nElement, nIntPt, nLayer, nSecPt,\\n'\n",
    "code += '     3     lAnneal, stepTime, totalTime, dt, cmname,\\n'\n",
    "code += '     4     nstatev, nfieldv, nprops,\\n'\n",
    "code += '     5     props, tempOld, tempNew, fieldOld, fieldNew,\\n'\n",
    "code += '     6     stateOld,\\n'\n",
    "code += '     7     eqps, eqpsRate,\\n'\n",
    "code += 'C Write only -\\n'\n",
    "code += '     8     yield, dyieldDtemp, dyieldDeqps,\\n'\n",
    "code += '     9     stateNew )\\n'\n",
    "code += 'C\\n'\n",
    "code += \"      include 'vaba_param.inc'\\n\"\n",
    "code += 'C\\n'\n",
    "code += '      dimension nElement(nblock),\\n'\n",
    "code += '     1     props(nprops),\\n'\n",
    "code += '     2     tempOld(nblock),\\n'\n",
    "code += '     3     fieldOld(nblock,nfieldv),\\n'\n",
    "code += '     4     stateOld(nblock,nstatev),\\n'\n",
    "code += '     5     tempNew(nblock),\\n'\n",
    "code += '     6     fieldNew(nblock,nfieldv),\\n'\n",
    "code += '     7     eqps(nblock),\\n'\n",
    "code += '     8     eqpsRate(nblock),\\n'\n",
    "code += '     9     yield(nblock),\\n'\n",
    "code += '     1     dyieldDtemp(nblock),\\n'\n",
    "code += '     2     dyieldDeqps(nblock,2),\\n'\n",
    "code += '     3     stateNew(nblock,nstatev)\\n'\n",
    "code += 'C\\n'\n",
    "code += '      character*80 cmname\\n'\n",
    "code += 'C\\n'\n",
    "code += '      do k = 1, nblock\\n'\n",
    "\n",
    "code += comment + 'xepsp = (eqps(k) - minEntries[0]) / rangeEntries[0]\\n'\n",
    "line = 'xepsp = (eqps(k)-' + var%(minEntries[0]) + ')/' + var%(rangeEntries[0])\n",
    "code += toFortran(line)\n",
    "\n",
    "code += comment + 'xdepsp = (log(depsp/logBase) - minEntries[1]) / rangeEntries[1]\\n'\n",
    "line = 'xdepsp = (log(eqpsRate(k)/' + var%(logBase[0]) + ')-' + var%(minEntries[1]) + ')/' + var%(rangeEntries[1])\n",
    "code += toFortran(line)\n",
    "\n",
    "code += comment + 'xtemp = (temp - minEntries[2]) / rangeEntries[2]\\n'\n",
    "line = 'xtemp = (tempNew(k)-' + var%(minEntries[2])+')/' + var%(rangeEntries[2])\n",
    "code += toFortran(line)\n",
    "\n",
    "code += comment + 'xa = np.exp(-w1.dot(x) - b1)\\n'\n",
    "for i in range(b1.shape[0]):\n",
    "    line = 'xa' + str(i) + \" = exp(-\" + var%(w1[i,0]) + '*xepsp-' + var%(w1[i,1]) + '*xdepsp|-' + var%(w1[i,2]) + '*xtemp-' + var%(b1[i,0]) + ')'\n",
    "    code += toFortran(line)\n",
    "\n",
    "code += comment + 'xb = 1 + xa\\n'\n",
    "for i in range(b1.shape[0]):\n",
    "    line = 'xb' + str(i) + \" = 1.0 + xa\"+str(i)\n",
    "    code += toFortran(line)\n",
    "    \n",
    "code += comment + 'xc = w2.dot(xb) + b2\\n'\n",
    "for i in range(b2.shape[0]):\n",
    "    line = 'xc' + str(i) + ' = '\n",
    "    for j in range(w2.shape[1]):\n",
    "        if (j!=0): line += '|+'\n",
    "        line += var%(w2[i,j]) + '/xb' + str(j)\n",
    "    line += \"|+\" + var%(b2[i,0])\n",
    "    code += toFortran(line)\n",
    "    \n",
    "code += comment + 'xd = exp(-xc)\\n'\n",
    "for i in range(b2.shape[0]):\n",
    "    line = 'xd'+str(i) + ' = exp(-xc' + str(i) + ')'\n",
    "    code += toFortran(line)\n",
    "    \n",
    "code += comment + 'xsig = w3.dot(xd) + b3\\n'\n",
    "line = 'xsig = '\n",
    "for j in range(w3.shape[1]):\n",
    "    if (j!=0): line += '|+'\n",
    "    line += var%(w3[0,j]) + '/(1.0 + xd'+str(j)+')'\n",
    "line+=\"|+\" + var%(b3[0,0])\n",
    "code += toFortran(line)\n",
    "    \n",
    "code += comment + 'ya = w3v*(xd / (1 + xd)**2)\\n'\n",
    "for i in range(b2.shape[0]):\n",
    "    line = 'ya' + str(i) + ' = ' + var%(w3[0,i]) + '*(xd'+str(i) + '/(1.0+xd' + str(i) + ')**2)'\n",
    "    code += toFortran(line)\n",
    "\n",
    "code += comment + 'yb = xa / (1 + xa)**2\\n'\n",
    "for i in range(b1.shape[0]):\n",
    "    line = 'yb' + str(i) + ' = xa'+str(i) + ' / xb'+str(i) + '**2'\n",
    "    code += toFortran(line)\n",
    "\n",
    "code += comment + 'yc = (w2.T).dot(ya) * xd\\n'\n",
    "for i in range(b1.shape[0]):\n",
    "    line = 'yc' + str(i) + ' = ('\n",
    "    for j in range(b2.shape[0]):\n",
    "        if(j>0): line += '|+'\n",
    "        line += var%(w2[j,i]) + '*ya' + str(j)\n",
    "    line += ')*yb' + str(i)\n",
    "    code += toFortran(line)\n",
    "    \n",
    "code += comment + 'yd = (w1.T).dot(yc)\\n'\n",
    "for i in range(w1.shape[1]):\n",
    "    line = 'yd' + str(i) + ' = '\n",
    "    for j in range(w1.shape[0]):\n",
    "        if (j>0): line += '|+'\n",
    "        line += var%(w1[j,i]) + '*yc' + str(j)\n",
    "    code += toFortran(line)\n",
    "\n",
    "line = 'Yield(k) = ' + var%(rangeEntries[3]) + '*xsig+' + var%(minEntries[3])\n",
    "code += toFortran(line)\n",
    "\n",
    "line = 'dyieldDeqps(k,1) = ' + var%(rangeEntries[3]/rangeEntries[0]) + '*yd0'\n",
    "code += toFortran(line)\n",
    "line = 'dyieldDeqps(k,2) = ' + var%(rangeEntries[3]/rangeEntries[1]) + '*yd1 / eqpsRate(k)'\n",
    "code += toFortran(line)\n",
    "line = 'dyieldDtemp(k) = ' + var%(rangeEntries[3]/rangeEntries[2]) + '*yd2'\n",
    "code += toFortran(line)\n",
    "\n",
    "code += '      end do\\n'\n",
    "code += 'C\\n'\n",
    "code += '      return\\n'\n",
    "code += '      end\\n'"
   ]
  },
  {
   "cell_type": "code",
   "execution_count": 88,
   "id": "communist-scholar",
   "metadata": {
    "ExecuteTime": {
     "end_time": "2021-04-08T14:04:53.244154Z",
     "start_time": "2021-04-08T14:04:53.233485Z"
    }
   },
   "outputs": [],
   "source": [
    "text_file = open(\"VUHARD-ANN.f\", \"w\")\n",
    "text_file.write(code)\n",
    "text_file.close()"
   ]
  },
  {
   "cell_type": "code",
   "execution_count": 15,
   "id": "editorial-investigator",
   "metadata": {
    "ExecuteTime": {
     "end_time": "2021-04-08T12:31:15.074530Z",
     "start_time": "2021-04-08T12:31:15.059415Z"
    }
   },
   "outputs": [
    {
     "data": {
      "text/plain": [
       "array([ 6.49997854e-01,  1.79894090e+04,  3.35018578e+02,  1.23210657e+03,\n",
       "        1.32070915e+02,  5.60676950e-04, -9.25727265e-01])"
      ]
     },
     "execution_count": 15,
     "metadata": {},
     "output_type": "execute_result"
    }
   ],
   "source": [
    "testData[0,:]\n"
   ]
  },
  {
   "cell_type": "code",
   "execution_count": 16,
   "id": "minor-adult",
   "metadata": {
    "ExecuteTime": {
     "end_time": "2021-04-08T12:31:15.098317Z",
     "start_time": "2021-04-08T12:31:15.085515Z"
    }
   },
   "outputs": [
    {
     "data": {
      "text/plain": [
       "(0.6499978537536213, 17989.408960982073, 335.01857843791004)"
      ]
     },
     "execution_count": 16,
     "metadata": {},
     "output_type": "execute_result"
    }
   ],
   "source": [
    "testData[0]\n",
    "epsp = testData[0,0]\n",
    "depsp = testData[0,1]\n",
    "temp = testData[0,2]\n",
    "epsp,depsp,temp"
   ]
  },
  {
   "cell_type": "code",
   "execution_count": 18,
   "id": "expanded-brake",
   "metadata": {
    "ExecuteTime": {
     "end_time": "2021-04-08T12:31:15.150573Z",
     "start_time": "2021-04-08T12:31:15.143198Z"
    }
   },
   "outputs": [
    {
     "data": {
      "text/plain": [
       "(1232.228229196241, 1232.1065669321008)"
      ]
     },
     "execution_count": 18,
     "metadata": {},
     "output_type": "execute_result"
    }
   ],
   "source": [
    "yieldStress, testData[0,3]"
   ]
  },
  {
   "cell_type": "markdown",
   "id": "atlantic-director",
   "metadata": {},
   "source": [
    "## Dérivation directe"
   ]
  },
  {
   "cell_type": "code",
   "execution_count": 19,
   "id": "damaged-content",
   "metadata": {
    "ExecuteTime": {
     "end_time": "2021-04-08T12:31:15.162678Z",
     "start_time": "2021-04-08T12:31:15.154604Z"
    }
   },
   "outputs": [],
   "source": [
    "def tanhPrime2Layers(x):\n",
    "    w3v = w3.reshape(w3.shape[1],1)\n",
    "    tanhx = np.tanh(w1.dot(x) + b1)\n",
    "    p2 = w3v * (1 - np.tanh(w2.dot(tanhx) + b2)**2)\n",
    "    p3 = (w2.T).dot(p2)\n",
    "    p5 = p3 * (1 - tanhx**2)\n",
    "    s = (w1.T).dot(p5)\n",
    "    return s"
   ]
  },
  {
   "cell_type": "code",
   "execution_count": 20,
   "id": "verbal-israel",
   "metadata": {
    "ExecuteTime": {
     "end_time": "2021-04-08T12:31:15.176657Z",
     "start_time": "2021-04-08T12:31:15.167096Z"
    }
   },
   "outputs": [],
   "source": [
    "def sigmoidPrime2Layers(x):\n",
    "    w3v = w3.reshape(w3.shape[1],1)\n",
    "    expx = np.exp(-(w1.dot(x) + b1))\n",
    "    exp2 = np.exp(w2.dot(1/(1 + expx)) + b2)\n",
    "    p1 = w3v*(exp2 / (1 + exp2)**2)\n",
    "    p2 = expx / (1 + expx)**2\n",
    "    s = (w1.T).dot((w2.T).dot(p1) * p2)\n",
    "    return s"
   ]
  },
  {
   "cell_type": "code",
   "execution_count": 24,
   "id": "functional-research",
   "metadata": {
    "ExecuteTime": {
     "end_time": "2021-04-08T12:31:15.354468Z",
     "start_time": "2021-04-08T12:31:15.345573Z"
    }
   },
   "outputs": [
    {
     "data": {
      "text/plain": [
       "(132.0722278659824, 0.0005599218637349831, -0.9256411664152612)"
      ]
     },
     "execution_count": 24,
     "metadata": {},
     "output_type": "execute_result"
    }
   ],
   "source": [
    "derYieldStress1,derYieldStress2,derYieldStress3"
   ]
  },
  {
   "cell_type": "code",
   "execution_count": 25,
   "id": "excited-chile",
   "metadata": {
    "ExecuteTime": {
     "end_time": "2021-04-08T12:31:15.374609Z",
     "start_time": "2021-04-08T12:31:15.357771Z"
    }
   },
   "outputs": [
    {
     "data": {
      "text/plain": [
       "array([[0.64999785],\n",
       "       [0.90552119],\n",
       "       [0.65628871]])"
      ]
     },
     "execution_count": 25,
     "metadata": {},
     "output_type": "execute_result"
    }
   ],
   "source": [
    "x=np.array([[xepsp],[xdepsp],[xtemp]])\n",
    "x"
   ]
  },
  {
   "cell_type": "code",
   "execution_count": 26,
   "id": "trained-messenger",
   "metadata": {
    "ExecuteTime": {
     "end_time": "2021-04-08T12:31:15.386197Z",
     "start_time": "2021-04-08T12:31:15.376774Z"
    }
   },
   "outputs": [
    {
     "data": {
      "text/plain": [
       "array([[ 0.13510455],\n",
       "       [ 0.11148621],\n",
       "       [-0.45450889]])"
      ]
     },
     "execution_count": 26,
     "metadata": {},
     "output_type": "execute_result"
    }
   ],
   "source": [
    "if ('tanh' in ANN_name) : s = tanhPrime2Layers(x)\n",
    "elif ('sigmoid' in ANN_name) : s = sigmoidPrime2Layers(x)\n",
    "else : s = 0\n",
    "s"
   ]
  },
  {
   "cell_type": "code",
   "execution_count": 27,
   "id": "valid-cannon",
   "metadata": {
    "ExecuteTime": {
     "end_time": "2021-04-08T12:31:15.403687Z",
     "start_time": "2021-04-08T12:31:15.394218Z"
    }
   },
   "outputs": [
    {
     "data": {
      "text/plain": [
       "array([[977.55571504],\n",
       "       [ 90.34895996],\n",
       "       [  2.03657441]])"
      ]
     },
     "execution_count": 27,
     "metadata": {},
     "output_type": "execute_result"
    }
   ],
   "source": [
    "scaleOut = np.array([[rangeEntries[3]/rangeEntries[0]],[rangeEntries[3]/rangeEntries[1]],[rangeEntries[3]/rangeEntries[2]]])\n",
    "scaleOut"
   ]
  },
  {
   "cell_type": "code",
   "execution_count": 28,
   "id": "soviet-harrison",
   "metadata": {
    "ExecuteTime": {
     "end_time": "2021-04-08T12:31:15.415973Z",
     "start_time": "2021-04-08T12:31:15.407600Z"
    }
   },
   "outputs": [
    {
     "data": {
      "text/plain": [
       "array([[132.07222787],\n",
       "       [ 10.07266339],\n",
       "       [ -0.92564117]])"
      ]
     },
     "execution_count": 28,
     "metadata": {},
     "output_type": "execute_result"
    }
   ],
   "source": [
    "scaled = s*scaleOut\n",
    "scaled"
   ]
  },
  {
   "cell_type": "code",
   "execution_count": 29,
   "id": "driving-alaska",
   "metadata": {
    "ExecuteTime": {
     "end_time": "2021-04-08T12:31:15.544290Z",
     "start_time": "2021-04-08T12:31:15.424302Z"
    }
   },
   "outputs": [
    {
     "ename": "NameError",
     "evalue": "name 'deps' is not defined",
     "output_type": "error",
     "traceback": [
      "\u001b[0;31m---------------------------------------------------------------------------\u001b[0m",
      "\u001b[0;31mNameError\u001b[0m                                 Traceback (most recent call last)",
      "\u001b[0;32m<ipython-input-29-d78f60fae5d5>\u001b[0m in \u001b[0;36m<module>\u001b[0;34m\u001b[0m\n\u001b[0;32m----> 1\u001b[0;31m \u001b[0msigEpsNN\u001b[0m \u001b[0;34m=\u001b[0m \u001b[0mdeps\u001b[0m\u001b[0;34m\u001b[0m\u001b[0;34m\u001b[0m\u001b[0m\n\u001b[0m\u001b[1;32m      2\u001b[0m \u001b[0msigEps\u001b[0m \u001b[0;34m=\u001b[0m \u001b[0mscaled\u001b[0m\u001b[0;34m[\u001b[0m\u001b[0;36m0\u001b[0m\u001b[0;34m]\u001b[0m\u001b[0;34m[\u001b[0m\u001b[0;36m0\u001b[0m\u001b[0;34m]\u001b[0m\u001b[0;34m\u001b[0m\u001b[0;34m\u001b[0m\u001b[0m\n\u001b[1;32m      3\u001b[0m \u001b[0mprint\u001b[0m\u001b[0;34m(\u001b[0m\u001b[0msigEpsNN\u001b[0m\u001b[0;34m)\u001b[0m\u001b[0;34m\u001b[0m\u001b[0;34m\u001b[0m\u001b[0m\n\u001b[1;32m      4\u001b[0m \u001b[0mprint\u001b[0m\u001b[0;34m(\u001b[0m\u001b[0;34m'Ana : '\u001b[0m\u001b[0;34m,\u001b[0m\u001b[0msigEps\u001b[0m\u001b[0;34m,\u001b[0m \u001b[0mabs\u001b[0m\u001b[0;34m(\u001b[0m\u001b[0;34m(\u001b[0m\u001b[0msigEpsNN\u001b[0m\u001b[0;34m-\u001b[0m\u001b[0msigEps\u001b[0m\u001b[0;34m)\u001b[0m\u001b[0;34m/\u001b[0m\u001b[0msigEps\u001b[0m\u001b[0;34m)\u001b[0m\u001b[0;34m)\u001b[0m\u001b[0;34m\u001b[0m\u001b[0;34m\u001b[0m\u001b[0m\n",
      "\u001b[0;31mNameError\u001b[0m: name 'deps' is not defined"
     ]
    }
   ],
   "source": [
    "sigEpsNN = deps\n",
    "sigEps = scaled[0][0]\n",
    "print(sigEpsNN)\n",
    "print('Ana : ',sigEps, abs((sigEpsNN-sigEps)/sigEps))"
   ]
  },
  {
   "cell_type": "code",
   "execution_count": null,
   "id": "separate-warehouse",
   "metadata": {
    "ExecuteTime": {
     "end_time": "2021-04-08T12:31:15.554408Z",
     "start_time": "2021-04-08T12:31:14.518Z"
    }
   },
   "outputs": [],
   "source": [
    "scaled[1][0]/testData[0,1]"
   ]
  },
  {
   "cell_type": "code",
   "execution_count": null,
   "id": "given-worse",
   "metadata": {
    "ExecuteTime": {
     "end_time": "2021-04-08T12:31:15.556516Z",
     "start_time": "2021-04-08T12:31:14.524Z"
    }
   },
   "outputs": [],
   "source": [
    "sigEpspNN = scaled[1][0]/testData[0,1]\n",
    "print(sigEpspNN)\n",
    "print('Num : ',sigEpspN, abs((sigEpspNN-sigEpspN)/sigEpspN))\n",
    "print('Ana : ',sigEpsp, abs((sigEpspNN-sigEpsp)/sigEpsp))"
   ]
  },
  {
   "cell_type": "code",
   "execution_count": null,
   "id": "devoted-suspect",
   "metadata": {
    "ExecuteTime": {
     "end_time": "2021-04-08T12:31:15.558152Z",
     "start_time": "2021-04-08T12:31:14.530Z"
    }
   },
   "outputs": [],
   "source": [
    "sigTNN = scaled[2][0]\n",
    "print(sigTNN)\n",
    "print('Num : ',sigTN, abs((sigTNN-sigTN)/sigTN))\n",
    "print('Ana : ',sigT, abs((sigTNN-sigT)/sigT))"
   ]
  }
 ],
 "metadata": {
  "kernelspec": {
   "display_name": "Python 3",
   "language": "python",
   "name": "python3"
  },
  "language_info": {
   "codemirror_mode": {
    "name": "ipython",
    "version": 3
   },
   "file_extension": ".py",
   "mimetype": "text/x-python",
   "name": "python",
   "nbconvert_exporter": "python",
   "pygments_lexer": "ipython3",
   "version": "3.8.8"
  },
  "toc": {
   "base_numbering": 1,
   "nav_menu": {},
   "number_sections": false,
   "sideBar": true,
   "skip_h1_title": false,
   "title_cell": "Table of Contents",
   "title_sidebar": "Contents",
   "toc_cell": false,
   "toc_position": {
    "height": "calc(100% - 180px)",
    "left": "10px",
    "top": "150px",
    "width": "362.188px"
   },
   "toc_section_display": true,
   "toc_window_display": true
  },
  "varInspector": {
   "cols": {
    "lenName": 16,
    "lenType": 16,
    "lenVar": 40
   },
   "kernels_config": {
    "python": {
     "delete_cmd_postfix": "",
     "delete_cmd_prefix": "del ",
     "library": "var_list.py",
     "varRefreshCmd": "print(var_dic_list())"
    },
    "r": {
     "delete_cmd_postfix": ") ",
     "delete_cmd_prefix": "rm(",
     "library": "var_list.r",
     "varRefreshCmd": "cat(var_dic_list()) "
    }
   },
   "types_to_exclude": [
    "module",
    "function",
    "builtin_function_or_method",
    "instance",
    "_Feature"
   ],
   "window_display": false
  }
 },
 "nbformat": 4,
 "nbformat_minor": 5
}
