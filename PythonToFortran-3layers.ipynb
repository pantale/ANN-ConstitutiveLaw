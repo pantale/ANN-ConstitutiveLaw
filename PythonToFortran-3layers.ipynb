{
 "cells": [
  {
   "cell_type": "markdown",
   "id": "intellectual-romance",
   "metadata": {},
   "source": [
    "# Use of a Neural-Network for Constitutive Law"
   ]
  },
  {
   "cell_type": "markdown",
   "id": "vanilla-jimmy",
   "metadata": {},
   "source": [
    "Import all the useful libraries before first run\n",
    "We need here the classic ones such as:\n",
    "- math\n",
    "- numpy\n",
    "- pandas\n",
    "- matplotlib\n",
    "\n",
    "And for the Neural Network, we also need to import parts of the keras module of TensorFlow"
   ]
  },
  {
   "cell_type": "code",
   "execution_count": null,
   "id": "quality-batman",
   "metadata": {},
   "outputs": [],
   "source": [
    "import glob\n",
    "import math\n",
    "import numpy as np\n",
    "import pandas as pd\n",
    "import matplotlib.pyplot as plt\n",
    "from math import exp,log"
   ]
  },
  {
   "cell_type": "markdown",
   "id": "refined-phone",
   "metadata": {},
   "source": [
    "## Load the test database"
   ]
  },
  {
   "cell_type": "markdown",
   "id": "wrapped-knight",
   "metadata": {},
   "source": [
    "Read the Test database"
   ]
  },
  {
   "cell_type": "code",
   "execution_count": null,
   "id": "mighty-influence",
   "metadata": {},
   "outputs": [],
   "source": [
    "dataPath = 'ANN-JohnsonCook'\n",
    "read = np.load(dataPath + '/DatatestWithDerivatives.npz')\n",
    "testData = read['testData']\n",
    "nrows = testData.shape[0]\n",
    "eps_test = testData[:,0].reshape(nrows,1)\n",
    "epsp_test = testData[:,1].reshape(nrows,1)\n",
    "T_test = testData[:,2].reshape(nrows,1)\n",
    "sig_test = testData[:,3].reshape(nrows,1)"
   ]
  },
  {
   "cell_type": "markdown",
   "id": "charged-gross",
   "metadata": {},
   "source": [
    " ## Load the NN parameters"
   ]
  },
  {
   "cell_type": "code",
   "execution_count": null,
   "id": "widespread-wichita",
   "metadata": {
    "scrolled": false
   },
   "outputs": [],
   "source": [
    "ANN_name = '3-15-7-1-sigmoid'\n",
    "#ANN_name = '3-7-4-1-sigmoid'\n",
    "\n",
    "NN = np.load(dataPath + '/' + ANN_name + '.npz')\n",
    "print (NN.files)\n",
    "w1 = NN['w1']\n",
    "w2 = NN['w2']\n",
    "w3 = NN['w3']\n",
    "b1 = NN['b1']\n",
    "b2 = NN['b2']\n",
    "b3 = NN['b3']\n",
    "minEntries = NN['minEntries']\n",
    "maxEntries = NN['maxEntries']\n",
    "rangeEntries = maxEntries - minEntries\n",
    "logBase = NN['logBase']\n",
    "w1, b1, w2, b2, w3, b3, minEntries, maxEntries, rangeEntries, logBase"
   ]
  },
  {
   "cell_type": "markdown",
   "id": "sensitive-crossing",
   "metadata": {},
   "source": [
    "## Reshape data"
   ]
  },
  {
   "cell_type": "code",
   "execution_count": null,
   "id": "greatest-ocean",
   "metadata": {},
   "outputs": [],
   "source": [
    "epsp_test = np.log(epsp_test / logBase)\n",
    "inputTest = (np.hstack([eps_test, epsp_test, T_test]) - np.array(minEntries)[0:3]) / np.array(rangeEntries)[0:3]\n",
    "inputTest"
   ]
  },
  {
   "cell_type": "markdown",
   "id": "fiscal-equilibrium",
   "metadata": {},
   "source": [
    "## Functions to compute the ANN"
   ]
  },
  {
   "cell_type": "code",
   "execution_count": null,
   "id": "white-gilbert",
   "metadata": {},
   "outputs": [],
   "source": [
    "def tanh2Layers(inputData):\n",
    "    l1 = w1.dot(inputData) + b1\n",
    "    f1 = np.tanh(l1)\n",
    "    l2 = w2.dot(f1) + b2\n",
    "    f2 = np.tanh(l2)\n",
    "    sigP = w3.dot(f2) + b3\n",
    "    SigmaNN = sigP * rangeEntries[3] + minEntries[3]\n",
    "    return SigmaNN\n",
    "\n",
    "def tanhPrime2Layers(x):\n",
    "    w3v = w3.reshape(w3.shape[1],1)\n",
    "    tanhx = np.tanh(w1.dot(x) + b1)\n",
    "    p2 = w3v * (1 - np.tanh(w2.dot(tanhx) + b2)**2)\n",
    "    p3 = (w2.T).dot(p2)\n",
    "    p5 = p3 * (1 - tanhx**2)\n",
    "    s = (w1.T).dot(p5)\n",
    "    return s"
   ]
  },
  {
   "cell_type": "code",
   "execution_count": null,
   "id": "mobile-notice",
   "metadata": {},
   "outputs": [],
   "source": [
    "def sigmoid2Layers(inputData):\n",
    "    l1 = w1.dot(inputData) + b1\n",
    "    f1 = 1/(1 + np.exp(-l1))\n",
    "    l2 = w2.dot(f1) + b2\n",
    "    f2 = 1/(1 + np.exp(-l2))\n",
    "    sigP = w3.dot(f2) + b3\n",
    "    SigmaNN = sigP * rangeEntries[3] + minEntries[3]\n",
    "    return SigmaNN\n",
    "\n",
    "def sigmoidPrime2Layers(x):\n",
    "    w3v = w3.reshape(w3.shape[1],1)\n",
    "    expx = np.exp(-(w1.dot(x) + b1))\n",
    "    exp2 = np.exp(w2.dot(1/(1 + expx)) + b2)\n",
    "    p1 = w3v*(exp2 / (1 + exp2)**2)\n",
    "    p2 = expx / (1 + expx)**2\n",
    "    s = (w1.T).dot((w2.T).dot(p1) * p2)\n",
    "    return s"
   ]
  },
  {
   "cell_type": "markdown",
   "id": "floppy-turkish",
   "metadata": {},
   "source": [
    "Setup data"
   ]
  },
  {
   "cell_type": "code",
   "execution_count": null,
   "id": "democratic-delivery",
   "metadata": {},
   "outputs": [],
   "source": [
    "inp = inputTest.T\n",
    "sig = sig_test\n",
    "#inp, sig"
   ]
  },
  {
   "cell_type": "markdown",
   "id": "exotic-carol",
   "metadata": {},
   "source": [
    "Rebuild the real $\\sigma$"
   ]
  },
  {
   "cell_type": "code",
   "execution_count": null,
   "id": "chinese-detection",
   "metadata": {},
   "outputs": [],
   "source": [
    "if ('tanh' in ANN_name) : SigmaNN = tanh2Layers(inp)\n",
    "elif ('sigmoid' in ANN_name) : SigmaNN = sigmoid2Layers(inp)\n",
    "else : SigmaNN = 0\n",
    "SigmaNN"
   ]
  },
  {
   "cell_type": "code",
   "execution_count": null,
   "id": "f9f9bfb7",
   "metadata": {},
   "outputs": [],
   "source": [
    "if ('tanh' in ANN_name) : SigmaNNP = tanhPrime2Layers(inp)\n",
    "elif ('sigmoid' in ANN_name) : SigmaNNP = sigmoidPrime2Layers(inp)\n",
    "else : SigmaNNP = 0\n",
    "SigmaNNP"
   ]
  },
  {
   "cell_type": "markdown",
   "id": "f8027e80",
   "metadata": {},
   "source": [
    "## Generation of Fortran code"
   ]
  },
  {
   "cell_type": "code",
   "execution_count": null,
   "id": "physical-detail",
   "metadata": {},
   "outputs": [],
   "source": [
    "var = \"%.12f\"\n",
    "comment = 'C '\n",
    "cline = 'C **********************************************************************\\n'\n",
    "block =   '      '\n",
    "\n",
    "def splitFortranLine(line):\n",
    "    line=line.replace('| +',' +\\n     + ')\n",
    "    line=line.replace('| -',' -\\n     + ')\n",
    "    return line\n",
    "\n",
    "def toPython(line):\n",
    "    if (line[0]=='C'): line='#'+line[1:]\n",
    "    line = line.replace('|','')\n",
    "    line = line.replace(\"--\", \"+\")\n",
    "    line = line.replace(\"+-\", \"-\")\n",
    "    line = line.replace(\"(+\", \"(\")\n",
    "    line = line.replace('+',' + ')\n",
    "    line = line.replace('-',' - ')\n",
    "    line = line.replace('=  - ','=-')\n",
    "    line = line.replace('( - ','(-')\n",
    "    line = line.replace('  +  ',' + ')\n",
    "    line = line.replace('.000000000000','.0')\n",
    "    line = line + '\\n'\n",
    "    return line\n",
    "\n",
    "def toFortran(line):\n",
    "    line = line.replace(\"--\", \"+\")\n",
    "    line = line.replace(\"+-\", \"-\")\n",
    "    line = line.replace(\"(+\", \"(\")\n",
    "    line = line.replace('+',' + ')\n",
    "    line = line.replace('-',' - ')\n",
    "    line = line.replace('=  - ','=-')\n",
    "    line = line.replace('( - ','(-')\n",
    "    line = line.replace('  +  ',' + ')\n",
    "    line = line.replace('.000000000000','.0')\n",
    "    if (line[0]=='C'): line = line + '\\n'\n",
    "    else: line = block + line + '\\n'\n",
    "    line = splitFortranLine(line)\n",
    "    return line\n",
    "\n",
    "def vuhardHead():\n",
    "    code = cline\n",
    "    code += comment + 'Function to compute the ANN : ' + ANN_name + ' yield stress\\n'\n",
    "    code += cline\n",
    "    code += '      subroutine vuhard (\\n'\n",
    "    code += 'C Read only -\\n'\n",
    "    code += '     +  nblock, nElement, nIntPt, nLayer, nSecPt, lAnneal, stepTime,\\n'\n",
    "    code += '     +  totalTime, dt, cmname, nstatev, nfieldv, nprops, props,\\n'\n",
    "    code += '     +  tempOld, tempNew, fieldOld, fieldNew, stateOld, eqps, eqpsRate,\\n'\n",
    "#     code += '     1     nblock,\\n'\n",
    "#     code += '     2     nElement, nIntPt, nLayer, nSecPt,\\n'\n",
    "#     code += '     3     lAnneal, stepTime, totalTime, dt, cmname,\\n'\n",
    "#     code += '     4     nstatev, nfieldv, nprops,\\n'\n",
    "#     code += '     5     props, tempOld, tempNew, fieldOld, fieldNew,\\n'\n",
    "#     code += '     6     stateOld,\\n'\n",
    "#     code += '     7     eqps, eqpsRate,\\n'\n",
    "    code += 'C Write only -\\n'\n",
    "    code += '     +  yield, dyieldDtemp, dyieldDeqps, stateNew)\\n'\n",
    "#     code += '     8     yield, dyieldDtemp, dyieldDeqps,\\n'\n",
    "#     code += '     9     stateNew )\\n'\n",
    "    code += 'C\\n'\n",
    "    code += \"      include 'vaba_param.inc'\\n\"\n",
    "    code += 'C\\n'\n",
    "#     code += '      dimension nElement(nblock),\\n'\n",
    "    code += '      dimension nElement(nblock), props(nprops), tempOld(nblock),\\n'\n",
    "    code += '     +  fieldOld(nblock,nfieldv), stateOld(nblock,nstatev),\\n'\n",
    "    code += '     +  tempNew(nblock), fieldNew(nblock,nfieldv), eqps(nblock),\\n'\n",
    "    code += '     +  eqpsRate(nblock), yield(nblock), dyieldDtemp(nblock),\\n'\n",
    "    code += '     +  dyieldDeqps(nblock,2), stateNew(nblock,nstatev)\\n'\n",
    "#     code += '     1     props(nprops),\\n'\n",
    "#     code += '     2     tempOld(nblock),\\n'\n",
    "#     code += '     3     fieldOld(nblock,nfieldv),\\n'\n",
    "#     code += '     4     stateOld(nblock,nstatev),\\n'\n",
    "#     code += '     5     tempNew(nblock),\\n'\n",
    "#     code += '     6     fieldNew(nblock,nfieldv),\\n'\n",
    "#     code += '     7     eqps(nblock),\\n'\n",
    "#     code += '     8     eqpsRate(nblock),\\n'\n",
    "#     code += '     9     yield(nblock),\\n'\n",
    "#     code += '     1     dyieldDtemp(nblock),\\n'\n",
    "#     code += '     2     dyieldDeqps(nblock,2),\\n'\n",
    "#     code += '     3     stateNew(nblock,nstatev)\\n'\n",
    "    code += 'C\\n'\n",
    "    code += '      character*80 cmname\\n'\n",
    "    code += 'C\\n'\n",
    "    code += '      do k = 1, nblock\\n'\n",
    "    return code\n",
    "\n",
    "def vuhardTail():\n",
    "    code = '      end do\\n'\n",
    "    code += 'C\\n'\n",
    "    code += '      return\\n'\n",
    "    code += '      end\\n'\n",
    "    return code\n",
    "\n",
    "def encodeFunction(f,p,func):\n",
    "    f += toFortran(func)\n",
    "    p += toPython(func)\n",
    "    return f, p"
   ]
  },
  {
   "cell_type": "code",
   "execution_count": null,
   "id": "d7783d97",
   "metadata": {},
   "outputs": [],
   "source": [
    "code = ''\n",
    "test = ''\n",
    "\n",
    "code += vuhardHead()\n",
    "\n",
    "code, test = encodeFunction(code, test, comment + 'xepsp = (eqps(k)-minEntries[0]) / rangeEntries[0]')\n",
    "code, test = encodeFunction(code, test, 'xepsp = (eqps(k)-' + var%(minEntries[0]) + ')/' + var%(rangeEntries[0]))\n",
    "\n",
    "code, test = encodeFunction(code, test, comment + 'xdepsp = (log(depsp/logBase)-minEntries[1]) / rangeEntries[1]')\n",
    "code, test = encodeFunction(code, test, 'xdepsp = (log(eqpsRate(k)/' + var%(logBase[0]) + ')-' + var%(minEntries[1]) + ')/' + var%(rangeEntries[1]))\n",
    "\n",
    "code, test = encodeFunction(code, test, comment + 'xtemp = (temp-minEntries[2]) / rangeEntries[2]')\n",
    "code, test = encodeFunction(code, test, 'xtemp = (tempNew(k)-' + var%(minEntries[2])+')/' + var%(rangeEntries[2]))\n",
    "\n",
    "code, test = encodeFunction(code, test, comment + 'za = np.exp(-w1.dot(x) - b1)')\n",
    "for i in range(b1.shape[0]):\n",
    "    code, test = encodeFunction(code, test, 'za' + str(i) + \" = exp(-\" + var%(w1[i,0]) + '*xepsp-' + var%(w1[i,1]) + '*xdepsp|-' + var%(w1[i,2]) + '*xtemp-' + var%(b1[i,0]) + ')')\n",
    "\n",
    "code, test = encodeFunction(code, test, comment + 'zb = 1 + za')\n",
    "for i in range(b1.shape[0]):\n",
    "    code, test = encodeFunction(code, test, 'zb' + str(i) + \" = 1.0 + za\"+str(i))\n",
    "\n",
    "code, test = encodeFunction(code, test, comment + 'zc = w2.dot(zb) + b2')\n",
    "for i in range(b2.shape[0]):\n",
    "    line = 'zc' + str(i) + ' = exp(-'\n",
    "    for j in range(w2.shape[1]):\n",
    "        if (j!=0): line += '|-'\n",
    "        line += var%(w2[i,j]) + '/zb' + str(j)\n",
    "    line += \"|-\" + var%(b2[i,0]) + ')'\n",
    "    code, test = encodeFunction(code, test, line)\n",
    "    \n",
    "# code, test = encodeFunction(code, test, comment + 'xd = exp(-zc)')\n",
    "# for i in range(b2.shape[0]):\n",
    "#     line = 'xd'+str(i) + ' = exp(-zc' + str(i) + ')'\n",
    "#     code, test = encodeFunction(code, test, line)\n",
    "    \n",
    "code, test = encodeFunction(code, test, comment + 'y = w3.dot(xd) + b3')\n",
    "line = 'y = '\n",
    "for j in range(w3.shape[1]):\n",
    "    if (j!=0): line += '|+'\n",
    "    line += var%(w3[0,j]) + '/(1.0 + zc'+str(j)+')'\n",
    "line+=\"|+\" + var%(b3[0,0])\n",
    "code, test = encodeFunction(code, test, line)\n",
    "\n",
    "code, test = encodeFunction(code, test, comment + 'zd = w3v*(xd / (1 + zc)**2)')\n",
    "for i in range(b2.shape[0]):\n",
    "    line = 'zd' + str(i) + ' = ' + var%(w3[0,i]) + '*(zc'+str(i) + '/(1.0 + zc' + str(i) + ')**2)'\n",
    "    code, test = encodeFunction(code, test, line)\n",
    "\n",
    "code, test = encodeFunction(code, test, comment + 'ze = za / (1 + za)**2')\n",
    "for i in range(b1.shape[0]):\n",
    "    line = 'ze' + str(i) + ' = za'+str(i) + ' / zb'+str(i) + '**2'\n",
    "    code, test = encodeFunction(code, test, line)\n",
    "\n",
    "code, test = encodeFunction(code, test, comment + 'zf = (w2.T).dot(zd) * xd')\n",
    "for i in range(b1.shape[0]):\n",
    "    line = 'zf' + str(i) + ' = ('\n",
    "    for j in range(b2.shape[0]):\n",
    "        if(j>0): line += '|+'\n",
    "        line += var%(w2[j,i]) + '*zd' + str(j)\n",
    "    line += ')*ze' + str(i)\n",
    "    code, test = encodeFunction(code, test, line)\n",
    "    \n",
    "code, test = encodeFunction(code, test, comment + 'yd = (w1.T).dot(zf)')\n",
    "for i in range(w1.shape[1]):\n",
    "    line = 'yd' + str(i) + ' = '\n",
    "    for j in range(w1.shape[0]):\n",
    "        if (j>0): line += '|+'\n",
    "        line += var%(w1[j,i]) + '*zf' + str(j)\n",
    "    code, test = encodeFunction(code, test, line)\n",
    "\n",
    "line = 'Yield(k) = ' + var%(rangeEntries[3]) + '*y+' + var%(minEntries[3])\n",
    "code, test = encodeFunction(code, test, line)\n",
    "\n",
    "line = 'dyieldDeqps(k,1) = ' + var%(rangeEntries[3]/rangeEntries[0]) + '*yd0'\n",
    "code, test = encodeFunction(code, test, line)\n",
    "line = 'dyieldDeqps(k,2) = ' + var%(rangeEntries[3]/rangeEntries[1]) + '*yd1 / eqpsRate(k)'\n",
    "code, test = encodeFunction(code, test, line)\n",
    "line = 'dyieldDtemp(k) = ' + var%(rangeEntries[3]/rangeEntries[2]) + '*yd2'\n",
    "code, test = encodeFunction(code, test, line)\n",
    "\n",
    "code += vuhardTail()\n",
    "\n",
    "print(test)"
   ]
  },
  {
   "cell_type": "code",
   "execution_count": null,
   "id": "808ef168",
   "metadata": {},
   "outputs": [],
   "source": [
    "dataTestLine = 1\n",
    "eqps = testData[dataTestLine,0]\n",
    "eqpsRate = testData[dataTestLine,1]\n",
    "tempNew = testData[dataTestLine,2]"
   ]
  },
  {
   "cell_type": "markdown",
   "id": "10eeb0aa",
   "metadata": {},
   "source": [
    "### Paste content of test here after"
   ]
  },
  {
   "cell_type": "code",
   "execution_count": null,
   "id": "5440e534",
   "metadata": {},
   "outputs": [],
   "source": [
    "# xepsp = (eqps(k) - minEntries[0]) / rangeEntries[0]\n",
    "xepsp = (eqps - 0.0)/1.0\n",
    "# xdepsp = (log(depsp/logBase) - minEntries[1]) / rangeEntries[1]\n",
    "xdepsp = (log(eqpsRate/1.0) - 0.0)/10.819778284410\n",
    "# xtemp = (temp - minEntries[2]) / rangeEntries[2]\n",
    "xtemp = (tempNew - 20.0)/480.0\n",
    "# xa = np.exp(-w1.dot(x)  -  b1)\n",
    "\n",
    "# za = np.exp(-w1.dot(x)  -  b1)\n",
    "za0 = exp(0.171193018556*xepsp + 0.498235881329*xdepsp - 1.572309255600*xtemp + 0.549710810184)\n",
    "za1 = exp(0.182183891535*xepsp + 0.279642552137*xdepsp - 1.381547451019*xtemp + 1.007667899132)\n",
    "za2 = exp(0.121008850634*xepsp + 0.093622177839*xdepsp + 1.284856081009*xtemp - 1.146428942680)\n",
    "za3 = exp(-0.677952528000*xepsp - 0.785129725933*xdepsp + 3.600407361984*xtemp + 1.056580066681)\n",
    "za4 = exp(8.224933624268*xepsp - 0.102857425809*xdepsp + 1.170001864433*xtemp + 0.834357798100)\n",
    "za5 = exp(0.262212038040*xepsp + 0.370604902506*xdepsp - 1.530593752861*xtemp + 0.557993113995)\n",
    "za6 = exp(-0.363313168287*xepsp - 0.307944297791*xdepsp + 1.739808201790*xtemp + 0.515264987946)\n",
    "za7 = exp(0.171282619238*xepsp + 0.936020970345*xdepsp + 0.700896143913*xtemp + 0.525115251541)\n",
    "za8 = exp(2.934058904648*xepsp - 0.024969343096*xdepsp + 0.818501532078*xtemp - 0.164255663753)\n",
    "za9 = exp(0.298778355122*xepsp + 0.517931699753*xdepsp + 7.580852508545*xtemp + 1.864312648773)\n",
    "za10 = exp(-1.177027940750*xepsp + 0.308994054794*xdepsp + 1.684179663658*xtemp + 0.859441757202)\n",
    "za11 = exp(0.231339216232*xepsp + 0.290423154831*xdepsp - 1.502451419830*xtemp + 1.198348641396)\n",
    "za12 = exp(-235.784103393555*xepsp + 0.099293000996*xdepsp - 0.760096788406*xtemp - 0.819592595100)\n",
    "za13 = exp(23.344444274902*xepsp - 0.164729803801*xdepsp + 0.949119210243*xtemp + 0.500462353230)\n",
    "za14 = exp(-0.329279005527*xepsp - 0.054267201573*xdepsp + 1.555212616920*xtemp + 0.580829739571)\n",
    "# zb = 1 + za\n",
    "zb0 = 1.0 + za0\n",
    "zb1 = 1.0 + za1\n",
    "zb2 = 1.0 + za2\n",
    "zb3 = 1.0 + za3\n",
    "zb4 = 1.0 + za4\n",
    "zb5 = 1.0 + za5\n",
    "zb6 = 1.0 + za6\n",
    "zb7 = 1.0 + za7\n",
    "zb8 = 1.0 + za8\n",
    "zb9 = 1.0 + za9\n",
    "zb10 = 1.0 + za10\n",
    "zb11 = 1.0 + za11\n",
    "zb12 = 1.0 + za12\n",
    "zb13 = 1.0 + za13\n",
    "zb14 = 1.0 + za14\n",
    "# zc = w2.dot(zb) + b2\n",
    "zc0 = exp(-0.000755758665/zb0 - 0.348879784346/zb1 + 1.622294902802/zb2 + 1.744126558304/zb3 - 1.189603447914/zb4 - 0.773437738419/zb5 + 1.077992796898/zb6 - 0.195966541767/zb7 - 0.371459305286/zb8 + 2.175866603851/zb9 - 0.267415910959/zb10 - 0.117423757911/zb11 + 1.837396621704/zb12 + 1.631284832954/zb13 + 0.915312469006/zb14 + 0.220450609922)\n",
    "zc1 = exp(1.520736217499/zb0 + 0.598750412464/zb1 + 0.567928969860/zb2 - 0.733987450600/zb3 + 1.956816315651/zb4 + 0.990542054176/zb5 + 0.024108286947/zb6 + 0.921862065792/zb7 + 1.585801959038/zb8 + 0.359389543533/zb9 + 0.568457961082/zb10 + 0.462055325508/zb11 - 0.937371969223/zb12 - 0.713293492794/zb13 + 0.270313948393/zb14 + 0.580874204636)\n",
    "zc2 = exp(0.263961493969/zb0 - 0.340663641691/zb1 + 1.086898207664/zb2 + 0.190290063620/zb3 - 1.526942133904/zb4 - 0.134074971080/zb5 + 0.458628684282/zb6 + 0.210141628981/zb7 - 0.690639853477/zb8 + 0.559289455414/zb9 + 0.561830639839/zb10 - 0.010643188842/zb11 + 2.779141187668/zb12 - 2.203900575638/zb13 + 0.874182760715/zb14 + 0.327307760715)\n",
    "zc3 = exp(1.667145609856/zb0 + 1.261272549629/zb1 + 1.568691968918/zb2 + 1.300865530968/zb3 + 0.965722560883/zb4 + 1.076323390007/zb5 + 0.399949252605/zb6 + 2.976247072220/zb7 + 3.980113983154/zb8 + 1.212576389313/zb9 + 0.478132873774/zb10 + 1.447541594505/zb11 + 0.287288188934/zb12 + 0.847129225731/zb13 + 0.899507462978/zb14 + 0.965191483498)\n",
    "zc4 = exp(0.421280384064/zb0 + 0.564329922199/zb1 - 1.009604096413/zb2 - 0.335408806801/zb3 + 0.515781700611/zb4 + 0.189889833331/zb5 - 0.561685442924/zb6 + 0.274590790272/zb7 + 0.640589475632/zb8 + 0.454831272364/zb9 - 0.185221791267/zb10 + 1.204036474228/zb11 - 2.715961456299/zb12 + 2.415366411209/zb13 - 0.508277475834/zb14 - 0.001537762932)\n",
    "zc5 = exp(1.879916071892/zb0 + 1.522165775299/zb1 + 0.468759000301/zb2 - 1.417994260788/zb3 - 0.370010912418/zb4 + 2.718472957611/zb5 - 0.469961762428/zb6 + 2.314279079437/zb7 + 0.682480514050/zb8 + 1.616387128830/zb9 - 0.202725619078/zb10 + 1.451031565666/zb11 - 0.099444560707/zb12 + 1.293660640717/zb13 - 0.203722134233/zb14 + 0.991643249989)\n",
    "zc6 = exp(0.589749693871/zb0 + 0.571380496025/zb1 - 0.120540380478/zb2 - 0.763658463955/zb3 + 1.608781814575/zb4 + 0.913990020752/zb5 - 0.719076871872/zb6 + 1.206779360771/zb7 + 0.747950553894/zb8 + 0.689776837826/zb9 + 0.001232341980/zb10 + 0.592846393585/zb11 - 1.381900072098/zb12 - 0.327141195536/zb13 - 0.125081762671/zb14 + 0.179510131478)\n",
    "# y = w3.dot(xd) + b3\n",
    "y =-1.147175073624/(1.0 + zc0) + 0.396453082561/(1.0 + zc1) - 1.731730222702/(1.0 + zc2) + 0.341490298510/(1.0 + zc3) + 0.917140424252/(1.0 + zc4) + 0.416720062494/(1.0 + zc5) + 0.469032645226/(1.0 + zc6) - 0.399738907814\n",
    "# zd = w3v*(xd / (1 + zc)**2)\n",
    "zd0 =-1.147175073624*(zc0/(1.0 + zc0)**2)\n",
    "zd1 = 0.396453082561*(zc1/(1.0 + zc1)**2)\n",
    "zd2 =-1.731730222702*(zc2/(1.0 + zc2)**2)\n",
    "zd3 = 0.341490298510*(zc3/(1.0 + zc3)**2)\n",
    "zd4 = 0.917140424252*(zc4/(1.0 + zc4)**2)\n",
    "zd5 = 0.416720062494*(zc5/(1.0 + zc5)**2)\n",
    "zd6 = 0.469032645226*(zc6/(1.0 + zc6)**2)\n",
    "# ze = za / (1 + za)**2\n",
    "ze0 = za0 / zb0**2\n",
    "ze1 = za1 / zb1**2\n",
    "ze2 = za2 / zb2**2\n",
    "ze3 = za3 / zb3**2\n",
    "ze4 = za4 / zb4**2\n",
    "ze5 = za5 / zb5**2\n",
    "ze6 = za6 / zb6**2\n",
    "ze7 = za7 / zb7**2\n",
    "ze8 = za8 / zb8**2\n",
    "ze9 = za9 / zb9**2\n",
    "ze10 = za10 / zb10**2\n",
    "ze11 = za11 / zb11**2\n",
    "ze12 = za12 / zb12**2\n",
    "ze13 = za13 / zb13**2\n",
    "ze14 = za14 / zb14**2\n",
    "# zf = (w2.T).dot(zd) * xd\n",
    "zf0 = (0.000755758665*zd0 - 1.520736217499*zd1 - 0.263961493969*zd2 - 1.667145609856*zd3 - 0.421280384064*zd4 - 1.879916071892*zd5 - 0.589749693871*zd6)*ze0\n",
    "zf1 = (0.348879784346*zd0 - 0.598750412464*zd1 + 0.340663641691*zd2 - 1.261272549629*zd3 - 0.564329922199*zd4 - 1.522165775299*zd5 - 0.571380496025*zd6)*ze1\n",
    "zf2 = (-1.622294902802*zd0 - 0.567928969860*zd1 - 1.086898207664*zd2 - 1.568691968918*zd3 + 1.009604096413*zd4 - 0.468759000301*zd5 + 0.120540380478*zd6)*ze2\n",
    "zf3 = (-1.744126558304*zd0 + 0.733987450600*zd1 - 0.190290063620*zd2 - 1.300865530968*zd3 + 0.335408806801*zd4 + 1.417994260788*zd5 + 0.763658463955*zd6)*ze3\n",
    "zf4 = (1.189603447914*zd0 - 1.956816315651*zd1 + 1.526942133904*zd2 - 0.965722560883*zd3 - 0.515781700611*zd4 + 0.370010912418*zd5 - 1.608781814575*zd6)*ze4\n",
    "zf5 = (0.773437738419*zd0 - 0.990542054176*zd1 + 0.134074971080*zd2 - 1.076323390007*zd3 - 0.189889833331*zd4 - 2.718472957611*zd5 - 0.913990020752*zd6)*ze5\n",
    "zf6 = (-1.077992796898*zd0 - 0.024108286947*zd1 - 0.458628684282*zd2 - 0.399949252605*zd3 + 0.561685442924*zd4 + 0.469961762428*zd5 + 0.719076871872*zd6)*ze6\n",
    "zf7 = (0.195966541767*zd0 - 0.921862065792*zd1 - 0.210141628981*zd2 - 2.976247072220*zd3 - 0.274590790272*zd4 - 2.314279079437*zd5 - 1.206779360771*zd6)*ze7\n",
    "zf8 = (0.371459305286*zd0 - 1.585801959038*zd1 + 0.690639853477*zd2 - 3.980113983154*zd3 - 0.640589475632*zd4 - 0.682480514050*zd5 - 0.747950553894*zd6)*ze8\n",
    "zf9 = (-2.175866603851*zd0 - 0.359389543533*zd1 - 0.559289455414*zd2 - 1.212576389313*zd3 - 0.454831272364*zd4 - 1.616387128830*zd5 - 0.689776837826*zd6)*ze9\n",
    "zf10 = (0.267415910959*zd0 - 0.568457961082*zd1 - 0.561830639839*zd2 - 0.478132873774*zd3 + 0.185221791267*zd4 + 0.202725619078*zd5 - 0.001232341980*zd6)*ze10\n",
    "zf11 = (0.117423757911*zd0 - 0.462055325508*zd1 + 0.010643188842*zd2 - 1.447541594505*zd3 - 1.204036474228*zd4 - 1.451031565666*zd5 - 0.592846393585*zd6)*ze11\n",
    "zf12 = (-1.837396621704*zd0 + 0.937371969223*zd1 - 2.779141187668*zd2 - 0.287288188934*zd3 + 2.715961456299*zd4 + 0.099444560707*zd5 + 1.381900072098*zd6)*ze12\n",
    "zf13 = (-1.631284832954*zd0 + 0.713293492794*zd1 + 2.203900575638*zd2 - 0.847129225731*zd3 - 2.415366411209*zd4 - 1.293660640717*zd5 + 0.327141195536*zd6)*ze13\n",
    "zf14 = (-0.915312469006*zd0 - 0.270313948393*zd1 - 0.874182760715*zd2 - 0.899507462978*zd3 + 0.508277475834*zd4 + 0.203722134233*zd5 + 0.125081762671*zd6)*ze14\n",
    "# yd = (w1.T).dot(zf)\n",
    "yd0 =-0.171193018556*zf0 - 0.182183891535*zf1 - 0.121008850634*zf2 + 0.677952528000*zf3 - 8.224933624268*zf4 - 0.262212038040*zf5 + 0.363313168287*zf6 - 0.171282619238*zf7 - 2.934058904648*zf8 - 0.298778355122*zf9 + 1.177027940750*zf10 - 0.231339216232*zf11 + 235.784103393555*zf12 - 23.344444274902*zf13 + 0.329279005527*zf14\n",
    "yd1 =-0.498235881329*zf0 - 0.279642552137*zf1 - 0.093622177839*zf2 + 0.785129725933*zf3 + 0.102857425809*zf4 - 0.370604902506*zf5 + 0.307944297791*zf6 - 0.936020970345*zf7 + 0.024969343096*zf8 - 0.517931699753*zf9 - 0.308994054794*zf10 - 0.290423154831*zf11 - 0.099293000996*zf12 + 0.164729803801*zf13 + 0.054267201573*zf14\n",
    "yd2 = 1.572309255600*zf0 + 1.381547451019*zf1 - 1.284856081009*zf2 - 3.600407361984*zf3 - 1.170001864433*zf4 + 1.530593752861*zf5 - 1.739808201790*zf6 - 0.700896143913*zf7 - 0.818501532078*zf8 - 7.580852508545*zf9 - 1.684179663658*zf10 + 1.502451419830*zf11 + 0.760096788406*zf12 - 0.949119210243*zf13 - 1.555212616920*zf14\n",
    "\n",
    "Yield = 977.555715042962*y + 579.184642915415\n",
    "dyieldDeqps1 = 977.555715042962*yd0\n",
    "dyieldDeqps2 = 90.348959964501*yd1 / eqpsRate\n",
    "dyieldDtemp = 2.036574406340*yd2"
   ]
  },
  {
   "cell_type": "markdown",
   "id": "a9bd1ff7",
   "metadata": {},
   "source": [
    "### Check that results are OK"
   ]
  },
  {
   "cell_type": "code",
   "execution_count": null,
   "id": "eb450120",
   "metadata": {},
   "outputs": [],
   "source": [
    "print('Yield        : %g %g' %(Yield, SigmaNN[0,dataTestLine]))\n",
    "print('dyieldDeqps1 : %g %g' %(dyieldDeqps1, SigmaNNP[0,dataTestLine]*rangeEntries[3]/rangeEntries[0]))\n",
    "print('dyieldDeqps2 : %g %g' %(dyieldDeqps2, SigmaNNP[1,dataTestLine]*rangeEntries[3]/rangeEntries[1]/testData[dataTestLine,1]))\n",
    "print('dyieldDtemp  : %g %g' %(dyieldDtemp, SigmaNNP[2,dataTestLine]*rangeEntries[3]/rangeEntries[2]))"
   ]
  },
  {
   "cell_type": "markdown",
   "id": "c4d42c2c",
   "metadata": {},
   "source": [
    "## Get the Fortran code"
   ]
  },
  {
   "cell_type": "code",
   "execution_count": null,
   "id": "0583e98a",
   "metadata": {},
   "outputs": [],
   "source": [
    "print(code)"
   ]
  },
  {
   "cell_type": "markdown",
   "id": "20bdb78d",
   "metadata": {},
   "source": [
    "## Writes the fortran file"
   ]
  },
  {
   "cell_type": "code",
   "execution_count": null,
   "id": "communist-scholar",
   "metadata": {},
   "outputs": [],
   "source": [
    "text_file = open(dataPath+\"/VUHARD-ANN-\"+ANN_name+\".f\", \"w\")\n",
    "text_file.write(code)\n",
    "text_file.close()"
   ]
  },
  {
   "cell_type": "code",
   "execution_count": null,
   "id": "7c364682",
   "metadata": {},
   "outputs": [],
   "source": []
  }
 ],
 "metadata": {
  "kernelspec": {
   "display_name": "Python 3",
   "language": "python",
   "name": "python3"
  },
  "language_info": {
   "codemirror_mode": {
    "name": "ipython",
    "version": 3
   },
   "file_extension": ".py",
   "mimetype": "text/x-python",
   "name": "python",
   "nbconvert_exporter": "python",
   "pygments_lexer": "ipython3",
   "version": "3.8.8"
  },
  "toc": {
   "base_numbering": 1,
   "nav_menu": {},
   "number_sections": false,
   "sideBar": true,
   "skip_h1_title": false,
   "title_cell": "Table of Contents",
   "title_sidebar": "Contents",
   "toc_cell": false,
   "toc_position": {
    "height": "calc(100% - 180px)",
    "left": "10px",
    "top": "150px",
    "width": "362.188px"
   },
   "toc_section_display": true,
   "toc_window_display": true
  },
  "varInspector": {
   "cols": {
    "lenName": 16,
    "lenType": 16,
    "lenVar": 40
   },
   "kernels_config": {
    "python": {
     "delete_cmd_postfix": "",
     "delete_cmd_prefix": "del ",
     "library": "var_list.py",
     "varRefreshCmd": "print(var_dic_list())"
    },
    "r": {
     "delete_cmd_postfix": ") ",
     "delete_cmd_prefix": "rm(",
     "library": "var_list.r",
     "varRefreshCmd": "cat(var_dic_list()) "
    }
   },
   "types_to_exclude": [
    "module",
    "function",
    "builtin_function_or_method",
    "instance",
    "_Feature"
   ],
   "window_display": false
  }
 },
 "nbformat": 4,
 "nbformat_minor": 5
}
