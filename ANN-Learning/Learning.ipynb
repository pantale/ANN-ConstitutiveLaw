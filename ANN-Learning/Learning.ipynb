{
 "cells": [
  {
   "cell_type": "markdown",
   "id": "large-nomination",
   "metadata": {},
   "source": [
    "To allow inline pictures, run the following block"
   ]
  },
  {
   "cell_type": "code",
   "execution_count": null,
   "id": "nonprofit-roads",
   "metadata": {
    "ExecuteTime": {
     "end_time": "2021-03-03T13:11:23.522245Z",
     "start_time": "2021-03-03T13:11:23.112130Z"
    }
   },
   "outputs": [],
   "source": [
    "%matplotlib inline"
   ]
  },
  {
   "cell_type": "markdown",
   "id": "vanilla-jimmy",
   "metadata": {},
   "source": [
    "Import the useful libraries"
   ]
  },
  {
   "cell_type": "code",
   "execution_count": null,
   "id": "quality-batman",
   "metadata": {
    "ExecuteTime": {
     "end_time": "2021-03-03T13:11:23.788182Z",
     "start_time": "2021-03-03T13:11:23.524030Z"
    }
   },
   "outputs": [],
   "source": [
    "import numpy as np\n",
    "import scipy as sp\n",
    "import pandas as pd\n",
    "import matplotlib.pyplot as plt\n",
    "import math\n",
    "colors = ['red', 'green', 'blue', 'purple', 'slategrey', 'brown', 'darkorange', 'black']"
   ]
  },
  {
   "cell_type": "markdown",
   "id": "vulnerable-supervision",
   "metadata": {},
   "source": [
    "Data to read"
   ]
  },
  {
   "cell_type": "code",
   "execution_count": null,
   "id": "monetary-debut",
   "metadata": {
    "ExecuteTime": {
     "end_time": "2021-03-03T13:11:23.792848Z",
     "start_time": "2021-03-03T13:11:23.790388Z"
    }
   },
   "outputs": [],
   "source": [
    "dataPath = '../Generator'\n",
    "dataFile = 'JC-Experiments.xlsx'"
   ]
  },
  {
   "cell_type": "markdown",
   "id": "english-museum",
   "metadata": {},
   "source": [
    "To be sure that the **Experiments.xlsx** file is in the current directory, run the following block by clicking CTRL+ENTER"
   ]
  },
  {
   "cell_type": "code",
   "execution_count": null,
   "id": "studied-today",
   "metadata": {
    "ExecuteTime": {
     "end_time": "2021-03-03T13:11:23.803376Z",
     "start_time": "2021-03-03T13:11:23.794927Z"
    }
   },
   "outputs": [],
   "source": [
    "import os\n",
    "print(\"List of files of directory:\", os.path.abspath(os.getcwd()+'/'+dataPath))\n",
    "os.listdir(os.getcwd()+'/'+dataPath)"
   ]
  },
  {
   "cell_type": "markdown",
   "id": "consecutive-closure",
   "metadata": {},
   "source": [
    "Read the content of the Excel file using the pandas library method read_excel."
   ]
  },
  {
   "cell_type": "code",
   "execution_count": null,
   "id": "external-finance",
   "metadata": {
    "ExecuteTime": {
     "end_time": "2021-03-03T13:11:24.093711Z",
     "start_time": "2021-03-03T13:11:23.805261Z"
    }
   },
   "outputs": [],
   "source": [
    "excelData = pd.read_excel(dataPath+'/'+dataFile, None)"
   ]
  },
  {
   "cell_type": "markdown",
   "id": "exposed-accessory",
   "metadata": {},
   "source": [
    "Extract list of temperatures from the name of sheets"
   ]
  },
  {
   "cell_type": "code",
   "execution_count": null,
   "id": "manufactured-blake",
   "metadata": {
    "ExecuteTime": {
     "end_time": "2021-03-03T13:11:24.100079Z",
     "start_time": "2021-03-03T13:11:24.095090Z"
    }
   },
   "outputs": [],
   "source": [
    "len(excelData)\n",
    "temperatures = []\n",
    "temps = list(excelData.keys())\n",
    "for T in temps:\n",
    "    temperatures.append(int(T.replace('°C','')))\n",
    "temperaturesOrig = temperatures\n",
    "nTemp = len(temperatures)\n",
    "nTemp, temperatures"
   ]
  },
  {
   "cell_type": "markdown",
   "id": "square-tunnel",
   "metadata": {},
   "source": [
    "Get the values of epsp"
   ]
  },
  {
   "cell_type": "code",
   "execution_count": null,
   "id": "chicken-blond",
   "metadata": {
    "ExecuteTime": {
     "end_time": "2021-03-03T13:11:24.106660Z",
     "start_time": "2021-03-03T13:11:24.101543Z"
    }
   },
   "outputs": [],
   "source": [
    "dataSheet = excelData[str(temperatures[0])+'°C']\n",
    "epsp = []\n",
    "for i in range(1, dataSheet.shape[1]):\n",
    "    epsp.append(dataSheet.columns[i])\n",
    "epspOrig = epsp\n",
    "nEpsp = len(epsp)\n",
    "nEpsp, epsp"
   ]
  },
  {
   "cell_type": "markdown",
   "id": "amended-child",
   "metadata": {},
   "source": [
    "Extract data from the panda sheets"
   ]
  },
  {
   "cell_type": "code",
   "execution_count": null,
   "id": "north-begin",
   "metadata": {
    "ExecuteTime": {
     "end_time": "2021-03-03T13:11:24.114098Z",
     "start_time": "2021-03-03T13:11:24.109319Z"
    }
   },
   "outputs": [],
   "source": [
    "# Read first sheet\n",
    "dataSheet = excelData[str(temperatures[0])+'°C']\n",
    "data = dataSheet.values\n",
    "eps = data[:,0]\n",
    "sig = data[:,1:]\n",
    "# Append the other sheets\n",
    "for T in temperatures[1:]:\n",
    "    dataSheet = excelData[str(T)+'°C']\n",
    "    data = dataSheet.values\n",
    "    sig = np.append(sig, data[:,1:], axis=1)\n",
    "nEps = len(eps)"
   ]
  },
  {
   "cell_type": "code",
   "execution_count": null,
   "id": "broad-course",
   "metadata": {
    "ExecuteTime": {
     "end_time": "2021-03-03T13:11:24.125713Z",
     "start_time": "2021-03-03T13:11:24.117771Z"
    }
   },
   "outputs": [],
   "source": [
    "temperatures = np.array(temperatures)\n",
    "epsp = np.array(epsp)\n",
    "epsp = np.log(epsp/epsp.min())\n",
    "epspArray = np.tile(epsp,temperatures.shape[0])\n",
    "temperaturesArray = temperatures.repeat(epsp.shape[0])\n",
    "epspArray, temperaturesArray"
   ]
  },
  {
   "cell_type": "code",
   "execution_count": null,
   "id": "automated-lightning",
   "metadata": {
    "ExecuteTime": {
     "end_time": "2021-03-03T13:11:24.139141Z",
     "start_time": "2021-03-03T13:11:24.128042Z"
    }
   },
   "outputs": [],
   "source": [
    "entries = np.empty([epspArray.shape[0]*eps.shape[0], 4])\n",
    "row = 0\n",
    "colEps = 0\n",
    "colEpsp = 1\n",
    "colT = 2\n",
    "colSig = 3\n",
    "for i in range(epspArray.shape[0]):\n",
    "    for j in range(eps.shape[0]):\n",
    "        entries[row, colEps] = eps[j]\n",
    "        entries[row, colEpsp] = epspArray[i]\n",
    "        entries[row, colT] = temperaturesArray[i]\n",
    "        entries[row, colSig] = sig[j,i]\n",
    "        row += 1\n",
    "entries"
   ]
  },
  {
   "cell_type": "code",
   "execution_count": null,
   "id": "hearing-tuition",
   "metadata": {
    "ExecuteTime": {
     "end_time": "2021-03-03T13:11:24.143760Z",
     "start_time": "2021-03-03T13:11:24.141041Z"
    }
   },
   "outputs": [],
   "source": [
    "maxEntries = entries.max(axis=0)\n",
    "maxEntries"
   ]
  },
  {
   "cell_type": "code",
   "execution_count": null,
   "id": "foster-factor",
   "metadata": {
    "ExecuteTime": {
     "end_time": "2021-03-03T13:11:24.150245Z",
     "start_time": "2021-03-03T13:11:24.145547Z"
    }
   },
   "outputs": [],
   "source": [
    "NNentries = entries / np.array(maxEntries)\n",
    "NNentries"
   ]
  },
  {
   "cell_type": "code",
   "execution_count": null,
   "id": "grateful-albany",
   "metadata": {
    "ExecuteTime": {
     "end_time": "2021-03-03T13:11:24.157571Z",
     "start_time": "2021-03-03T13:11:24.151780Z"
    }
   },
   "outputs": [],
   "source": [
    "np.save('Entries.npy', entries)\n",
    "np.save('NN-Entries.npy', NNentries)"
   ]
  },
  {
   "cell_type": "code",
   "execution_count": null,
   "id": "silver-deployment",
   "metadata": {
    "ExecuteTime": {
     "end_time": "2021-03-03T13:11:30.735250Z",
     "start_time": "2021-03-03T13:11:24.159443Z"
    }
   },
   "outputs": [],
   "source": [
    "for T in temperatures:\n",
    "    plt.figure(figsize = (10.5, 7))\n",
    "    plt.rc('text', usetex = True)\n",
    "    cl = 0\n",
    "    for epspv, epspvv in zip(epsp,epspOrig):\n",
    "        # filter on T\n",
    "        data = NNentries[(entries[:,colT]==T) & (entries[:,colEpsp]==epspv), :]\n",
    "        # Plot the curves\n",
    "        plt.plot(data[:,colEps], data[:,colSig], colors[cl], label=r'$\\dot{\\overline{\\varepsilon}^p}=' + str(epspvv) + '\\ s^{-1}$', marker = 'o', linestyle='none')\n",
    "        cl += 1\n",
    "    plt.legend(loc = 'lower right',fancybox = True, numpoints = 1, fontsize = 14)\n",
    "    plt.grid() # Plot the grid with default size\n",
    "    plt.xlabel(r'$Deformation\\ \\overline{\\varepsilon}^{p}$', fontsize = 16) # Labels the x axis\n",
    "    plt.ylabel(r'$Stress\\ \\overline{\\sigma}$', fontsize = 16) # Labels the y axis\n",
    "    plt.title(r'$' + str(T) + '^{\\circ}C$', fontsize = 16) # Self explicit command\n",
    "    plt.savefig('OriginalData'+str(T)+'.svg', bbox_inches = 'tight', pad_inches = 0)\n",
    "    plt.show()"
   ]
  },
  {
   "cell_type": "markdown",
   "id": "latin-council",
   "metadata": {},
   "source": [
    "## Mise en forme des données pour le RNN"
   ]
  },
  {
   "cell_type": "code",
   "execution_count": null,
   "id": "selected-edwards",
   "metadata": {
    "ExecuteTime": {
     "end_time": "2021-03-03T13:11:30.747153Z",
     "start_time": "2021-03-03T13:11:30.737049Z"
    }
   },
   "outputs": [],
   "source": [
    "NNinput = NNentries[:,colEps:colSig]\n",
    "NNoutput = NNentries[:,colSig]\n",
    "NNinput.shape, NNoutput.shape"
   ]
  },
  {
   "cell_type": "markdown",
   "id": "alternate-poison",
   "metadata": {
    "ExecuteTime": {
     "end_time": "2021-03-02T13:40:24.550645Z",
     "start_time": "2021-03-02T13:40:24.538720Z"
    }
   },
   "source": [
    "Construction du Réseau de Neurones"
   ]
  },
  {
   "cell_type": "code",
   "execution_count": null,
   "id": "streaming-artist",
   "metadata": {
    "ExecuteTime": {
     "end_time": "2021-03-03T13:11:32.808168Z",
     "start_time": "2021-03-03T13:11:30.753156Z"
    }
   },
   "outputs": [],
   "source": [
    "# Importation de TensorFlow \n",
    "import numpy as np\n",
    "from keras.models import Sequential\n",
    "from keras.metrics import MeanSquaredError\n",
    "from keras.layers.core import Dense, Activation\n",
    "from keras import optimizers"
   ]
  },
  {
   "cell_type": "code",
   "execution_count": null,
   "id": "incomplete-ranch",
   "metadata": {
    "ExecuteTime": {
     "end_time": "2021-03-03T13:11:32.812272Z",
     "start_time": "2021-03-03T13:11:32.809641Z"
    }
   },
   "outputs": [],
   "source": [
    "models = []\n",
    "convergenceCurves = []\n",
    "modelsDescription = []"
   ]
  },
  {
   "cell_type": "code",
   "execution_count": null,
   "id": "dress-master",
   "metadata": {
    "ExecuteTime": {
     "end_time": "2021-03-03T13:11:33.092678Z",
     "start_time": "2021-03-03T13:11:32.813761Z"
    }
   },
   "outputs": [],
   "source": [
    "#FACT = ['relu', 'sigmoid', 'tanh']\n",
    "#COUCH = [3, 5, 7, 9]\n",
    "FACT = ['tanh']\n",
    "COUCH = [5, 7, 9]\n",
    "for c in COUCH:\n",
    "    for f in FACT:\n",
    "        model=Sequential()\n",
    "        model.add(Dense(c, input_dim=3, activation=f))\n",
    "        model.add(Dense(1))\n",
    "        models.append(model)\n",
    "        modelsDescription.append(\"3-\"+str(c)+\"-1-\"+f)"
   ]
  },
  {
   "cell_type": "raw",
   "id": "french-majority",
   "metadata": {
    "ExecuteTime": {
     "end_time": "2021-03-03T09:04:55.607483Z",
     "start_time": "2021-03-03T09:04:55.460645Z"
    }
   },
   "source": [
    "#Création du modèle 1\n",
    "model=Sequential()\n",
    "model.add(Dense(4, input_dim=3, activation='relu'))\n",
    "model.add(Dense(1))\n",
    "#model.summary()\n",
    "models.append(model)\n",
    "modelsDescription.append(\"3-4-1 relu\")"
   ]
  },
  {
   "cell_type": "code",
   "execution_count": null,
   "id": "super-girlfriend",
   "metadata": {
    "ExecuteTime": {
     "end_time": "2021-03-03T13:11:33.182446Z",
     "start_time": "2021-03-03T13:11:33.094222Z"
    }
   },
   "outputs": [],
   "source": [
    "for model in models:\n",
    "    model.compile(loss='mean_squared_error', optimizer='adam', metrics=['accuracy'])"
   ]
  },
  {
   "cell_type": "code",
   "execution_count": null,
   "id": "chubby-tract",
   "metadata": {
    "ExecuteTime": {
     "end_time": "2021-03-03T13:11:33.189593Z",
     "start_time": "2021-03-03T13:11:33.183977Z"
    }
   },
   "outputs": [],
   "source": [
    "#model.compile(loss='mean_squared_error', optimizer='adam', metrics=['accuracy'])\n",
    "#model.compile(loss='mse', optimizer='adams', metrics=[MeanSquaredError()])"
   ]
  },
  {
   "cell_type": "code",
   "execution_count": null,
   "id": "soviet-struggle",
   "metadata": {
    "ExecuteTime": {
     "end_time": "2021-03-03T13:27:23.672477Z",
     "start_time": "2021-03-03T13:11:33.191103Z"
    },
    "scrolled": true
   },
   "outputs": [],
   "source": [
    "j = 1\n",
    "iterations = 20\n",
    "for model in models:\n",
    "    hist = np.array([])\n",
    "    print(\"MODEL :\", modelsDescription[j-1])\n",
    "    for i in range(iterations):\n",
    "        history = model.fit(NNinput, NNoutput, epochs=1000, verbose=0)\n",
    "        loss = history.history['loss']\n",
    "        hist = np.append(hist,loss[::10])\n",
    "        print(\"Iteration :\", i+1, \"/\",iterations,\"->\",loss[-1],\"         \", end='\\r')\n",
    "    print(\"\\n\")\n",
    "    convergenceCurves.append(hist)\n",
    "    j+=1"
   ]
  },
  {
   "cell_type": "code",
   "execution_count": null,
   "id": "tender-retro",
   "metadata": {
    "ExecuteTime": {
     "end_time": "2021-03-03T13:27:23.699172Z",
     "start_time": "2021-03-03T13:11:23.439Z"
    },
    "scrolled": true
   },
   "outputs": [],
   "source": [
    "plt.figure(figsize = (15.2, 10.75))\n",
    "plt.rc('text', usetex = True)\n",
    "i=0\n",
    "x = np.linspace(0,10*len(convergenceCurves[0]),len(convergenceCurves[0]))\n",
    "for model in models:\n",
    "    plt.plot(x, convergenceCurves[i], label=modelsDescription[i], linewidth=3)\n",
    "    i+=1\n",
    "plt.grid() # Plot the grid with default size\n",
    "plt.xlabel(r'$Iteration$', fontsize = 16) # Labels the x axis\n",
    "plt.ylim(0, 5e-3)\n",
    "plt.ylabel(r'$Quadratic\\ Error\\ \\Delta E$', fontsize = 16) # Labels the y axis\n",
    "plt.title(r'$Global\\ convergence\\ of\\ the\\ Neural\\ Network$', fontsize = 16) # Self explicit command\n",
    "plt.legend(loc = 'upper right',fancybox = True, numpoints = 1, fontsize = 14)\n",
    "plt.savefig('Convergence.svg', bbox_inches = 'tight', pad_inches = 0)\n",
    "plt.show()"
   ]
  },
  {
   "cell_type": "code",
   "execution_count": null,
   "id": "bibliographic-racing",
   "metadata": {
    "ExecuteTime": {
     "end_time": "2021-03-03T13:27:23.700559Z",
     "start_time": "2021-03-03T13:11:23.442Z"
    },
    "scrolled": true
   },
   "outputs": [],
   "source": [
    "i=0\n",
    "for model in models:\n",
    "    predictedOutput = model.predict(NNinput)\n",
    "    plotPredicted=predictedOutput.reshape(nEpsp*nTemp, nEps).T\n",
    "    plotPredicted\n",
    "    pcol = 0\n",
    "    plt.figure(figsize = (15, 18))\n",
    "    plt.rc('text', usetex = True)\n",
    "    idx = 1\n",
    "    plt.subplots_adjust(hspace = 0.3)\n",
    "    for T, TOrig in zip(temperatures, temperaturesOrig):\n",
    "        cl = 0\n",
    "        plt.subplot(3, 2, idx)\n",
    "        for epspv, epspvAff in zip(epsp, epspOrig):\n",
    "            # filter on T\n",
    "            data = NNentries[(entries[:,colT]==T) & (entries[:,colEpsp]==epspv), :]\n",
    "            # Plot the curves\n",
    "            plt.plot(data[:,colEps], data[:,colSig], colors[cl], label=r'$\\dot{\\overline{\\varepsilon}^p}=' + str(epspvAff) + '\\ s^{-1}$', marker = 'o', linestyle='none')\n",
    "            plt.plot(data[:,colEps], plotPredicted[:,pcol], colors[cl], linewidth = 3)\n",
    "            cl += 1\n",
    "            pcol += 1\n",
    "        plt.legend(loc = 'lower right',fancybox = True, numpoints = 1, fontsize = 14)\n",
    "        plt.grid() # Plot the grid with default size\n",
    "        plt.xlabel(r'$Deformation\\ \\overline{\\varepsilon}^{p}$', fontsize = 16) # Labels the x axis\n",
    "        plt.ylabel(r'$Stress\\ \\overline{\\sigma}$', fontsize = 16) # Labels the y axis\n",
    "        plt.title(r'$NN-'+modelsDescription[i] +'-'+ str(T) + '^{\\circ}C$', fontsize = 16) # Self explicit command\n",
    "        idx += 1\n",
    "    plt.savefig('NN-'+modelsDescription[i]+'.svg', bbox_inches = 'tight', pad_inches = 0)\n",
    "    plt.show()\n",
    "    i+=1"
   ]
  },
  {
   "cell_type": "raw",
   "id": "noble-sandwich",
   "metadata": {},
   "source": [
    "i=0\n",
    "for model in models:\n",
    "    predictedOutput = model.predict(NNinput)\n",
    "    plotPredicted=predictedOutput.reshape(25,50).T\n",
    "    plotPredicted\n",
    "    pcol = 0\n",
    "    for T, TOrig in zip(temperatures,temperaturesOrig):\n",
    "        cl = 0\n",
    "        plt.figure(figsize = (10.5, 7))\n",
    "        plt.rc('text', usetex = True)\n",
    "        for epspv, epspvAff in zip(epsp,epspOrig):\n",
    "            # filter on T\n",
    "            data = NNentries[(entries[:,colT]==T) & (entries[:,colEpsp]==epspv), :]\n",
    "            # Plot the curves\n",
    "            plt.plot(data[:,colEps], data[:,colSig], colors[cl], label=r'$\\dot{\\overline{\\varepsilon}^p}=' + str(epspvAff) + '\\ s^{-1}$', marker = 'o', linestyle='none')\n",
    "            plt.plot(data[:,colEps], plotPredicted[:,pcol], colors[cl], linewidth = 3)\n",
    "            cl += 1\n",
    "            pcol += 1\n",
    "        plt.legend(loc = 'lower right',fancybox = True, numpoints = 1, fontsize = 14)\n",
    "        plt.grid() # Plot the grid with default size\n",
    "        plt.xlabel(r'$Deformation\\ \\overline{\\varepsilon}^{p}$', fontsize = 16) # Labels the x axis\n",
    "        plt.ylabel(r'$Stress\\ \\overline{\\sigma}$', fontsize = 16) # Labels the y axis\n",
    "        plt.title(r'$NN-'+modelsDescription[i] +'-'+ str(T) + '^{\\circ}C$', fontsize = 16) # Self explicit command\n",
    "        plt.savefig('NN-'+modelsDescription[i]+str(T)+'.svg', bbox_inches = 'tight', pad_inches = 0)\n",
    "        plt.show()\n",
    "    i+=1"
   ]
  },
  {
   "cell_type": "code",
   "execution_count": null,
   "id": "threatened-spelling",
   "metadata": {
    "ExecuteTime": {
     "end_time": "2021-03-03T13:27:23.702123Z",
     "start_time": "2021-03-03T13:11:23.484Z"
    },
    "scrolled": true
   },
   "outputs": [],
   "source": [
    "for model, modName in zip(models, modelsDescription):\n",
    "    model.save_weights(modName)"
   ]
  },
  {
   "cell_type": "raw",
   "id": "prerequisite-thunder",
   "metadata": {
    "ExecuteTime": {
     "end_time": "2021-03-02T17:49:30.065371Z",
     "start_time": "2021-03-02T17:49:30.058796Z"
    }
   },
   "source": [
    "model=models[-1]"
   ]
  },
  {
   "cell_type": "raw",
   "id": "velvet-character",
   "metadata": {
    "ExecuteTime": {
     "end_time": "2021-03-02T17:49:31.711838Z",
     "start_time": "2021-03-02T17:49:31.643712Z"
    }
   },
   "source": [
    "predictedOutput = model.predict(NNinput)\n",
    "plotPredicted=predictedOutput.reshape(25,50).T\n",
    "plotPredicted"
   ]
  },
  {
   "cell_type": "raw",
   "id": "premier-prize",
   "metadata": {
    "ExecuteTime": {
     "end_time": "2021-03-02T17:49:34.180263Z",
     "start_time": "2021-03-02T17:49:33.119975Z"
    }
   },
   "source": [
    "pcol = 0\n",
    "for T, TOrig in zip(temperatures,temperaturesOrig):\n",
    "    cl = 0\n",
    "    plt.figure(figsize = (10.5, 7))\n",
    "    plt.rc('text', usetex = True)\n",
    "    for epspv, epspvAff in zip(epsp,epspOrig):\n",
    "        # filter on T\n",
    "        data = NNentries[(entries[:,colT]==T) & (entries[:,colEpsp]==epspv), :]\n",
    "        # Plot the curves\n",
    "        plt.plot(data[:,colEps], data[:,colSig], colors[cl], label=r'$\\dot{\\overline{\\varepsilon}^p}=' + str(epspvAff) + '\\ s^{-1}$', marker = 'o', linestyle='none')\n",
    "        plt.plot(data[:,colEps], plotPredicted[:,pcol], colors[cl], linewidth = 3)\n",
    "        cl += 1\n",
    "        pcol += 1\n",
    "    plt.legend(loc = 'lower right',fancybox = True, numpoints = 1, fontsize = 14)\n",
    "    plt.grid() # Plot the grid with default size\n",
    "    plt.xlabel(r'$Deformation\\ \\overline{\\varepsilon}^{p}$', fontsize = 16) # Labels the x axis\n",
    "    plt.ylabel(r'$Stress\\ \\overline{\\sigma}$', fontsize = 16) # Labels the y axis\n",
    "    plt.title(r'$' + str(T) + '^{\\circ}C$', fontsize = 16) # Self explicit command\n",
    "    #plt.savefig('NN-Performance'+str(T)+'.svg', bbox_inches = 'tight', pad_inches = 0)\n",
    "    plt.show()"
   ]
  },
  {
   "cell_type": "raw",
   "id": "cognitive-oxygen",
   "metadata": {
    "ExecuteTime": {
     "end_time": "2021-03-02T17:49:35.492150Z",
     "start_time": "2021-03-02T17:49:35.476878Z"
    }
   },
   "source": [
    "i=1\n",
    "for layer in model.layers:\n",
    "    print(\"\\nLayer \",i)\n",
    "    W = layer.get_weights()\n",
    "    w = W[0]\n",
    "    b = W[1]\n",
    "    print(\"Weights : \", w.shape, w)\n",
    "    print(\"Bias : \", b.shape, b)\n",
    "    np.save('W'+str(i)+'.npy', w)\n",
    "    np.save('b'+str(i)+'.npy', b)\n",
    "    i+=1"
   ]
  },
  {
   "cell_type": "code",
   "execution_count": null,
   "id": "infectious-kitty",
   "metadata": {},
   "outputs": [],
   "source": []
  }
 ],
 "metadata": {
  "kernelspec": {
   "display_name": "Python 3",
   "language": "python",
   "name": "python3"
  },
  "language_info": {
   "codemirror_mode": {
    "name": "ipython",
    "version": 3
   },
   "file_extension": ".py",
   "mimetype": "text/x-python",
   "name": "python",
   "nbconvert_exporter": "python",
   "pygments_lexer": "ipython3",
   "version": "3.8.5"
  },
  "toc": {
   "base_numbering": 1,
   "nav_menu": {},
   "number_sections": true,
   "sideBar": true,
   "skip_h1_title": false,
   "title_cell": "Table of Contents",
   "title_sidebar": "Contents",
   "toc_cell": false,
   "toc_position": {},
   "toc_section_display": true,
   "toc_window_display": true
  },
  "varInspector": {
   "cols": {
    "lenName": 16,
    "lenType": 16,
    "lenVar": 40
   },
   "kernels_config": {
    "python": {
     "delete_cmd_postfix": "",
     "delete_cmd_prefix": "del ",
     "library": "var_list.py",
     "varRefreshCmd": "print(var_dic_list())"
    },
    "r": {
     "delete_cmd_postfix": ") ",
     "delete_cmd_prefix": "rm(",
     "library": "var_list.r",
     "varRefreshCmd": "cat(var_dic_list()) "
    }
   },
   "types_to_exclude": [
    "module",
    "function",
    "builtin_function_or_method",
    "instance",
    "_Feature"
   ],
   "window_display": false
  }
 },
 "nbformat": 4,
 "nbformat_minor": 5
}
